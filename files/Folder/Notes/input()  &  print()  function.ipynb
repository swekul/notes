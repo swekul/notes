{
 "cells": [
  {
   "cell_type": "code",
   "execution_count": null,
   "metadata": {},
   "outputs": [],
   "source": [
    "######   #########  #########  Input() and print() function   ####   ##########    ##########   #########"
   ]
  },
  {
   "cell_type": "code",
   "execution_count": null,
   "metadata": {},
   "outputs": [],
   "source": [
    " ##########   #####   Input() function    #######   ########\n",
    "    \n",
    " =>  input() is used in pythopn for taking inputs from user. \n",
    " =>  Whatever we enters as an input, input() converts it in a string and store them in a string.\n",
    " =>  When input() function executes program flow will be stopped until the user has given an input.\n",
    " =>  The text or message display on the output screen to ask a user to enter input value is optional \n",
    "        i.e. the prompt, will be printed on the screen is optional.\n",
    " =>  Whatever you enter as input, input function convert it into a string. \n",
    "      If you enter an integer value still input() function convert it into a string. \n",
    "       You need to explicitly convert it into an integer in your code using typecasting."
   ]
  },
  {
   "cell_type": "code",
   "execution_count": null,
   "metadata": {},
   "outputs": [],
   "source": [
    "# Python program to demonstarte the working of input() function\n",
    "var = input(\"Enter any value : \")\n",
    "print (var)\n",
    "print (type(var))        # This type() tells the type of value stored in the var variable.\n"
   ]
  },
  {
   "cell_type": "code",
   "execution_count": null,
   "metadata": {},
   "outputs": [],
   "source": [
    "#    Taking multiple inputs at a time in python\n",
    " =>  split() is used to take multiple inputs at atime in python.\n",
    " =>  It splits the input by using a separator. If separator is not given, white-space is used as  separator."
   ]
  },
  {
   "cell_type": "code",
   "execution_count": null,
   "metadata": {},
   "outputs": [],
   "source": [
    "#  Python program to demonstarate the working of split() method\n",
    "\n",
    "# Taking three inputs at a time \n",
    "x, y, z = input(\"Enter a three value: \").split() \n",
    "print(\"\\n\")\n",
    "\n",
    "# Printing variables individually\n",
    "print(\"Total number of students: \", x) \n",
    "print(\"Number of boys is : \", y) \n",
    "print(\"Number of girls is : \", z) \n",
    "print(\"\\n\")\n",
    "\n",
    "# Printing the variables using format() method\n",
    "print(\"First number is {} and second number is {}, 3rd no. is {}\".format(x, y, z)) \n",
    "\n",
    "print()"
   ]
  },
  {
   "cell_type": "code",
   "execution_count": 1,
   "metadata": {},
   "outputs": [
    {
     "name": "stdout",
     "output_type": "stream",
     "text": [
      "Enter a multiple value: 22 5 5 4 6 78 \n",
      "List of students:  [22, 5, 5, 4, 6, 78]\n",
      "<class 'list'>\n"
     ]
    }
   ],
   "source": [
    "# Taking multiple inputs at a time and type casting using list() function \n",
    "\n",
    "x = list(map(int, input(\"Enter a multiple value: \").split())) \n",
    "print(\"List of students: \", x) \n",
    "\n",
    "print(type(x))"
   ]
  },
  {
   "cell_type": "code",
   "execution_count": null,
   "metadata": {},
   "outputs": [],
   "source": [
    "#   Taking multiple inputs at a time using List-comprehension method\n",
    " =>  List-comprehension Method ->  This is an elegant way to take multiple inputs at a time."
   ]
  },
  {
   "cell_type": "code",
   "execution_count": null,
   "metadata": {},
   "outputs": [],
   "source": [
    "# Pytyhon program to demonstrate the working of List-comprehension method\n",
    "\n",
    "# Taking two input at a time \n",
    "x, y = [int(x) for x in input(\"Enter two value: \").split()] \n",
    "\n",
    "print(\"First Number is: \", x) \n",
    "print(\"Second Number is: \", y) \n",
    "print() "
   ]
  },
  {
   "cell_type": "code",
   "execution_count": 2,
   "metadata": {},
   "outputs": [
    {
     "name": "stdout",
     "output_type": "stream",
     "text": [
      "Enter two value: 2 5\n",
      "First number is 2 and second number is 5\n",
      "\n"
     ]
    }
   ],
   "source": [
    "# Taking two inputs at a time \n",
    "x, y = [int(x) for x in input(\"Enter two value: \").split()] \n",
    "\n",
    "print(\"First number is {} and second number is {}\".format(x, y)) \n",
    "print() "
   ]
  },
  {
   "cell_type": "code",
   "execution_count": 3,
   "metadata": {},
   "outputs": [
    {
     "name": "stdout",
     "output_type": "stream",
     "text": [
      "Enter multiple value: 1 5 4 6 7 8\n",
      "Number of list is:  [1, 5, 4, 6, 7, 8]\n"
     ]
    }
   ],
   "source": [
    "# Taking multiple inputs at a time  \n",
    "x = [int(x) for x in input(\"Enter multiple value: \").split()] \n",
    "\n",
    "print(\"Number of list is: \", x)  "
   ]
  },
  {
   "cell_type": "markdown",
   "metadata": {},
   "source": [
    "#                #          Python Print() function            #             #         "
   ]
  },
  {
   "cell_type": "code",
   "execution_count": null,
   "metadata": {},
   "outputs": [],
   "source": [
    " =>  print() is used to produce and display the output in Python language.\n",
    " =>  We can pass zero or more parameters separated by commas from this print() function.\n",
    " \n",
    " =>  Syntax: print( value(s), sep= ‘ ‘, end = ‘\\n’, file=file, flush=flush )\n",
    "\n",
    "       Parameters:\n",
    "        \n",
    "        *  value(s) : Any value, and as many as you like. Will be converted to string before printed\n",
    "        \n",
    "        *   sep=’separator’ : (Optional) Specify how to separate the objects, if there is more than one.Default :’ ‘\n",
    "       \n",
    "        *   end=’end’: (Optional) Specify what to print at the end.Default : ‘\\n’\n",
    "        \n",
    "        *   file : (Optional) An object with a write method. Default :sys.stdout\n",
    "        \n",
    "        *   flush : (Optional) A Boolean, specifying if the output is flushed (True) or buffered (False). Default: False\n",
    "\n"
   ]
  },
  {
   "cell_type": "code",
   "execution_count": 6,
   "metadata": {},
   "outputs": [
    {
     "name": "stdout",
     "output_type": "stream",
     "text": [
      " Hello World! Hare Krishna is stupid boy. "
     ]
    }
   ],
   "source": [
    "# Python program to demopnstrate4 the working of print() function\n",
    "print (\" Hello\", \"World!\", \"Hare\", \"Krishna\", \"is\", \"stupid\", \"boy.\", sep=\" \", end=\" \")"
   ]
  },
  {
   "cell_type": "code",
   "execution_count": 1,
   "metadata": {},
   "outputs": [
    {
     "name": "stdout",
     "output_type": "stream",
     "text": [
      "geeks geeksforgeeks\n",
      "1 2 3 4 "
     ]
    }
   ],
   "source": [
    "# python code to print without new line\n",
    "# Python 3 code for printing on the same line printing geeks and geeksforgeeks in the same line \n",
    "\n",
    "print(\"geeks\", end =\" \") \n",
    "print(\"geeksforgeeks\") \n",
    "\n",
    "# array \n",
    "a = [1, 2, 3, 4] \n",
    "\n",
    "# printing a element in same \n",
    "# line \n",
    "for i in range(4): \n",
    "\tprint(a[i], end =\" \") \n"
   ]
  },
  {
   "cell_type": "code",
   "execution_count": null,
   "metadata": {},
   "outputs": [],
   "source": [
    "#  'end' parameter of print() function used in python....\n",
    " =>  By default this 'end' have a value of \"\\n\", which results to print the next character into newline.\n",
    " =>  'end' can take value of -->  ' ', ',', '@', '/', '_', '-'  etc."
   ]
  },
  {
   "cell_type": "code",
   "execution_count": 33,
   "metadata": {},
   "outputs": [
    {
     "name": "stdout",
     "output_type": "stream",
     "text": [
      "Narendra Modi is our prime minister.@ Pls obey his sayings.\n"
     ]
    }
   ],
   "source": [
    "# python program to show giving different values to 'end' parameter \n",
    "print (\"Narendra Modi is our prime minister.\", end='@')\n",
    "print (\" Pls obey his sayings.\")"
   ]
  },
  {
   "cell_type": "code",
   "execution_count": 23,
   "metadata": {},
   "outputs": [],
   "source": [
    "# 'sep' parameter of print() function used in python\n",
    " =>  'sep' means 'separator' ; \n",
    " =>  By default, 'sep' has a value of a single space ' ', \n",
    " =>  We can give any value to this parameter like as -->  '@', ',', '.', '/', '_', '-'  etc. ."
   ]
  },
  {
   "cell_type": "code",
   "execution_count": 30,
   "metadata": {},
   "outputs": [
    {
     "name": "stdout",
     "output_type": "stream",
     "text": [
      "Hello@world!\n",
      "Hello_world!\n",
      "Hello-world!\n"
     ]
    }
   ],
   "source": [
    "# python program to show the use of sep parameter\n",
    "print ('Hello', 'world!', sep=\"@\")\n",
    "print ('Hello', 'world!', sep=\"_\")\n",
    "print ('Hello', 'world!', sep=\"-\")"
   ]
  },
  {
   "cell_type": "markdown",
   "metadata": {},
   "source": [
    "#             #          Output formatting in python           #             #"
   ]
  },
  {
   "cell_type": "code",
   "execution_count": null,
   "metadata": {},
   "outputs": [],
   "source": []
  },
  {
   "cell_type": "code",
   "execution_count": null,
   "metadata": {},
   "outputs": [],
   "source": []
  }
 ],
 "metadata": {
  "kernelspec": {
   "display_name": "Python 3",
   "language": "python",
   "name": "python3"
  },
  "language_info": {
   "codemirror_mode": {
    "name": "ipython",
    "version": 3
   },
   "file_extension": ".py",
   "mimetype": "text/x-python",
   "name": "python",
   "nbconvert_exporter": "python",
   "pygments_lexer": "ipython3",
   "version": "3.7.7"
  }
 },
 "nbformat": 4,
 "nbformat_minor": 4
}
