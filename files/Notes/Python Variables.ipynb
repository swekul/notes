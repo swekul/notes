{
 "cells": [
  {
   "cell_type": "code",
   "execution_count": null,
   "metadata": {},
   "outputs": [],
   "source": [
    "   ########   #########   #########  Python Variables   #######  ###########    ############  ##########"
   ]
  },
  {
   "cell_type": "code",
   "execution_count": null,
   "metadata": {},
   "outputs": [],
   "source": [
    "\n",
    " =>  A variable is a named location used to store data in the memory. We can say variables are a container\n",
    "        that holds data which can be changed later in the program.\n",
    "        \n",
    "         e.g.  number = 10  \n",
    "            \n",
    " =>  Assignment oprerator '=' is used to assign the values to variables.\n",
    "\n",
    " =>  Python is a type-inferred language, so we dont have to explicitly define the variable type. \n",
    "       It automatically knows the type of 'value', we are assigning to the variables.\n",
    "        \n",
    " =>  The 'values' get stored in the Python variables and Constants are known as Literals.\n",
    "\n",
    " =>  There are various types of literals in Pyhon.\n",
    "     \n",
    "         * Integers -->  1, 100, 250 etc.\n",
    "         *  floats -->  1.0, 2.56, etc.\n",
    "         *  strings -->  '1', '2.502', 'a', 'Abc', \"ABC\" etc.\n",
    "         *  Bool -->  True, False\n",
    "         *  Special literal -->  None\n",
    "            \n",
    " =>  There are some containers defined in Python, which contains the collection of literals.\n",
    "       e.g.,  Tuples, List, Set, Dictionary, Arrays"
   ]
  },
  {
   "cell_type": "code",
   "execution_count": null,
   "metadata": {},
   "outputs": [],
   "source": [
    "# Assigning 'values' to variables\n",
    "\n",
    "number = 25                         #  Assigning an integer\n",
    "float_number = 2.56                 #  Assigning a floating point number \n",
    "str = \"This is a String!\"           #  Assigning a string \n",
    "\n",
    "# Assigning multiple values to multiple variables\n",
    "num, floats, string = 5, 3.2, \"This is a String.\"\n",
    "\n",
    "# Assigning same values to multiple  variables at once\n",
    "x = y = z = \"same\"\n",
    "\n"
   ]
  },
  {
   "cell_type": "code",
   "execution_count": null,
   "metadata": {},
   "outputs": [],
   "source": [
    "  #############   ##############  Constants in python  ##########   #############   ##############    ########\n",
    "    \n",
    " =>  A constant is a type of variable whose value cannot be changed. \n",
    "    \n",
    " =>  We can say constants are containers that hold information which cannot be changed later.\n",
    "\n",
    " #######    ###########   Assigning value to constants in Python   ############   ###########    ############\n",
    "    \n",
    " =>  In Python, constants are usually declared and assigned in a module. \n",
    "    \n",
    " =>  Here, the module is a new file containing variables, functions, etc which is imported to the main file. \n",
    "      Inside the module, constants are written in all capital letters and underscores separating the words.\n",
    "    \n",
    " =>  Make 2 files for working with constants.\n",
    "    \n",
    "      * constants.py  -->  This will contain codes to assign the constants.\n",
    "      \n",
    "      *  main.py  -->  In this file, we will import the constants.py file and use those constants.\n",
    " \n",
    " =>  Note: In reality, we dont use constants in Python. \n",
    "           Naming them in all capital letters is a convention to separate them from variables,\n",
    "             however, it does not actually prevent reassignment."
   ]
  },
  {
   "cell_type": "code",
   "execution_count": null,
   "metadata": {},
   "outputs": [],
   "source": [
    "  ########   #########  Naming Conventions for Python Variables  #####   ##########   ###############\n",
    "    \n",
    " =>  A variable can have a short name (like x and y) or a more descriptive name (age, carname, total_volume).\n",
    "\n",
    " =>  Some rules for naming a variable.\n",
    "     \n",
    "      *  A variable name must start with a letter or the underscore character.\n",
    "\n",
    "      *  A variable name cannot start with a number\n",
    "\n",
    "      *  A variable name can only contain alpha-numeric characters and underscores (A-z, 0-9, and _ )\n",
    "\n",
    "      *  Variable names are case-sensitive (age, Age and AGE are three different variables)\n",
    "        \n",
    "      *  Create a name that makes sense or just gives meaning related to the values.\n",
    "    \n",
    "      *  Use Capital ;letters for declaring a Constant.\n",
    "        \n",
    "      *  Never use special symbols like !, @, #, $, %, etc\n",
    "    \n",
    "    e.g.,  car, var, _totalbirds, num9, string2, floats5, list_of_car29,, age, Age, AGE ETC.\n",
    "    "
   ]
  },
  {
   "cell_type": "code",
   "execution_count": null,
   "metadata": {},
   "outputs": [],
   "source": [
    "  ########   ###########   #####  Integer dataypes in python  ########   ############    ###########    ####\n",
    "    \n",
    "    =>  In python 2.7, There are 2 different types of datatypes for Integers\n",
    "      \n",
    "          *   int      -->  This is used for small integers.  e.g. 2, 50, 100 etc.\n",
    "          \n",
    "          * long int   -->  This is used for Long integers.   e.g. 10000000000000000000000000000000000000000000\n",
    "            \n",
    "  =>  In python 3.x, we have onlly a single type for all integers.\n",
    "       \n",
    "          * int -->  This is use fior all types of long and short integers."
   ]
  },
  {
   "cell_type": "code",
   "execution_count": null,
   "metadata": {},
   "outputs": [],
   "source": [
    "    ########    #########  Global and Local variables  #####   ###########   #############    ###############\n",
    "    \n",
    " =>  Global variables are defined and declared outside a function and we need to use them inside a function.\n",
    "   \n",
    " =>  If a variable with same name is defined inside the scope of function, this variable is known as Local variable.\n",
    "       And it will print the value given inside the function only and not the global value.\n",
    "    \n",
    " =>  "
   ]
  },
  {
   "cell_type": "code",
   "execution_count": null,
   "metadata": {},
   "outputs": [],
   "source": [
    "# This function uses global variable s \n",
    "def func1(): \n",
    "\tprint (global_var)\n",
    "\n",
    "# Global scope \n",
    "global_var = \"This is a Global Variable.\"\n",
    "func1() \n"
   ]
  },
  {
   "cell_type": "code",
   "execution_count": null,
   "metadata": {},
   "outputs": [],
   "source": [
    "# This function uses a local variable.\n",
    " \n",
    "def func2(): \n",
    "\tlocal_var = \"This is a local variable.\"\n",
    "\tprint (local_var) \n",
    "   \n",
    "func2() "
   ]
  },
  {
   "cell_type": "code",
   "execution_count": null,
   "metadata": {},
   "outputs": [],
   "source": [
    " =>  Any variable which is changed or created inside of a function is local, \n",
    "       if it hasn’t been declared as a global variable. \n",
    "        \n",
    " =>  To tell Python, that we want to use the global variable, we have to use the keyword “global” . "
   ]
  },
  {
   "cell_type": "code",
   "execution_count": null,
   "metadata": {},
   "outputs": [],
   "source": [
    "  ##########   ##########  some interesting cases  ########   ###########    ############   ##########\n",
    "    \n",
    " * @ 1st case! : There is only a Global variable outside the function and no any local variable inside the function.\n",
    "  \n",
    "    => Defined function will print this Global variable, whenever and wherever it get called. \n",
    "    \n",
    " \n",
    "\n",
    "* @ 2nd case! : There is one global varible defined outside the function and one local variable defined\n",
    "                   inside the function.\n",
    "        \n",
    "    => Whenever this function get called, it prints only the local variable.\n",
    "    => local variable will be printed, if and only if the function is called.\n",
    "\n",
    "\n",
    "    \n",
    "    \n",
    " * @ 3rd case : There is one global variable outside the function and one local variable with global keyword \n",
    "                  inside the function.\n",
    "        \n",
    "    => When the function get called, it prints the local variable(with global scope).\n",
    "    => Before calling the function, all print() statements prints the global variable.\n",
    "    => After the function calling, all print() statements prints the local variable(with global scope)."
   ]
  },
  {
   "cell_type": "code",
   "execution_count": null,
   "metadata": {},
   "outputs": [],
   "source": [
    "  ############   #######  Packing and Unpacking of Arguments  ##########   ###########   ##########   ######\n",
    "    \n",
    " =>  Consider a situation where we have a function that receives four arguments.\n",
    "      \n",
    " =>  We want to make call to this function and we have a list of size 4 with us that has all arguments \n",
    "       for the function. \n",
    "    \n",
    " =>  If we simply pass list to the function, the call doesn’t work because there are some\n",
    "          missing positional arguments.\n",
    "\n",
    " =>  This code will raise an error.\n",
    "     \n",
    "        TypeError: fun() missing 3 required positional arguments: 'b', 'c', and 'd'.\n",
    "    \n",
    " =>  Unpacking comes into picture for making this code error free.\n",
    "\n",
    " =>  We use two operators * (for tuples) and ** (for dictionaries).\n",
    "    \n",
    " => In below code, * is used to unpack the all four arguments.  "
   ]
  },
  {
   "cell_type": "code",
   "execution_count": null,
   "metadata": {},
   "outputs": [],
   "source": [
    "# A Python program to demonstrate need of packing and unpacking arguments\n",
    "\n",
    "# A sample function that takes 4 arguments and prints them. \n",
    "def fun(a, b, c, d): \n",
    "\tprint(a, b, c, d) \n",
    "\n",
    "# Driver Code \n",
    "my_list = [1, 2, 3, 4] \n",
    "\n",
    "fun(*my_list) \n"
   ]
  },
  {
   "cell_type": "code",
   "execution_count": null,
   "metadata": {},
   "outputs": [],
   "source": [
    "   #########   #########   ######   Example of unpacking   ##########   ##########   ###############\n",
    "\n",
    " =>  consider the built-in range() function that expects separate start and stop arguments.\n",
    "    \n",
    " =>  If they are not available separately, write the function call with the *-operator to unpack the arguments\n",
    "     out of a list or tuple.\n",
    "    \n",
    "     >>> range(3, 6)     --->  range(3, 6)\n",
    "        \n",
    "     >>> args = [3, 6]                               #  This is a list\n",
    "    \n",
    "     >>> range(*args)    --->  range(3, 6)           #  This *-args will unpack 2 separate arguments.\n",
    "        "
   ]
  },
  {
   "cell_type": "code",
   "execution_count": null,
   "metadata": {},
   "outputs": [],
   "source": [
    "   #########  #########  ########  Packing of arguments  ###########   ############   ###############\n",
    "    \n",
    " =>  When we don’t know how many arguments need to be passed to a python function, \n",
    "      we can use Packing to pack all arguments in a tuple.\n",
    "    \n",
    " =>  "
   ]
  },
  {
   "cell_type": "code",
   "execution_count": 7,
   "metadata": {},
   "outputs": [
    {
     "name": "stdout",
     "output_type": "stream",
     "text": [
      "15\n",
      "30\n"
     ]
    },
    {
     "data": {
      "text/plain": [
       "1"
      ]
     },
     "execution_count": 7,
     "metadata": {},
     "output_type": "execute_result"
    }
   ],
   "source": [
    "# A Python program to demonstrate use of packing arguments\n",
    "\n",
    "# This function uses packing to sum the unknown number of arguments \n",
    "def mySum(*args): \n",
    "\tsum = 0\n",
    "\tfor i in range(0, len(args)): \n",
    "\t\tsum = sum + args[i] \n",
    "\treturn sum\n",
    "\n",
    "# Driver code \n",
    "print(mySum(1, 2, 3, 4, 5)) \n",
    "print(mySum(10, 20)) \n",
    "\n"
   ]
  },
  {
   "cell_type": "code",
   "execution_count": 9,
   "metadata": {},
   "outputs": [
    {
     "name": "stdout",
     "output_type": "stream",
     "text": [
      "2 4 10\n"
     ]
    }
   ],
   "source": [
    "#  =>  '**'  is used for dictionaries unpacking\n",
    "\n",
    "    \n",
    "# A sample program to demonstrate unpacking of dictionary items using ** \n",
    "\n",
    "def fun(a, b, c): \n",
    "\tprint(a, b, c) \n",
    "\n",
    "# A call with unpacking of dictionary \n",
    "d = {'a':2, 'b':4, 'c':10} \n",
    "fun(**d) \n"
   ]
  },
  {
   "cell_type": "code",
   "execution_count": 10,
   "metadata": {},
   "outputs": [
    {
     "name": "stdout",
     "output_type": "stream",
     "text": [
      "<class 'dict'>\n",
      "name = geeks\n",
      "ID = 101\n",
      "language = Python\n"
     ]
    }
   ],
   "source": [
    "# A Python program to demonstrate packing of dictionary items using ** \n",
    "\n",
    "def fun(**kwargs): \n",
    "\n",
    "\t# kwargs is a dict \n",
    "\tprint(type(kwargs)) \n",
    "\n",
    "\t# Printing dictionary items \n",
    "\tfor key in kwargs: \n",
    "\t\tprint(\"%s = %s\" % (key, kwargs[key])) \n",
    "\n",
    "# Driver code \n",
    "fun(name=\"geeks\", ID=\"101\", language=\"Python\") \n"
   ]
  },
  {
   "cell_type": "code",
   "execution_count": null,
   "metadata": {},
   "outputs": [],
   "source": [
    "  ########  ###########  Applications and Important Points   ########   ############    #############\n",
    "    \n",
    "  1. Used in socket programming to send a vast number of requests to a server.\n",
    "\n",
    "  2. Used in Django framework to send variable arguments to view functions.\n",
    "\n",
    "  3. There are wrapper functions that require us to pass in variable arguments.\n",
    "\n",
    "  4. Modification of arguments become easy, but at the same time validation is not proper, so they must be used with care."
   ]
  },
  {
   "cell_type": "code",
   "execution_count": null,
   "metadata": {},
   "outputs": [],
   "source": [
    "   ############  ##########  __name__ (A Special variable) in Python   #########   ###########   ############\n",
    "    \n",
    " =>  If the source file is executed as the main program, the interpreter sets the __name__ variable \n",
    "       to have a value “__main__”. \n",
    "    \n",
    " =>  If this file is being imported from another module, __name__ will be set to the module’s name.\n",
    "\n",
    " =>  __name__ is a built-in variable which evaluates to the name of the current module.\n",
    "       \n",
    " =>  Thus it can be used to check whether the current script is being run on its own or being imported from\n",
    "        somewhere else by combining it with if statement.\n",
    "    \n",
    " =>  Make 2 files file1.py and file2.py  and run them.\n",
    "  "
   ]
  },
  {
   "cell_type": "code",
   "execution_count": null,
   "metadata": {},
   "outputs": [],
   "source": [
    "# File1.py \n",
    "\n",
    "print (\"File1 __name__ = %s\" %__name__ )\n",
    "if __name__ == \"__main__\": \n",
    "\tprint (\"File1 is being run directly\")\n",
    "else: \n",
    "\tprint (\"File1 is being imported\")"
   ]
  },
  {
   "cell_type": "code",
   "execution_count": null,
   "metadata": {},
   "outputs": [],
   "source": [
    "# File2.py \n",
    "\n",
    "import file2\n",
    "\n",
    "print (\"File2 __name__ = %s\" %__name__ )\n",
    "\n",
    "if __name__ == \"__main__\": \n",
    "\tprint (\"File2 is being run directly\")\n",
    "else: \n",
    "\tprint (\"File2 is being imported\")\n"
   ]
  },
  {
   "cell_type": "markdown",
   "metadata": {},
   "source": [
    "<img src=\"images/name&main.png\">"
   ]
  },
  {
   "cell_type": "code",
   "execution_count": null,
   "metadata": {},
   "outputs": [],
   "source": [
    "\n",
    " =>  When File1.py is run directly, the interpreter sets the __name__ variable as __main__ and \n",
    "    \n",
    " =>  When it is run through File2.py by importing, the __name__ variable is set as the name of the python script, \n",
    "      i.e. File1.\n",
    "    \n",
    " =>  So we can say that,  if __name__ == “__main__” is the part of the program that runs when the script \n",
    "         is run from the command line using a command like python File1.py."
   ]
  },
  {
   "cell_type": "code",
   "execution_count": null,
   "metadata": {},
   "outputs": [],
   "source": [
    "#  ##########   ###########  Printing Multiple variables in python  ############   ##########  ############\n",
    "    \n",
    " >>> print(1)         -->   1           #  THis is an integer.\n",
    "\n",
    " >>> print((1))      --->   1           #  This is an integer\n",
    "    \n",
    " >>> print(1, 2)     --->   1 2         #  2 'int' values are passing\n",
    "\n",
    " >>> print((1, 2))   --->   (1, 2)      #  a tuple is passing\n",
    "\n",
    "    \n",
    "    \n",
    " "
   ]
  },
  {
   "cell_type": "code",
   "execution_count": 22,
   "metadata": {},
   "outputs": [
    {
     "name": "stdout",
     "output_type": "stream",
     "text": [
      " The value of x is :  10  The value of y is :  5\n"
     ]
    }
   ],
   "source": [
    "#   ###########   ############   Swapping 2 variables in Python   ########   ############   #############\n",
    "\n",
    "# Python program to swap two variables in a single line \n",
    "# Declaring 2 variables\n",
    "x = 5; y = 10\n",
    "\n",
    "# Swapping the variables\n",
    "x, y = y, x \n",
    "\n",
    "print (\" The value of x is : \", x, \" The value of y is : \", y)"
   ]
  },
  {
   "cell_type": "markdown",
   "metadata": {},
   "source": [
    "  ##########   #############   Underscore in Python   ###########   #############   #############   ########\n",
    "    \n",
    " [Underscores in Python](https://www.geeksforgeeks.org/underscore-_-python/)"
   ]
  },
  {
   "cell_type": "markdown",
   "metadata": {},
   "source": [
    "   ##########   #############   Private variables in Python  ###########   #############   ##############\n",
    "    \n",
    "[Private variables in Python](https://www.geeksforgeeks.org/private-variables-python/)  "
   ]
  },
  {
   "cell_type": "code",
   "execution_count": null,
   "metadata": {},
   "outputs": [],
   "source": [
    "   ########## ############# strings vs Byteobjects in Python ########### ############# ##############\n",
    "    \n",
    " =>  In Python 2, both str and bytes are the same typeByte objects whereas \n",
    "   \n",
    " =>  In Python 3 Byte objects, are defined in Python 3 are “sequence of bytes” and similar to “unicode” objects \n",
    "      from Python 2. \n",
    "    \n",
    " =>  However, there are many differences in strings and Byte objects. \n",
    "\n",
    "    *  Byte objects are sequence of Bytes, whereas Strings are sequence of characters.\n",
    "\n",
    "    *  Byte objects are in machine readable form internally, Strings are only in human readable form.\n",
    "\n",
    "    *  Since Byte objects are machine readable, they can be directly stored on the disk. \n",
    "    \n",
    "    *  Whereas, Strings need encoding before which they can be stored on disk."
   ]
  },
  {
   "cell_type": "markdown",
   "metadata": {},
   "source": [
    "<img src=\"images/stringvsbyte.png\">"
   ]
  },
  {
   "cell_type": "code",
   "execution_count": null,
   "metadata": {},
   "outputs": [],
   "source": [
    "   ###############    #########  Encoding Techniques in python   ##############    ############  #############\n",
    "    \n",
    " =>  PNG, JPEG, MP3, WAV, ASCII, UTF-8 etc are different forms of encodings. \n",
    "\n",
    " =>  An encoding is a format to represent audio, images, text, etc in bytes. \n",
    "    \n",
    " =>  Converting Strings to byte objects is termed as encoding. \n",
    "\n",
    " =>  This is necessary so that the text can be stored on disk using mapping using ASCII or UTF-8 \n",
    "       encoding techniques.\n",
    "        \n",
    " =>  This task is achieved using encode(). It take encoding technique as argument.\n",
    "       Default technique is “UTF-8” technique."
   ]
  },
  {
   "cell_type": "code",
   "execution_count": 24,
   "metadata": {},
   "outputs": [
    {
     "name": "stdout",
     "output_type": "stream",
     "text": [
      "Encoding successful\n"
     ]
    }
   ],
   "source": [
    "# Python code to demonstate String encoding \n",
    "\n",
    "# initialising a String \n",
    "a = 'GeeksforGeeks'\n",
    "\n",
    "# initialising a byte object \n",
    "c = b'GeeksforGeeks'\n",
    "\n",
    "# using encode() to encode the String \n",
    "# encoded version of a is stored in d \n",
    "# using ASCII mapping \n",
    "d = a.encode('ASCII') \n",
    "\n",
    "# checking if a is converted to bytes or not \n",
    "if (d==c): \n",
    "\tprint (\"Encoding successful\") \n",
    "else : print (\"Encoding Unsuccessful\") \n"
   ]
  },
  {
   "cell_type": "code",
   "execution_count": null,
   "metadata": {},
   "outputs": [],
   "source": [
    "   ###############    #########  Decoding Techniques in python   ##############    ############  #############\n",
    "    \n",
    " =>  Similarly, Decoding is process to convert a Byte object to String and is implemented using decode() . \n",
    "   \n",
    " =>  A byte string can be decoded back into a character string, if you know which encoding was used to encode it.\n",
    "\n",
    " =>  Encoding and Decoding are inverse processes.\n"
   ]
  },
  {
   "cell_type": "code",
   "execution_count": 25,
   "metadata": {},
   "outputs": [
    {
     "name": "stdout",
     "output_type": "stream",
     "text": [
      "Decoding successful\n"
     ]
    }
   ],
   "source": [
    "# Python code to demonstate Byte Decoding \n",
    "\n",
    "# initialising a String \n",
    "a = 'GeeksforGeeks'\n",
    "\n",
    "# initialising a byte object \n",
    "c = b'GeeksforGeeks'\n",
    "\n",
    "# using decode() to decode the Byte object \n",
    "# decoded version of c is stored in d \n",
    "# using ASCII mapping \n",
    "d = c.decode('ASCII') \n",
    "\n",
    "# checking if c is converted to String or not \n",
    "if (d==a): \n",
    "\tprint (\"Decoding successful\") \n",
    "else : print (\"Decoding Unsuccessful\") \n"
   ]
  },
  {
   "cell_type": "code",
   "execution_count": null,
   "metadata": {},
   "outputs": [],
   "source": [
    "   ###############    #########  Type Conversion in python  ##############    ############  #############\n",
    "    \n",
    " >>>>>  Python defines type conversion functions to directly convert one data type to another.\n",
    "\n",
    " =>  int(a,base) : This function converts any data type to integer. ‘Base’ specifies the base \n",
    "                     in which string is if data type is string.\n",
    "\n",
    " =>  float() : This function is used to convert any data type to a floating point number.\n",
    "    \n",
    " =>  ord() : This function is used to convert a character to integer.\n",
    "\n",
    " =>  hex() : This function is to convert integer to hexadecimal string.\n",
    "\n",
    " =>  oct() : This function is to convert integer to octal string.  \n",
    "    \n",
    " =>  tuple() : This function is used to convert to a tuple.\n",
    "\n",
    " =>  set() : This function returns the type after converting to set.\n",
    "\n",
    " =>  list() : This function is used to convert any data type to a list type.\n",
    "    \n",
    " =>  dict() : This function is used to convert a tuple of order (key,value) into a dictionary.\n",
    "    \n",
    " =>  str() : Used to convert integer into a string.\n",
    "\n",
    " =>  complex(real,imag) : This function converts real numbers to complex(real,imag) number."
   ]
  },
  {
   "cell_type": "code",
   "execution_count": 28,
   "metadata": {},
   "outputs": [
    {
     "name": "stdout",
     "output_type": "stream",
     "text": [
      "After converting to integer base 2 : 18\n",
      "After converting to float : 10010.0\n",
      "After converting character to integer : 52\n",
      "After converting 56 to hexadecimal string : 0x38\n",
      "After converting 56 to octal string : 0o70\n",
      "After converting string to tuple : ('g', 'e', 'e', 'k', 's')\n",
      "After converting string to set : {'k', 's', 'e', 'g'}\n",
      "After converting string to list : ['g', 'e', 'e', 'k', 's']\n",
      "After converting integer to complex number : (1+2j)\n",
      "After converting integer to string : 1\n",
      "After converting tuple to dictionary : {'a': 1, 'f': 2, 'g': 3}\n"
     ]
    }
   ],
   "source": [
    "# Python code to demonstrate Type conversion \n",
    "# using int(), float() \n",
    "\n",
    "# initializing string \n",
    "s = \"10010\"\n",
    "\n",
    "# printing string converting to int base 2 \n",
    "c = int(s,2) \n",
    "print (\"After converting to integer base 2 : \", end=\"\") \n",
    "print (c) \n",
    "\n",
    "# printing string converting to float \n",
    "e = float(s) \n",
    "print (\"After converting to float : \", end=\"\") \n",
    "print (e) \n",
    "\n",
    "#########################################################################################################################\n",
    "\n",
    "\n",
    "# Python code to demonstrate Type conversion \n",
    "# using ord(), hex(), oct() \n",
    "\n",
    "# initializing integer \n",
    "s = '4'\n",
    "\n",
    "# printing character converting to integer \n",
    "c = ord(s) \n",
    "print (\"After converting character to integer : \",end=\"\") \n",
    "print (c) \n",
    "\n",
    "# printing integer converting to hexadecimal string \n",
    "c = hex(56) \n",
    "print (\"After converting 56 to hexadecimal string : \",end=\"\") \n",
    "print (c) \n",
    "\n",
    "# printing integer converting to octal string \n",
    "c = oct(56) \n",
    "print (\"After converting 56 to octal string : \",end=\"\") \n",
    "print (c) \n",
    "\n",
    "#######################################################################################################################\n",
    "\n",
    "\n",
    "# Python code to demonstrate Type conversion \n",
    "# using tuple(), set(), list() \n",
    "\n",
    "# initializing string \n",
    "s = 'geeks'\n",
    "\n",
    "# printing string converting to tuple \n",
    "c = tuple(s) \n",
    "print (\"After converting string to tuple : \",end=\"\") \n",
    "print (c) \n",
    "\n",
    "# printing string converting to set \n",
    "c = set(s) \n",
    "print (\"After converting string to set : \",end=\"\") \n",
    "print (c) \n",
    "\n",
    "# printing string converting to list \n",
    "c = list(s) \n",
    "print (\"After converting string to list : \",end=\"\") \n",
    "print (c) \n",
    "\n",
    "\n",
    "########################################################################################################################\n",
    "\n",
    "# Python code to demonstrate Type conversion \n",
    "# using  dict(), complex(), str() \n",
    "\n",
    "# initializing integers \n",
    "a = 1\n",
    "b = 2\n",
    "\n",
    "# initializing tuple \n",
    "tup = (('a', 1) ,('f', 2), ('g', 3)) \n",
    "\n",
    "# printing integer converting to complex number \n",
    "c = complex(1,2) \n",
    "print (\"After converting integer to complex number : \",end=\"\") \n",
    "print (c) \n",
    "\n",
    "# printing integer converting to string \n",
    "c = str(a) \n",
    "print (\"After converting integer to string : \",end=\"\") \n",
    "print (c) \n",
    "\n",
    "# printing tuple converting to expression dictionary \n",
    "c = dict(tup) \n",
    "print (\"After converting tuple to dictionary : \",end=\"\") \n",
    "print (c) \n",
    "\n",
    "\n"
   ]
  },
  {
   "cell_type": "code",
   "execution_count": null,
   "metadata": {},
   "outputs": [],
   "source": []
  }
 ],
 "metadata": {
  "kernelspec": {
   "display_name": "Python 3",
   "language": "python",
   "name": "python3"
  },
  "language_info": {
   "codemirror_mode": {
    "name": "ipython",
    "version": 3
   },
   "file_extension": ".py",
   "mimetype": "text/x-python",
   "name": "python",
   "nbconvert_exporter": "python",
   "pygments_lexer": "ipython3",
   "version": "3.7.7"
  }
 },
 "nbformat": 4,
 "nbformat_minor": 4
}
