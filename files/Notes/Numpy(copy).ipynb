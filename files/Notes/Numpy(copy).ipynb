{
 "cells": [
  {
   "cell_type": "code",
   "execution_count": null,
   "metadata": {},
   "outputs": [],
   "source": [
    "              ############    ##########   Python Numpy   ###########     ###########"
   ]
  },
  {
   "cell_type": "code",
   "execution_count": null,
   "metadata": {},
   "outputs": [],
   "source": [
    " =>  Numpy is a general-purpose array-processing package.\n",
    "    \n",
    " =>  It provides a high-performance multidimensional array object, and tools for working with these arrays.\n",
    "\n",
    " =>  It is the fundamental package for scientific computing with Python.\n",
    "    \n",
    " =>  Numpy can also be used as an efficient multi-dimensional container of generic data.\n",
    "        \n",
    " =>  To check the version of numpy, use ->  $ numpy.__version__\n",
    "\n",
    " =>  Before using Numpy, we should import it with an alias 'np'.\n",
    "    \n",
    "       >>>  import numpy as np\n",
    "       "
   ]
  },
  {
   "cell_type": "code",
   "execution_count": null,
   "metadata": {},
   "outputs": [],
   "source": [
    "    ##########    ###########   Methods for access Numpy Docs   ##############    ##############\n",
    "    \n",
    " =>  help() is used to get the docstrings of a numpy function.\n",
    "\n",
    "       >>>  help(np.sort)\n",
    "    \n",
    " =>  np.info(object)  ->  This is used to get more information about an object or function.\n"
   ]
  },
  {
   "cell_type": "code",
   "execution_count": null,
   "metadata": {},
   "outputs": [],
   "source": [
    "         ##########    ###########   np.lookfor() method  ##############   \n",
    "    \n",
    " =>  lookfor(what, module=None, import_modules=True, regenerate=False, output=None)\n",
    "    \n",
    "       =>  Do a keyword search on docstrings.\n",
    "    \n",
    "       =>  A list of objects that matched the search is displayed, sorted by relevance. \n",
    "            All given keywords need to be found in the docstring for it to be returned as a result, but the order \n",
    "               does not matter.\n",
    "             \n",
    "    #  Arguments of np.lookfor()\n",
    "    \n",
    "       *  what -> (str) This is a string containing words to look for.\n",
    "    \n",
    "       *  module (optional)  ->  (str or list) This describes the name of module, whose docstrings to go through.\n",
    "        \n",
    "       *  import_modules (bool, optional) -> This describes Whether to import sub-modules in packages or not. \n",
    "                                               Default is True.\n",
    "      \n",
    "       *  regenerate (bool, optional) ->  This describes, Whether to re-generate the docstring cache or not. \n",
    "                                           Default is False.\n",
    "            \n",
    "       *  output (file like, optional) ->  File-like object to write the output to. If omitted, use a pager."
   ]
  },
  {
   "cell_type": "code",
   "execution_count": null,
   "metadata": {},
   "outputs": [],
   "source": [
    "          ############   #########   Some Sub-packages under Numpy  ############   ###########\n",
    "    \n",
    " =>  There are some important sub-packages available under this Numpy module.\n",
    "\n",
    "    * doc ->  General-purpose documents like a glossary and help on the basic concepts of numpy are available \n",
    "                  under the ``doc`` sub-module::\n",
    "\n",
    "    * lib ->   Basic functions used by several sub-packages.\n",
    "\n",
    "    * random ->  Core Random Tools\n",
    "\n",
    "    * linalg ->  Core Linear Algebra Tools\n",
    "\n",
    "    * fft ->  Core FFT routines\n",
    "\n",
    "    * polynomial ->  Polynomial tools\n",
    "\n",
    "    * testing ->  NumPy testing tools\n",
    "\n",
    "    * f2py ->  Fortran to Python Interface Generator.\n",
    "\n",
    "    * distutils ->  Enhancements to distutils with support for Fortran compilers support and more.\n"
   ]
  },
  {
   "cell_type": "code",
   "execution_count": null,
   "metadata": {},
   "outputs": [],
   "source": [
    "           ###########    ##########    Numpy arrays   #########    ##############\n",
    "    \n",
    " =>  Array in Numpy is a table of elements (usually numbers), all of the same type, \n",
    "       indexed by a tuple of positive integers. \n",
    "    \n",
    " =>  In Numpy, number of dimensions of the array is called rank of the array.\n",
    "\n",
    " =>  Numpy arrays are like as python In-built List, but provides much more efficient\n",
    "              storage and data operations as the arrays grows larger in size.\n",
    "        \n",
    " =>  A list contains mixed type of data, but a Numpy array contains only same type."
   ]
  },
  {
   "cell_type": "code",
   "execution_count": null,
   "metadata": {},
   "outputs": [],
   "source": [
    "        #############    ###########    Creating a Numpy Array   ##########     ##############\n",
    "\n",
    " =>  Numpy arrays are created by using array() function, which comes under the numpy package.\n",
    "\n",
    " =>  array(object, dtype=None, copy=True, order='K', subok=False, ndmin=0)\n",
    "    \n",
    "   \n",
    "      *  object ->  We can pass a sequence as an object like as list, tuple, etc. .\n",
    "\n",
    "      *  dtype ->  This is an optional attribute & stands for datatype of the resulting array.\n",
    "                     If not given, it takes desired type by default.\n",
    "        \n",
    "      *  ndmin ->  This is also an optional attribute and takes integers. This specifies the required dimension \n",
    "                      for the resulting array.\n",
    "      \n",
    "      *  copy :  This is an otional attribute and takes boolean values.\n",
    "                  If true (default), then the object is copied.  Otherwise, a copy will only be made \n",
    "                    if __array__ returns a copy, \n",
    "                \n",
    "      *  order : {'K', 'A', 'C', 'F'} ->  This is an optional attribute and specifies the memory layout of array.\n",
    "                                             \n",
    "      *  subok (optional) ->  If True, then sub-classes will be passed-through, otherwise\n",
    "                                    the returned array will be forced to be a base-class array (default)\n",
    "        \n",
    "        \n",
    "    >>>  arr = np.array([range(i, i+3)for i in [2, 4, 6]])"
   ]
  },
  {
   "cell_type": "code",
   "execution_count": null,
   "metadata": {},
   "outputs": [],
   "source": [
    "        ##########    ##########    Datatypes of Numpy arrays    ###########   #############\n",
    "\n",
    " =>  'dtype = complex 'is used to create a ndarray of Complex type.  \n",
    "    \n",
    " =>  Specifying datatype of more than one elements.\n",
    "\n",
    "      >>>  x = np.array([(1, 2, 3),(3, 4, 5)],dtype=[('a','<i4'),('b','<i8'), ('c', '<i2')])\n",
    "    \n",
    "    \n",
    " =>  'i2' means int 16 bit   ,  'i4' means int 32 bit   , 'i8' means int 64 bit"
   ]
  },
  {
   "cell_type": "markdown",
   "metadata": {},
   "source": [
    "<img src=\"images/dtypes.png\">"
   ]
  },
  {
   "cell_type": "code",
   "execution_count": null,
   "metadata": {},
   "outputs": [],
   "source": [
    "        ############   ############    Dimensions of Numpy arrays    ###########    ###############\n",
    "    \n",
    " =>  The no. of Dimensions of an array is termed as the Rank of Array.\n",
    "    \n",
    " =>  'ndmin' attribute is used to specify the dimension of resulting Array. \n",
    "\n",
    " =>  A Numpy Array of N-dimension consists of 'n' no. of square brackets around them.\n",
    "    \n",
    " =>  'array.ndim' is used to return the no. of dimensions of an array. \n",
    "\n",
    " =>  Nested sequences are used to ceate a multi-dimensional array, and inner sequences becomes rows of resulting \n",
    "       array."
   ]
  },
  {
   "cell_type": "code",
   "execution_count": null,
   "metadata": {},
   "outputs": [],
   "source": [
    "     ###########    ###########   Shape, size and order of Numpy arrays    #############    #############\n",
    "    \n",
    " =>  'array.shape' is used to return the shape of Numpy array in the form of a Tuple (m, n).\n",
    "                    \n",
    " =>  (m & n)  are no. of rows and columns of the array.\n",
    "\n",
    " =>  'array.size' returns the total number of elements in a Numpy array.\n",
    "    \n",
    " =>  'array.flags' returns information about the memory layout of arrays.\n",
    "\n",
    " =>  'array.itemmsize' return the size (in bytes) of each array elements. \n",
    "\n",
    " =>  'array.nbytes' return the total size (in bytes) of the array."
   ]
  },
  {
   "cell_type": "code",
   "execution_count": null,
   "metadata": {},
   "outputs": [],
   "source": [
    "     ##########     #############   Upcasting of elements in Numpy arrrays   ##########    ############\n",
    "    \n",
    " =>  If there some elements of an array are float, and remaining are integers, then Creation of array upcasts all \n",
    "         elements into float.\n",
    "     \n",
    "     >>>  np.array([1, 5, 8, 12, 45, 75, 2.0, 3.0, 4.0])\n",
    "    \n",
    "     >>>  array([ 1.,  5.,  8., 12., 45., 75.,  2.,  3.,  4.])"
   ]
  },
  {
   "cell_type": "code",
   "execution_count": null,
   "metadata": {},
   "outputs": [],
   "source": [
    "    ###########    ##########    Deep Copy vs shallow Copy   ############    ############"
   ]
  },
  {
   "cell_type": "code",
   "execution_count": null,
   "metadata": {},
   "outputs": [],
   "source": [
    "      ###########    ##########    Deep Copy   ############    ############\n",
    "    \n",
    " =>  Deep copy is a process in which the copying process occurs recursively.\n",
    "    \n",
    " =>  It means first constructing a new collection object and then recursively populating it with copies \n",
    "       of the child objects found in the original. \n",
    "    \n",
    " =>  In case of deep copy, a copy of object is copied in other object. \n",
    "\n",
    " =>  It means that any changes made to a copy of object do not reflect in the original object. \n",
    "           \n",
    " =>  array.copy() is used to make a Deep copy of the array.\n",
    "\n",
    "       >>>  deep_copy = array.copy()"
   ]
  },
  {
   "cell_type": "markdown",
   "metadata": {},
   "source": [
    "<img src=\"images/deep-copy.jpg\">"
   ]
  },
  {
   "cell_type": "code",
   "execution_count": null,
   "metadata": {},
   "outputs": [],
   "source": [
    "       ###########    ##########    Shallow Copy   ############    ############\n",
    "    \n",
    "    \n",
    " =>  A shallow copy means constructing a new collection object and then populating it with references to\n",
    "      the child objects found in the original. \n",
    "        \n",
    " =>  The copying process does not recurse and therefore won’t create copies of the child objects themselves.\n",
    "        \n",
    " =>  In case of shallow copy, a reference of object is copied in other object. \n",
    "\n",
    " =>  It means that any changes made to a copy of object do reflect in the original object. \n",
    "    \n",
    " =>  array.view() is used to make a Shallow copy of the array.\n",
    "\n",
    "      >>>  shallow-copy = array.view()\n",
    "    "
   ]
  },
  {
   "cell_type": "markdown",
   "metadata": {},
   "source": [
    "<img src=\"images/shallow-copy.jpg\">"
   ]
  },
  {
   "cell_type": "code",
   "execution_count": null,
   "metadata": {},
   "outputs": [],
   "source": [
    "     ############     ##########     Array Creation using Numpy Methods     ###########     ##############\n",
    "    \n",
    " =>  There are many more in-built methods in Numpy for creation of Numpy arrays.\n",
    "\n",
    " =>  These methods can be used with the reference of alias 'np' ."
   ]
  },
  {
   "cell_type": "code",
   "execution_count": null,
   "metadata": {},
   "outputs": [],
   "source": [
    "          ##########    ############   asarray() method   #############    ##########\n",
    "\n",
    " =>  np.asarray(data, dtype=None, order=None) ->  This converts the input to an array.\n",
    "    \n",
    "   * data ->  This is an array_like input data, which includes lists, tuples, and nested sequences and ndarrays.\n",
    "    \n",
    "   * dtype=None ->  (optional) This dtype is inferred from the input data.\n",
    "\n",
    "   * order={'c' or 'f'} ->  (optional) Default is 'c' style\n",
    "    \n",
    " =>  Nothing occurs, if the input is already an ndarray with matching dtype and order.\n",
    "\n",
    " =>  For copying, we should set a different dtype for resulting array. "
   ]
  },
  {
   "cell_type": "code",
   "execution_count": null,
   "metadata": {},
   "outputs": [],
   "source": [
    "        ##########    ############   asanyarray() method   #############    ##########\n",
    "    \n",
    " =>  np.asanyarray(data, dtype=None, order=None) \n",
    "\n",
    " =>  This convert the input to an ndarray, but pass ndarray subclasses through.\n",
    "\n",
    " =>   If `a` is an ndarray or a subclass of ndarray, it is returned as-is and no copy is performed.\n"
   ]
  },
  {
   "cell_type": "code",
   "execution_count": null,
   "metadata": {},
   "outputs": [],
   "source": [
    "       ############    ##############   asarray_chkfinite() method   ###########   ###############\n",
    "\n",
    " =>  np.asarray_chkfinite(data, dtype=None, order=None)\n",
    "\n",
    " =>  This converts the input to an array, checking for NaNs or Infs.\n",
    "\n",
    " =>  This raises ValueError if `a` contains NaN (Not a Number) or Inf (Infinity).\n",
    "\n"
   ]
  },
  {
   "cell_type": "code",
   "execution_count": null,
   "metadata": {},
   "outputs": [],
   "source": [
    "        ############    ##############   ascontiguousarray() method   ###########   ###############\n",
    "    \n",
    " =>  np.ascontiguousarray(data, dtype=None/str)   \n",
    "      \n",
    " =>  This return a contiguous array (ndim >= 1)  of same shape and content as `a`, with type `dtype`\n",
    "         if specified in memory (C order).\n",
    "    "
   ]
  },
  {
   "cell_type": "code",
   "execution_count": null,
   "metadata": {},
   "outputs": [],
   "source": [
    "        ############    ##############   asfortranarray() method   ###########   ###############\n",
    "    \n",
    " =>  np.asfortranarray(data, dtype=None)\n",
    "\n",
    " =>  This return an array (ndim >= 1) laid out in Fortran (column-major) order in memory.\n",
    "\n",
    " =>  Note: This function returns an array with at least one-dimension (1-d), so it will not preserve 0-d arrays.  \n",
    " \n",
    " =>  ndarray.flags : Information about the memory layout of the array."
   ]
  },
  {
   "cell_type": "code",
   "execution_count": null,
   "metadata": {},
   "outputs": [],
   "source": [
    "        ###########    ##########   Matrix Creation Methods   ############     #############\n",
    "    \n",
    " =>  Matrix is a datatype in Numpy package and a sub-class or subset of 'array' super class.\n",
    "\n",
    " =>  np.mat(data, dtype=None)  ->  This is used to return a 2-d matrix from a Numpy array.\n",
    "\n",
    "  >>>  np.mat(Int) = np.mat([1]) =  np.mat((1))  ->  matrix([[1]])\n",
    "    \n",
    "  >>>  np.mat(list / tuple / nested sequences)   ->  matrix of sequence\n",
    "   \n",
    "  >>>  np.mat('1 2 3 .. m')  ->  Row matrix of m elements, i.e. matrix([[1, 2, 3 ... m]])\n",
    "\n",
    "  >>>  np.mat('1 2; 3 4')  ->  matrix([[1, 2],\n",
    "                                       [3, 4]]\n",
    " \n",
    "    \n",
    " "
   ]
  },
  {
   "cell_type": "code",
   "execution_count": null,
   "metadata": {},
   "outputs": [],
   "source": [
    "     ##########    ###############    np.asmatrix() method   ############    ###############\n",
    "    \n",
    "    =>  np.asmatrix(data, dtype=None)  ->  This is similar to matrix but doesnot returns a matrix,\n",
    "                                           if data is alreday a matrix."
   ]
  },
  {
   "cell_type": "code",
   "execution_count": null,
   "metadata": {},
   "outputs": [],
   "source": [
    "           ##########     ###############    np.bmat() method   ############    ###############\n",
    "    \n",
    " =>  np.bmat(object, ldict=None, gdict=None)\n",
    "\n",
    " =>  This build a matrix object (specialized a 2-d array) from a string, nested sequence, or array.\n",
    "    \n",
    " * ldict (optional) ->  A dictionary that replaces local operands in current frame.\n",
    "                            Ignored if `obj` is not a string or `gdict` is None.\n",
    " \n",
    " * gdict (optional) ->  A dictionary that replaces global operands in current frame. \n",
    "                              Ignored if `obj` is not a string.\n",
    "\n",
    " #  Example of bmat() method      \n",
    "    \n",
    "  #  Using mat() for generating matrices A, B, C, D\n",
    "    \n",
    "    >>>  A = np.mat('1 1; 1 1')\n",
    "    >>>  B = np.mat('2 2; 2 2')\n",
    "    >>>  C = np.mat('9 10; 11 12')\n",
    "    \n",
    " #  Using bmat() for arraay concatenation and generation of matrices from that\n",
    "\n",
    "    >>>  np.bmat('A, B, C')  ->  matrix([[ 1,  2,  5,  6,  9, 10],\n",
    "                                         [ 3,  4,  7,  8, 11, 12]])\n",
    "\n",
    "   \n",
    "    >>>  np.bmat('A ; B')  ->  matrix([[ 1,  2],\n",
    "                                       [ 3,  4],\n",
    "                                       [ 5,  6],\n",
    "                                       [ 7,  8]])\n",
    "    \n",
    "\n",
    "    >>>  np.bmat([[A, B], [C, D]])   or  np.bmat(np.r_[np.c_[A, B], np.c_[C, D]])  or  np.bmat('A,B; C,D')\n",
    "         -------------------------       ----------------------------------------      -------------------"
   ]
  },
  {
   "cell_type": "code",
   "execution_count": null,
   "metadata": {},
   "outputs": [],
   "source": [
    "       ############    ###########   tri() method   ###########   #############\n",
    "    \n",
    " =>  np.tri(N, M=None, k=0, dtype)\n",
    "\n",
    " =>  This return Array of shape (N, M)  with ones at and below the given diagonal 'k' and zeros elsewhere.\n",
    ".\n",
    "\n",
    "    *  N (int) ->  This is the number of rows in matrix.\n",
    "    \n",
    "    *  M (int) ->  This is the number of columns in matrix.\n",
    "    \n",
    "    *  k (int, optional)  ->  'k' = 0 is main diagonal, 'k' > 0 is above the  main diagonal & 'k' < 0 is below it.\n",
    "                                         Default is 0.\n",
    "    \n",
    "    *  dtype  ->  Default is float  "
   ]
  },
  {
   "cell_type": "code",
   "execution_count": null,
   "metadata": {},
   "outputs": [],
   "source": [
    "        ############    ###########   tril() & triu  methods   ###########   #############\n",
    "    \n",
    " =>  np.tril(m, k=0)  ->  This return Lower Trianglular array from a given array or matrix 'm'.\n",
    "\n",
    " =>  np.triu(m, k=0)  ->   This return Upper Trianglular array from a given array or matrix 'm'.\n",
    "\n",
    "     \n",
    "    * m  ->  This is an array or matrix. "
   ]
  },
  {
   "cell_type": "code",
   "execution_count": null,
   "metadata": {},
   "outputs": [],
   "source": [
    "        ############     ###########    identity() & eye()  methods     ###########    #############\n",
    "    \n",
    " =>  np.identity(n, dtype=float  ->  This return an Identity or Unit Matrix .\n",
    "\n",
    " =>  The Identity matrix is a squared matrix with 1s on main diagonal.\n",
    "    \n",
    "    * n ->  This is size of required Identity Matrix.\n",
    " \n",
    "                 \n",
    " => np.eye(N, M=None, k=0, dtype=float, order='C')  \n",
    "                 \n",
    " =>  This return a 2-D array with ones on the diagonal and zeros elsewhere.\n",
    "                 \n",
    "     *  N (int)  ->  This is no. of rows in output matrix.\n",
    "      \n",
    "     *  M (int, optional)  ->  This is no. of columns in output matrix. Default is None or 'N'\n",
    "                 \n",
    "     *  k (int, optional)  ->  Index of diagonal.\n",
    "                 \n",
    "     *  dtype (optional)  ->  This is datatype of output matrix.\n",
    "                 \n",
    "     *  order : {'C' or 'F'} ->  This is optional."
   ]
  },
  {
   "cell_type": "code",
   "execution_count": null,
   "metadata": {},
   "outputs": [],
   "source": [
    "         ############   ###########  diag() method  ###########   #############\n",
    "    \n",
    " =>  np.diag(v, k=0)  ->  This extract a diagonal or construct a diagonal array.\n",
    "\n",
    "     =>  v : array_like sequences\n",
    "    \n",
    "            * If `v` is a 2-D array, return a copy of its `k`-th diagonal.\n",
    "   \n",
    "            * If `v` is a 1-D array, return a 2-D array with `v` on the `k`-th diagonal.\n",
    "\n",
    "     =>  k ->  This is index for diagonal. ['k' = 0] is main diagonal.\n",
    "  \n",
    "\n",
    "        ##########     ################  diagonal() method    ############    ##############\n",
    "    \n",
    " \n",
    "  =>  np.diagonal(a, offset=0, axis1=0, axis2=1)  ->  This return specifed diagonals.\n",
    "\n",
    "     *  a  ->  This is an array from which diagonals are taken.\n",
    "    \n",
    "     *  offset or k ->  ['k' = 0] is main diagonal of array.\n",
    "    \n",
    "           \n",
    "     *  axis1 (int, optional)  ->  Axis to be used as the first axis of the 2-D sub-arrays from which the diagonals\n",
    "                                      should be taken.  Defaults to first axis (0).\n",
    "        \n",
    "     *  axis2 (int, optional)  ->  Axis to be used as the second axis of the 2-D sub-arrays from which the diagonals\n",
    "                                      should be taken. Defaults to second axis (1).\n",
    "        \n",
    "     * Raises ValueError If the dimension of 'a' is less than 2.\n",
    "    \n",
    "  \n",
    "   =>  If `a` is 2-D, then a 1-D array containing the diagonal and of the same type as `a` is returned\n",
    "         unless `a` is a `matrix`, in which case a 1-D array rather than a (2-D) `matrix` is returned in order to\n",
    "          maintain backward compatibility.\n",
    "\n",
    "   =>  If ``a.ndim > 2``, then the dimensions specified by `axis1` and `axis2` are removed, and a new axis \n",
    "         inserted at the end corresponding to the diagonal.\n",
    "\n",
    "\n",
    "\n",
    "\n",
    "  =>  Note :  If we have  writes values to this extracted array, then visit np.diagonal() docs\n",
    "                  or use np.diagonal(a).copy() for writing values."
   ]
  },
  {
   "cell_type": "code",
   "execution_count": null,
   "metadata": {},
   "outputs": [],
   "source": [
    "          ##############     ###########    diagflat() method    #############    ###############\n",
    "    \n",
    " =>  np.diagflat(v, k=0)  ->  This creates a two-dimensional array with the flattened input as a diagonal.\n",
    "\n",
    "     *  v ->  This is array_like input data, which is flattened and set as the 'k'th diagonal of output.\n",
    "    \n",
    "     *  k ->  This is diagonal index.\n",
    "        \n",
    " =>  This diagflat() ravels the sequences passing thru it and then generates a matrix with sequence items as main diagonal \n",
    "          and 0-s at else where.\n",
    "        \n",
    "    >>> np.diagflat([[1, 2], [3, 4]])"
   ]
  },
  {
   "cell_type": "code",
   "execution_count": null,
   "metadata": {},
   "outputs": [],
   "source": [
    "    #########    #############    diag-indices() & diag_indices_from() methods   #############    ##########\n",
    "    \n",
    " =>  np.diag_indices(n, ndim=2)  -> This return the indices to access the main diagonal of an array.\n",
    "\n",
    " =>  This returns a tuple of indices that can be used to access the main diagonal of an array `a` with \n",
    "         \n",
    "        `a.ndim >= 2` .\n",
    "\n",
    "\n",
    "    *  n (int)  ->  The size, along each dimension, of the arrays for which the returned indices can be used.\n",
    "    \n",
    "    *  ndim (int)  ->  The number of dimensions of array.\n",
    "    \n",
    "    \n",
    " =>  np.diag_indices_from(arr)  ->  This return the indices to access the main diagonal of an n-dimensional array.\n",
    "\n",
    "    * arr  ->  Array should be atleast 2-d."
   ]
  },
  {
   "cell_type": "code",
   "execution_count": null,
   "metadata": {},
   "outputs": [],
   "source": [
    "          ############     ##########   vander() method    #############    #############\n",
    "    \n",
    " =>  np.vander(x, N=None, increasing=False)  ->  This generates a Vandermonde matrix.\n",
    "\n",
    " =>  The columns of the output matrix are powers of the input vector. The order of the powers is determined \n",
    "         by the `increasing` boolean argument.\n",
    "     Specifically, when `increasing` is False, the `i`-th output column is the input vector raised element-wise \n",
    "        to the power of ``N - i - 1``.\n",
    "    \n",
    " =>  Such a matrix with a geometric progression in each row is named for Alexandre-Theophile Vandermonde.\n",
    "\n",
    " =>  The determinant of a square Vandermonde matrix is the product of the differences between the values of the \n",
    "         input vector.\n",
    "    \n",
    "    \n",
    "    *  x : This is 1-d array.\n",
    "        \n",
    "    *  N (int, optional)  ->  Number of columns in the output.  If `N` is not specified, a square\n",
    "                                   array is returned (``N = len(x)``).\n",
    "        \n",
    "    *  increasing (bool, optional)  -> This is order of the powers of the columns.  \n",
    "                                       if True, the powers increase from left to right,\n",
    "                                       if False (the default) they are reversed.\n",
    "   \n",
    "  \n",
    "  >>>  np.vander(np.array([1, 2, 3, 5]))\n",
    "    "
   ]
  },
  {
   "cell_type": "code",
   "execution_count": null,
   "metadata": {},
   "outputs": [],
   "source": [
    "         ############    ############    trace() matrix   ###########    ##############\n",
    "    \n",
    " =>  np.trace(a, offset=0, axis1=0, axis2=1, dtype=None, out=None)\n",
    "\n",
    " =>  This return the sum along diagonals of the array.\n",
    "\n",
    "     *  If `a` is 2-D, the sum along its diagonal with the given offset is returned, \n",
    "              i.e., the sum of elements ``a[i,i+offset]`` for all i.\n",
    "\n",
    "     *  If `a` has more than two dimensions, then the axes specified by axis1 and axis2 are used to determine \n",
    "          the 2-D sub-arrays whose traces are returned.\n",
    "\n",
    "  => The shape of the resulting array is the same as that of `a` with `axis1` and `axis2` removed.\n",
    "\n",
    " =>  Parameters of trace() method   \n",
    "    \n",
    "      *  a  ->  This is an array from which the diagonals are taken.\n",
    "    \n",
    "      *  offset, 'k'  ->  This is diagonal index.\n",
    "        \n",
    "      *  axis1, axis2 (int, optional)  ->  Axes to be used as the first and second axis of the 2-D sub-arrays\n",
    "                                              from which the diagonals should be taken. \n",
    "                                              Defaults are the first two axes of `a`.\n",
    "\n",
    "      *  dtype (optional)\n",
    "    \n",
    "      *   out (ndarray, optional)  ->  This should be an Array into which the output is placed.\n",
    "                                         Its type is preserved and it must be of the right shape to hold the output.\n",
    "            \n",
    "      * return  ->  sum along diagonals of array\n",
    "\n",
    "            *  If `a` is 2-D, the sum along the diagonal is returned.\n",
    "    \n",
    "            * If `a` has larger dimensions, then an array of sums along diagonals is returned."
   ]
  },
  {
   "cell_type": "code",
   "execution_count": null,
   "metadata": {},
   "outputs": [],
   "source": [
    "      #############     ###########   empty() and empty_like() methods    ###########    #############\n",
    "    \n",
    " =>  np.empty(shape, dtype=float, order='C')\n",
    "\n",
    " =>  This return a new array of given shape and type, without initializing entries.\n",
    "\n",
    " =>  shape (int or tuple of int)  ->  This is shape of empty arrray.\n",
    "    \n",
    " =>  dtype (optional)  ->  Default is 'float64' .\n",
    "\n",
    " =>  order (optional)  ->  'C'\n",
    "    \n",
    "=>  np.empty_like(prototype, dtype=None, order='K', subok=True, shape=None)\n",
    "\n",
    "     *  prototype ->  This is array_like object."
   ]
  },
  {
   "cell_type": "code",
   "execution_count": null,
   "metadata": {},
   "outputs": [],
   "source": [
    "      #############     ###########   full() and full_like() methods    ###########    #############\n",
    "    \n",
    " =>  np.full(shape, fill_value, dtype=None, order='C')\n",
    "\n",
    " =>  This return a new array of given shape and type, filled with `fill_value`.\n",
    " \n",
    "     * scalar  ->  This is a scalar value to be filled inside an array.\n",
    "        \n",
    " =>  np.full_like(a, fill_value, dtype=None, order='K', subok=True, shape=None)\n",
    "\n",
    " =>  This return a new array with shape of input filled with value."
   ]
  },
  {
   "cell_type": "code",
   "execution_count": null,
   "metadata": {},
   "outputs": [],
   "source": [
    "      #############     ###########   zeros() & zeros_like() methods    ###########    #############\n",
    "    \n",
    " =>  np.zeros(shape, dtype=float, order='C')  ->  Return a new array of given shape and type, filled with zeros.\n",
    "\n",
    " =>  np.zeros_like(a, dtype=None, order='K', subok=True, shape=None) \n",
    "    \n",
    "      =>  This return an array of zeros with the same shape and type as a given array.\n"
   ]
  },
  {
   "cell_type": "code",
   "execution_count": null,
   "metadata": {},
   "outputs": [],
   "source": [
    "      #############    ###########   ones() & ones_like() methods    ###########    #############\n",
    "    \n",
    " =>  np.ones(shape, dtype=None, order='C')\n",
    "\n",
    "      =>  This return a new array of given shape and type, filled with ones.\n",
    "\n",
    " =>  np.ones_like(a, dtype=None, order='K', subok=True, shape=None)\n",
    "    \n",
    "      =>  This return an array of ones with the same shape and type as a given array.\n"
   ]
  },
  {
   "cell_type": "code",
   "execution_count": null,
   "metadata": {},
   "outputs": [],
   "source": [
    "       #############    ###########  arange() method    ###########    #############\n",
    "    \n",
    " =>  np.arange([start, stop, step, dtype=None)\n",
    "                \n",
    " =>  This return evenly spaced values within a given interval.\n",
    "                \n",
    " =>  values are generated in a range (start , stop) excluding stop.\n",
    "                \n",
    " =>  for floating point numbers, use linspace() method.\n"
   ]
  },
  {
   "cell_type": "code",
   "execution_count": null,
   "metadata": {},
   "outputs": [],
   "source": [
    "          #############    ###########  linspace() method    ###########    #############\n",
    "    \n",
    " =>  np.linspace(start, stop, num=50, endpoint=True, retstep=False, dtype=None, axis=0)\n",
    "\n",
    " =>  This return evenly spaced numbers over a specified interval (start, stop).\n",
    "\n",
    " =>  num (int, optional)  ->  Number of samples to generate. Default is 50. Must be non-negative.\n",
    "  \n",
    " =>  endpoint (bool, optional)  ->  If True, `stop` is the last sample. Otherwise, it is not included.\n",
    "                                      Default is True.\n",
    "        \n",
    " =>  retstep (bool, optional) -> If True, return (`samples`, `step`), where `step` is the spacing between samples.\n",
    "\n",
    " =>  axis (int, optional)  ->   The axis in the result to store the samples. \n",
    "                                 Relevant only if start or stop are array-like.  \n",
    "                                  By default (0), the samples will be along a new axis inserted at the beginning.\n",
    "                                 Use -1 to get an axis at the end.\n",
    "                \n",
    " =>  step (float, optional) ->  Size of spacing between samples and Only returned if `retstep` is True.\n"
   ]
  },
  {
   "cell_type": "code",
   "execution_count": null,
   "metadata": {},
   "outputs": [],
   "source": [
    "       #############    ###########  logspace() method    ###########    #############\n",
    "      \n",
    " =>  np.logspace(start, stop, num=50, endpoint=True, base=10.0, dtype=None, axis=0)\n",
    "\n",
    " =>  This return numbers spaced evenly on a log scale.\n",
    "\n",
    "\n",
    "  *  start ->  (array_like)  ``base ** start`` is the starting value of the sequence.\n",
    "\n",
    "  *  stop ->  (array_like)  ``base ** stop`` is the final value of the sequence, unless `endpoint` is False. \n",
    "\n",
    "                            In that case, ``num + 1`` values are spaced over the interval in log-space, \n",
    "                              of which all but the last (a sequence of length `num`) are returned.\n",
    " "
   ]
  },
  {
   "cell_type": "code",
   "execution_count": null,
   "metadata": {},
   "outputs": [],
   "source": [
    "        #############    ###########  geomspace() method    ###########    #############\n",
    "    \n",
    " =>  np.geomspace(start, stop, num=50, endpoint=True, dtype=None, axis=0)\n",
    "\n",
    " =>  This return numbers spaced evenly on a log scale (a geometric progression).\n",
    "\n",
    " =>  This is similar to `logspace`, but with endpoints specified directly.\n",
    "        Each output sample is a constant multiple of the previous one.\n",
    "\n",
    "  >>>  np.geomspace(1, 1000, num=4, endpoint=False)"
   ]
  },
  {
   "cell_type": "code",
   "execution_count": null,
   "metadata": {},
   "outputs": [],
   "source": [
    "    #############    ###########  frombuffer() , fromfile(), fromiter() methods   ###########    ##############\n",
    "    \n",
    " =>  np.frombuffer(buffer, dtype=float, count=-1, offset=0)\n",
    "\n",
    " =>  This interpret a bufferas a 1-dimensional array.\n",
    "    \n",
    "    *  buffer -> (buffer_like);  An object that exposes the buffer interface.\n",
    "\n",
    "    *  dtype (data-type, optional)  ->  Data-type of the returned array. \n",
    "\n",
    "    *  count (int, optional)  ->  Number of items to read. ``-1`` means all data in the buffer.\n",
    "\n",
    "    *  offset (int, optional)  ->  Start reading the buffer from this offset (in bytes).\n",
    "\n",
    "   \n",
    "\n",
    "    #############    ###########   fromfile()   method   #############    ###########   \n",
    "    \n",
    " =>  np.fromfile(file, dtype=float, count=-1, sep='', offset=0)\n",
    "\n",
    " =>  This construct an array from data in a text or binary file.\n",
    "    \n",
    " =>  A highly efficient way of reading binary data with a known data-type, as well as parsing simply formatted text\n",
    "        files.  \n",
    "    \n",
    " =>  Data written using the `tofile` method can be read using this function.\n",
    "\n",
    "   *  file  ->  file or str or Path \n",
    "\n",
    "   *  sep ->  str; This is a separator between items if file is a text file.\n",
    "   \n",
    "          *  Empty (\"\") separator means the file should be treated as binary.\n",
    "    \n",
    "          *  Spaces (\" \") in the separator match zero or more whitespace characters.\n",
    "   \n",
    "          *  A separator consisting only of spaces must match at least one whitespace.\n",
    "    \n",
    "    *  offset -> int;  The offset (in bytes) from the file's current position. Defaults to 0. \n",
    "                            Only permitted for binary files."
   ]
  },
  {
   "cell_type": "code",
   "execution_count": null,
   "metadata": {},
   "outputs": [],
   "source": [
    "      #############    ###########   fromiter()  method    #############    ###########   \n",
    "    \n",
    " =>  np.fromiter(iterable, dtype, count=-1) ->  This creates a new 1-d array from an iterable object.\n",
    "\n",
    "      *  count (int, optional)  ->  The number of items to read from *iterable*.  \n",
    "                                     The default is -1, which means all data is read.\n",
    "        \n",
    "    >>>  iterable = (x*x for x in range(5))\n",
    "    >>> np.fromiter(iterable, float)\n",
    "    \n",
    "    \n",
    "     ###############    ############    fromstring()  method    ##############     ##############\n",
    "        \n",
    " =>  np.fromstring(string, dtype=float, count=-1, sep='')\n",
    "\n",
    " =>  A new 1-D array initialized from text data in a string.\n",
    "\n",
    "     * string  ->  A string containing the data.\n",
    "        \n",
    "     * dtype  ->  Default float\n",
    "    \n",
    "     * count (int, optional)  ->  Read this number of `dtype` elements from the data.  \n",
    "                                  If this is negative (the default), the count will be determined from the\n",
    "                                       length of the data. \n",
    "                \n",
    "     * sep (str, optional)  ->  The string separating numbers in the data; extra whitespace between elements is\n",
    "                                  also ignored.\n",
    "        \n",
    "     * ValueError -> If the string is not the correct size to satisfy the requested `dtype` and `count`.\n",
    "    \n",
    "   >>>   np.fromstring('1 2', dtype=int, sep=' ')"
   ]
  },
  {
   "cell_type": "code",
   "execution_count": null,
   "metadata": {},
   "outputs": [],
   "source": [
    "    ###############    ############    fromfunction()  method    ##############     ##############\n",
    "    \n",
    " =>  np.fromfunction(function, shape, **kwargs)\n",
    "\n",
    " =>  This construct an array by executing a function over each coordinate.\n",
    "\n",
    " =>  The resulting array therefore has a value ``fn(x, y, z)`` at coordinate ``(x, y, z)``.\n",
    " \n",
    "     *  function : callable\n",
    "                   \n",
    "        =>  The function is called with N parameters, where N is the rank of `shape`. \n",
    "              Each parameter represents the coordinates of the array varying along a specific axis. \n",
    "              \n",
    "                For example, if `shape`  were ``(2, 2)``, then the parameters would be\n",
    "                      ``array([[0, 0], [1, 1]])`` and ``array([[0, 1], [0, 1]])``\n",
    "                    \n",
    "     \n",
    "  =>   The result of the call to `function` is passed back directly. Therefore the shape of `fromfunction` is \n",
    "            completely determined by `function`.  \n",
    "        If `function` returns a scalar value, the shape of `fromfunction` would not match the `shape` parameter.\n",
    "\n",
    "    >>>  np.fromfunction(lambda i, j: i == j, (3, 3), dtype=int)\n",
    "    \n",
    "     ###########    #######   meshgrid() , mgrid()  &  ogrid()  methods   ##########    #############\n",
    "        \n",
    "     ###########    #######  copy()  &  loadtxt()  methods    ###########    #######\n",
    "    \n",
    " =>  np.copy(array, order='k')  ->  This return a deep copy of array.\n",
    "\n",
    " \n",
    " =>  np.loadtxt(fname, dtype=float, comments='#', delimiter='None', converters=None, skiprows=0, usecols=None, \n",
    "                \n",
    "                unpack=False, ndmin=0, encoding='bytes', max_rows=None)\n",
    "    \n",
    " =>  This loads data from a text file and each row in the text file must have the same number of values.      "
   ]
  },
  {
   "cell_type": "code",
   "execution_count": null,
   "metadata": {},
   "outputs": [],
   "source": [
    "       #########   #########   Arrays with Random numbers   ############   ############\n",
    "    \n",
    " => 'random' is a package available in Numpy for generating Random values.  \n",
    "\n",
    " =>  There are various methods available under Numpy random subpackage.\n",
    "    \n",
    " =>  np.random.random(size=None) ->  This return random floats in 6the open interval [0.0, 1.0).\n",
    "    \n",
    " =>  np.random.rand(d0, d1, d2  ...  dn)  ->  This return Random values in a given shape.   \n",
    "    \n",
    " =>  np.random.randn(d0, d1, ..., dn) ->  Return a sample (or samples) from the \"standard normal\" distribution.\n",
    "    \n",
    " =>  np.random.random_sample(size=None) ->  Return random floats in the half-open interval [0.0, 1.0).\n",
    "                                                                                                                                                                                      \n",
    " =>  random.sample() and random.ranf() both are alias of random.random_sample() method.\n",
    "                                                                                            \n",
    " =>  np.random.randint(low, high=None, size=None, dtype='l')  ->  This return random integers from low inclusive\n",
    "                                                                     to high inclusive.\n",
    "  \n",
    " =>  np.random.seed(self, seed=None)  ->  This function is used to hget same random numbers each time.   \n",
    "                                                                                            "
   ]
  },
  {
   "cell_type": "code",
   "execution_count": null,
   "metadata": {},
   "outputs": [],
   "source": [
    "   ###########   Codes to Random functions generating arrays from random numbers    ###########\n",
    "\n",
    " =>  random()      ->     np.random.random((1,2))\n",
    "\n",
    " =>  normal()      ->     np.random.normal(0, 1, (3, 3)) \n",
    "    \n",
    " =>  randint()     ->     np.random.randint(0, 10, (3,3))\n",
    "\n",
    " =>  ranf()        ->     np.random.ranf(5)\n",
    "    \n",
    " =>  seed()"
   ]
  },
  {
   "cell_type": "code",
   "execution_count": null,
   "metadata": {},
   "outputs": [],
   "source": [
    "  ############   ##########   Array indexing :  Accessing single elememts from array   ############    ###########\n",
    "    \n",
    " =>  Square Brackets with index '[i]' is used for accessing single elements from arrrays.  \n",
    "    \n",
    " =>  Negative Indexes are used for accessing elements from last end. \n",
    "        \n",
    " \n",
    "         ########   ########   Indexing in 1-dimensional array   #########   ##########\n",
    "\n",
    " =>  array[i] is used to access a single element at 'i'th index in array.\n",
    "\n",
    "        ########   ########   Indexing in Multi-dimensional array   #########   ##########\n",
    "        \n",
    " =>  array[i,j] is used to access a single element from 'i'th row & 'j'th column of array.\n",
    "\n",
    "   \n",
    "        ########   ########   Modifying values by Indexing   #########   ########## \n",
    "       \n",
    " =>  Indexing elements are used for modifying values of that particular index by assigning it a value.\n",
    "      \n",
    "       >>>  array[i,j] = 5\n",
    "        \n",
    " =>  If we try to insert a float value inside an integer array, then this float value get truncated first and then \n",
    "        inserted into array."
   ]
  },
  {
   "cell_type": "code",
   "execution_count": null,
   "metadata": {},
   "outputs": [],
   "source": [
    "    ############   ##########   Array Slicing :  Accessing sub-arrays from array   ############    ##########\n",
    "    \n",
    " =>  Sub-arrays are created by slicing elements of some particular rows & columns of a given Array.\n",
    "\n",
    " =>  Indexing operator [:] is used for slicing some rows & columns of an array.\n",
    "    \n",
    "      >>> array[start:stop:step] \n",
    "                 \n",
    "         * start -> This is initial index.  Default value is 0.\n",
    "    \n",
    "         * stop  ->  This is Final index and will always be excluded in slicing.\n",
    "                            Default value is size of dimensions of array.\n",
    "    \n",
    "         * step  ->  This is step or jump. Default value is 1.\n",
    "                       Negative jump results slicing in reversed direction of array.\n",
    "        \n",
    "      \n",
    "       ########   ########   Slicing in 1-dimensional array   #########   ##########\n",
    "    \n",
    " =>  array[m:n:j]  ->  This slices elemnts in range(m,n) with a jump of 'j'.\n",
    "\n",
    "\n",
    "       ########   ########   Slicing in Multi-dimensional array   #########   ##########\n",
    "    \n",
    " =>  array[a:b:j, m:n:j]  ->  This slices rows in range of (a,b) and columns in range of (m,n) with a jump of j.\n",
    "                           \n",
    " =>  array[::-1, ::-1]    ->  This slices all rows and columns in reverse direction.                             \n",
    "                            "
   ]
  },
  {
   "cell_type": "code",
   "execution_count": null,
   "metadata": {},
   "outputs": [],
   "source": [
    "        ############   ##########   Accessing rows and columns of array   ############    ##########\n",
    "    \n",
    " =>  A combination of Indexing and Slicing is used to acces rows and columns of array.\n",
    "\n",
    " =>  array[:, i]  ->  This access 'i'th column of array.\n",
    " \n",
    " =>  array[i, :] or array[i]  ->  This access 'i'th row of array.\n",
    "    "
   ]
  },
  {
   "cell_type": "code",
   "execution_count": null,
   "metadata": {},
   "outputs": [],
   "source": [
    " =>  List slicing always gives copies (deep copy) of list.\n",
    "    \n",
    " =>  Array slices always gives views (Shallow copy) of array."
   ]
  },
  {
   "cell_type": "code",
   "execution_count": null,
   "metadata": {},
   "outputs": [],
   "source": [
    "          ############   ##########   Reshaping of Arrays   ############    ##########\n",
    "    \n",
    "  =>  reshape() is used for giving shape to arrays.\n",
    "\n",
    "       >>>  np.arange(1,10).reshape((3,3))  "
   ]
  },
  {
   "cell_type": "code",
   "execution_count": null,
   "metadata": {},
   "outputs": [],
   "source": [
    "     ############   ##########   Conversion of 1-d array into row or column vector  ############   ##########\n",
    " \n",
    "        ############    ##########  reshape() method    ############    ##############\n",
    "\n",
    " =>  array.reshape(size) is used to convert a 1-d array to row vector or column vector.\n",
    "\n",
    " =>  size should be given as a a tuple of integers. e.g. (1, 4), (1, 3), (3, 7)\n",
    "    \n",
    "    \n",
    "       ##########   ##########  np.newaxis inside Square brackets   ############    ############\n",
    "        \n",
    " =>  array[np.newaxis, :]  ->  This converts 1-d array to 2-d row vector.\n",
    "\n",
    " =>  array[:, np.newaxis]  ->  This converts 1-d array into 2-d column vector."
   ]
  },
  {
   "cell_type": "code",
   "execution_count": null,
   "metadata": {},
   "outputs": [],
   "source": [
    "         #############   #############  1-d Array concatenation  ###############  #########\n",
    "    \n",
    " =>  np.concatenate((a1, a2, ...))  ->  This is used to concatenate multiple 1-d arrays.\n",
    "\n",
    " =>  Arrays are passed as a list or tuple through this method.\n",
    "\n",
    "     >>>  np.concatenate(array1, array2, array3, ...)"
   ]
  },
  {
   "cell_type": "code",
   "execution_count": null,
   "metadata": {},
   "outputs": [],
   "source": [
    "            #############   #############  2-d  Array concatenation  ###############  #########\n",
    "    \n",
    " =>  np.concatenate([List of arrays], axis) ->  This is used to concatenate 2-d arrays.\n",
    "\n",
    "    * axis = 0  ->  This concatenates arrays row wise. Default is 0\n",
    "    \n",
    "    * axis = 1  ->  This concatenates arrays column wise.\n",
    "    \n",
    "    >>> grid = np.arange(1,7).reshape(2,3)\n",
    "    \n",
    "  \n",
    "  >>> np.concatenate([grid, grid], axis = 0)                 >>> np.concatenate([grid, grid])\n",
    "    \n",
    "        [[1 2 3]                                                   [[1 2 3 1 2 3]\n",
    "         [4 5 6]                                                    [4 5 6 4 5 6]]\n",
    "         [1 2 3]\n",
    "         [4 5 6]]                                               Column wise concatenatiom\n",
    "        \n",
    "    Row wise concatenation                                        "
   ]
  },
  {
   "cell_type": "code",
   "execution_count": null,
   "metadata": {},
   "outputs": [],
   "source": [
    "        #########    ########    Joining arrays of Mixed dimensions   ###########    ###########\n",
    "    \n",
    " =>  np.hstack(tuples of arrays)  ->  This stack arrays Horizontally (column wise).\n",
    "\n",
    "       >>>  np.hstack((grid,grid))\n",
    "    \n",
    "             [[1 2 3 1 2 3]\n",
    "              [4 5 6 4 5 6]]\n",
    "    \n",
    "    \n",
    " =>  np.vstack(tuples of arrays)  ->  this stac arrays vertically (row wise).\n",
    "    \n",
    "       >>>  np.vstack((grid,grid))\n",
    "    \n",
    "               [[1 2 3]\n",
    "                [4 5 6]\n",
    "                [1 2 3]\n",
    "                [4 5 6]]\n",
    "        \n",
    "        \n",
    " =>  np.dstack()  ->  This stakes arrays along the 3rd axis.  \n",
    "    "
   ]
  },
  {
   "cell_type": "code",
   "execution_count": null,
   "metadata": {},
   "outputs": [],
   "source": [
    "       ##########   ##########   Splitting arrays in numpy   ###########    #############\n",
    "    \n",
    " =>  Splitting is just the reverse process of Concatenation.\n",
    "\n",
    " =>  np.split(array, indices for split, axis=0)\n",
    "    \n",
    "         >>> a, b, c = np.split(array, [a, b])\n",
    "    \n",
    "    \n",
    " => This split an array into multiple sub-arrays as views.\n",
    "    \n",
    "   \n",
    "    * array ->  This is the array to be splitted.\n",
    "    \n",
    "    *  indices for split (int, or array)\n",
    "    \n",
    "       =>  If `indices_or_sections` is an integer, N, the array will be divided into N equal arrays along `axis`. \n",
    "             If such a split is not possible, an error is raised.\n",
    "        \n",
    "       =>  'N' split points lead to 'N+1' sub-arrays.\n",
    "        \n",
    "       =>  If `indices_or_sections` is a 1-D array of sorted integers, the entries indicate where along `axis`\n",
    "                the array is split.\n",
    "        \n",
    "    *  axis (int, optional) ->  The axis along which to split, default is 0. "
   ]
  },
  {
   "cell_type": "code",
   "execution_count": null,
   "metadata": {},
   "outputs": [],
   "source": [
    "#   python code to show the splitting of array by using np.split() method\n",
    "\n",
    "import numpy as np\n",
    "\n",
    "array = np.array([1, 2, 3, 99, 99, 3, 2, 1])\n",
    "\n",
    "a, b, c = np.split(array, [3, 5])\n",
    "\n",
    "print (a, b, c)"
   ]
  },
  {
   "cell_type": "code",
   "execution_count": null,
   "metadata": {},
   "outputs": [],
   "source": [
    "        ############    ##########    np.hsplit() and np.vsplit()  methods   ###########    ############\n",
    "    \n",
    " =>  np.hsplit(array, indices)  ->  This splits the array horizontally (row wise).\n",
    "\n",
    " =>  np.vsplit(array, indices)  ->  This splits the array vertically (column wise).\n",
    "    \n",
    "    >>>  grid = np.arange(16).reshape((4,4))\n",
    "    \n",
    "    >>>  upper, lower = np.hsplit(grid, [2])\n",
    "    \n",
    "    >>>  left, right  =  np.vsplit(grid, [2])\n",
    "    \n",
    "    \n",
    " =>  np.dsplit()  ->  This splits the array along 3rd axis."
   ]
  },
  {
   "cell_type": "code",
   "execution_count": null,
   "metadata": {},
   "outputs": [],
   "source": [
    "       ##########    #########    Universal functions  or UFuncs    ############   ############\n",
    "    \n",
    " =>  Ufunc exist in 2 flavours -->  Unary Ufunc    &   Binary Ufunc \n",
    "\n",
    " =>  Unary ufunc ->  This operates on single input.\n",
    "    \n",
    " =>  Binary ufunc  ->  This operate on 2 inputs."
   ]
  },
  {
   "cell_type": "markdown",
   "metadata": {},
   "source": [
    "<img src=\"images/arithmetic-ufunc.png\">"
   ]
  },
  {
   "cell_type": "code",
   "execution_count": null,
   "metadata": {},
   "outputs": [],
   "source": [
    "      #############   ###########   Absolute value function    ############    #############\n",
    "\n",
    " =>  abs() ->  This is Python inbuilt function and returns positive values only.\n",
    "\n",
    " =>  np.abs(array or list of array)  ->  This is numpy absolute value function and works similarly."
   ]
  },
  {
   "cell_type": "code",
   "execution_count": null,
   "metadata": {},
   "outputs": [],
   "source": [
    "        ############   ##########   Trigonometric Ufuncs   ##########   ############\n",
    "    \n",
    "    *  angles_array = np.linspace(0, np.pi, 3)\n",
    "\n",
    " =>  np.sin(angles_array)  ->  This gives sine of angles passing with it.\n",
    " =>  np.cos(angles_array)  ->  This gives cos of passing angles.\n",
    " =>  np.tan(angles_array)  ->  This gives Tan of passing angles.\n",
    "\n",
    "        ############   ##########    Inverse - Trigonometric Ufuncs   ##########   ############\n",
    "    \n",
    "    *  x = [-1, 0, 1]\n",
    "    \n",
    " =>  np.arcsin(),  np.arccos()  &  np.arctan()  are Inverse-Trigonometric functions."
   ]
  },
  {
   "cell_type": "code",
   "execution_count": null,
   "metadata": {},
   "outputs": [],
   "source": [
    "       ############   ##########   Exponential and Logarithmic Ufuncs   ##########   ############\n",
    "    \n",
    "    *  x = [1, 2, 3]\n",
    "\n",
    " =>  np.exp(x)  ->  This gives e^x .\n",
    " \n",
    " =>  np.exp2(x) ->  This gives 2^x.\n",
    "    \n",
    " =>  np.power(3, x)  ->  This gives 3^x. \n",
    "\n",
    "     \n",
    "    * x = [1, 2, 4, 10]\n",
    "\n",
    " =>  np.log(x),  np.log2(x)  &  np.log10(x)  are Logarithmic functions.\n",
    "\n",
    " =>  np.expm1(x) & np.log1p(x)  are 2 methods used for small precision."
   ]
  },
  {
   "cell_type": "code",
   "execution_count": null,
   "metadata": {},
   "outputs": [],
   "source": [
    " =>  special package under scipy contains more advanced ufuncs.\n",
    "    \n",
    " =>  we should import special from scipy. -->>  from scipy import special\n",
    "    \n",
    " =>  special.gamma(x), special.gammaln(x), special.beta(x, 2) with x = [1, 5, 10]"
   ]
  },
  {
   "cell_type": "code",
   "execution_count": null,
   "metadata": {},
   "outputs": [],
   "source": [
    "            ###########    ############   Specifying outputs   #############    ##############\n",
    "    \n",
    " =>  For large calculations, it is useful to be able to specify the array, where the result of calculation \n",
    "       will be stored.  \n",
    "    \n",
    " =>  Rather than creating a Temporary array, We should use out argument to write computation results\n",
    "      directly to memory location.\n",
    "    \n",
    " =>  Every Numpy ufuncs may use this out argument. \n",
    "\n",
    " =>  This out argument can be used with array views (or shallow copies)."
   ]
  },
  {
   "cell_type": "code",
   "execution_count": null,
   "metadata": {},
   "outputs": [],
   "source": [
    "#  Code - 1 :  Python code to show the use of 'out' argument.\n",
    "import numpy as np\n",
    "\n",
    "x = np.arange(5)\n",
    "y = np.empty(5)\n",
    "\n",
    "# Using ufunc for multiplying\n",
    "np.multiply(x, 10, out = y)\n",
    "\n",
    "# printing the computed result\n",
    "print(y)\n"
   ]
  },
  {
   "cell_type": "code",
   "execution_count": null,
   "metadata": {},
   "outputs": [],
   "source": [
    "      #########   ###########    calling reduce() method on add() method   ##########    ###########\n",
    "    \n",
    " =>  reduce() method is used to repeatedly appplies a given oiperation to the elements of an array, \n",
    "               until only a single result remains. This can be use with add() , multiply() etc.\n",
    "    \n",
    " =>  accumulate is used to store all the intermeddiate results of computation."
   ]
  },
  {
   "cell_type": "code",
   "execution_count": null,
   "metadata": {},
   "outputs": [],
   "source": [
    "#  Python code to show working of reduce() and accumulate() with add() and multiplication operations.\n",
    "\n",
    "x = np.arange(1, 6)\n",
    "\n",
    "#  using reduce() with add()\n",
    "print(\"The reduced value of addition is : \", np.add.reduce(x))\n",
    "print(\"The accumulated value of addition is : \", np.add.accumulate(x))\n",
    "print (\"\\n\")\n",
    "\n",
    "# Using reduce() and accumulate() with multiply()\n",
    "print(\"The reduced value of multiplication is : \", np.multiply.reduce(x))\n",
    "print(\"The accumulated value of addition is : \", np.multiply.accumulate(x))\n"
   ]
  },
  {
   "cell_type": "code",
   "execution_count": null,
   "metadata": {},
   "outputs": [],
   "source": [
    "          ###########    ##########   some more Numpy ufuncs   ############    #############\n",
    "    \n",
    " =>  np.sum(array, axix=None, dtype=None, out=None, keepdims=<novalue>, initial=<novalue>, where=<novalue>)\n",
    "\n",
    " =>  This return sum of array elements over a given axis.\n",
    "\n",
    " =>  np.prod(array, axis, dtype, out, keepdims, initial, where)\n",
    "    \n",
    " =>  This return products of array elements over a given axis.\n",
    "\n",
    " =>  np.cumsum(array, axis=None, dtype, out)\n",
    "    \n",
    " =>  This return the cumulative sum of the elements along a given axis.\n",
    "\n",
    " =>  np.cumprod(array, axis, dtype, out)\n",
    "    \n",
    " =>  This return the cumulative product of elements along a given axis.\n",
    "\n",
    "       ##############    ###########    Outer method    ###############     #############\n",
    "\n",
    " =>  Anu Numpy ufunc can compute the output of all pairs of 2 diffferent input using outer method.\n",
    " \n",
    " =>  This allows to create a multiplication table in one line.\n",
    "\n",
    "        >>>  x = np.arange(1,6)\n",
    "        >>>  np.multiply.outer(x,x))\n",
    "    "
   ]
  },
  {
   "cell_type": "code",
   "execution_count": null,
   "metadata": {},
   "outputs": [],
   "source": [
    "       ###########    ##########    Aggregation in Numpy    ############    ############\n",
    "    \n",
    " =>  np.sum() is used for summing the values in an array.\n",
    "\n",
    " =>  np.min() and np.max() are used for returning Minimum and maximum values from an array.\n",
    "\n",
    " =>  Use Numpy versions of these functions with numpy arrays.    \n",
    "\n",
    "      >>>  x = np.arange(16)\n",
    "    \n",
    "      >>>  print(x.sum(), x.min(), x.max())"
   ]
  },
  {
   "cell_type": "code",
   "execution_count": null,
   "metadata": {},
   "outputs": [],
   "source": [
    "        ############    ############    Aggregation over 2-d Arrays    ############    #############\n",
    "    \n",
    " =>  Each aggregation function takes an argument 'axis' to specify along which axis, aggregate is computed.\n",
    "\n",
    " =>  'axis' = 0 or 1 is used for doing aggregation operation along a row or a column.\n",
    "    \n",
    " =>  By-default, every aggregation function will performed over the entire array.\n",
    "\n",
    " =>  'axis=0' means that 1st axis will be collapsed and so aggregation will be performed within each column.\n",
    "    \n",
    " =>  'axis=1' means that 1st axis will be collapsed and aggregation will be performed within each rows."
   ]
  },
  {
   "cell_type": "markdown",
   "metadata": {},
   "source": [
    "<img src=\"images/aggregation.png\">"
   ]
  },
  {
   "cell_type": "code",
   "execution_count": null,
   "metadata": {},
   "outputs": [],
   "source": [
    "#     ############    ###########   what is average heights of US Presidents?    ############    #############\n",
    "    \n",
    " #  Importing the necessary modules   \n",
    "import pandas as pd\n",
    "import numpy as np\n",
    "import matplotlib.pyplot as plt\n",
    "import seaborn; seaborn.set()\n",
    "\n",
    "# creating a dataframe fom csv file\n",
    "data = pd.read_csv(\"heights.csv\")\n",
    "\n",
    "# creating  Numpy array from 'height(cm)' column of Dataframe\n",
    "heights = np.array(data['height(cm)'])\n",
    "\n",
    "# aggreagation op[erations for statistical values\n",
    "\n",
    "print (\"Mean height   - \", heights.mean())\n",
    "print (\"Standard Deviation -\", heights.std())  \n",
    "print (\"Minimum height - \", heights.min())\n",
    "print (\"Maximum height - \", heights.max())\n",
    "print (\"25th percentile - \", np.percentile(heights, 25))\n",
    "print (\"75th percentile - \", np.percentile(heights, 75))\n",
    "print (\"Median - \", np.median(heights))\n",
    "\n",
    "# Plotting this dataset\n",
    "\n",
    "plt.hist(heights)\n",
    "plt.title('Height distribution of US Presidents')\n",
    "plt.xlabel('Heights in (cm)')\n",
    "plt.ylabel('Number')"
   ]
  },
  {
   "cell_type": "code",
   "execution_count": null,
   "metadata": {},
   "outputs": [],
   "source": [
    "       ##############    ##############    Binary operation over arays    ##############     ################\n",
    "    \n",
    " =>  For arrays of same size, Binary operations are performed on an element-by-element basis.\n",
    "\n",
    "      >>>  A = np.array([1, 2, 3]) ;  B = np.array([4, 5, 6])\n",
    "      \n",
    "      >>>  A + B  =>  array([5, 7, 9])   "
   ]
  },
  {
   "cell_type": "code",
   "execution_count": null,
   "metadata": {},
   "outputs": [],
   "source": [
    "     #############    #############    Computation on Arrays :  Broadcasting   #############    ################\n",
    "    \n",
    " =>  Broadcasting is simply a set of rules for applying Binary ufuncs (Addition, substraction, Multiplication, etc.)\n",
    "       on arrays of different sizes and dimensions.\n",
    "    \n",
    " =>  Broadcasting allows Binary operation over arrays of different sizes.\n",
    "\n",
    " =>  In case of differemnt sizes, Small array is stretched or broadcasted across the 2nd dimension in order\n",
    "        to match the shape of Big array. "
   ]
  },
  {
   "cell_type": "code",
   "execution_count": null,
   "metadata": {},
   "outputs": [],
   "source": [
    "     ###########     ###########     Binary operation using Broadcasting    ##############    #############"
   ]
  },
  {
   "cell_type": "markdown",
   "metadata": {},
   "source": [
    "<img src=\"images/array-broadcasting.png\">"
   ]
  },
  {
   "cell_type": "code",
   "execution_count": null,
   "metadata": {},
   "outputs": [],
   "source": [
    "     ############    ###########    Rules of Broadcasting  Of Arrays    ##############     ###############\n",
    "    \n",
    " =>  Broadcasting in NumPy follows a strict set of rules to determine the interaction between the two arrays.\n",
    "\n",
    "     • Rule 1: If the two arrays differ in their number of dimensions, the shape of the one\n",
    "                  with fewer dimensions is padded with ones on its leading (left) side.\n",
    "\n",
    "     • Rule 2: If the shape of the two arrays does not match in any dimension, the array with shape \n",
    "                  equal to 1 in that dimension is stretched to match the other shape.\n",
    "\n",
    "     • Rule 3: If in any dimension the sizes disagree and neither is equal to 1, an error is raised.\n"
   ]
  },
  {
   "cell_type": "code",
   "execution_count": null,
   "metadata": {},
   "outputs": [],
   "source": [
    "     ###########    ###########    Binary operation between a scalar and 1-d array   ###########    ##########\n",
    "    \n",
    " =>  In order to perform an operation over scalars & a 1-d array, it just makes a similar 1-d array\n",
    "        with that scalar value and then do operation over them on elements-by-element basis.\n",
    "    \n",
    "    >>>   A = np.array([1, 2, 3])\n",
    "    \n",
    "    >>>   A + 5\n",
    "    \n",
    "    \n",
    "   ###########    ###########    Binary operation between a 1-d array and 2-d array   ###########    ##########\n",
    "       \n",
    " =>  In order to perform a binary operation over 1-d array and 2-d array, it just transform 1-d array\n",
    "       into 2-d array by adding extra columns with old values.\n",
    "    \n",
    " =>  So we get 2 arrays of similar shape and size.\n",
    "\n",
    "        >>>   M = np.ones((3,3));   A = np.array([0, 1, 2])\n",
    "    \n",
    "        >>>   M + A"
   ]
  },
  {
   "cell_type": "code",
   "execution_count": null,
   "metadata": {},
   "outputs": [],
   "source": [
    "         ###########    ##########    Some Broadcsting examples   #############    ##############\n",
    "    \n",
    " =>  Adding 2-d array with 1-d array.\n",
    "\n",
    "      >>>  m = np.ones((2,3));  a = np.arange(3)\n",
    "    \n",
    " =>  Shape of m is (2,3) and shape of a is (1,3), so shapes are not matching.\n",
    "\n",
    " =>  By using rule 2 => Array with shape (1, 3) is stretched to match the array of shape (2,3).\n",
    "    \n",
    " =>  Then we get 2 arrays of same shape."
   ]
  },
  {
   "cell_type": "code",
   "execution_count": null,
   "metadata": {},
   "outputs": [],
   "source": [
    " =>  Adding a Row vector with Column vector\n",
    "\n",
    "       >>>  a = np.arange(3) ;  b = np.arange(3)[:, np.newaxis]\n",
    " \n",
    " =>  Shape of a is (1,3) and shape of b is (3,1),\n",
    "    \n",
    " =>  By using Rule 2, we just upgrade each of them to match their shapes.\n",
    " \n",
    " =>  After performing binary operation , we get a 2-d array with shape (3,3).\n"
   ]
  },
  {
   "cell_type": "code",
   "execution_count": null,
   "metadata": {},
   "outputs": [],
   "source": [
    " =>  Adding 2 Incompatible arrays.\n",
    "\n",
    "      >>>  m = np.ones((3,2));  a = np.arange(3)\n",
    "        \n",
    " =>  Shape of m is (3,2) and shape of a is (1,3).\n",
    "    \n",
    " =>  Here it is not possible to match the shape of both arrays, so they are not compatible to Broadcasting.\n",
    "\n",
    " =>  Performing a Binary operation over Incompatible arrays, we get a Valueerror for sure.\n"
   ]
  },
  {
   "cell_type": "code",
   "execution_count": null,
   "metadata": {},
   "outputs": [],
   "source": [
    "    ###########  ########   Broadcasting in Practice : Plotting a 2-d function   ############   ###########\n",
    "    \n",
    " =>  Broadcasting is used to display images based on 2-d function z = f(x,y) ."
   ]
  },
  {
   "cell_type": "code",
   "execution_count": 25,
   "metadata": {},
   "outputs": [
    {
     "data": {
      "text/plain": [
       "<matplotlib.colorbar.Colorbar at 0x7f37fefdde50>"
      ]
     },
     "execution_count": 25,
     "metadata": {},
     "output_type": "execute_result"
    },
    {
     "data": {
      "image/png": "[encoded data removed]",
      "text/plain": [
       "<Figure size 432x288 with 2 Axes>"
      ]
     },
     "metadata": {
      "needs_background": "light"
     },
     "output_type": "display_data"
    }
   ],
   "source": [
    "#  Python program to show plotting of a 2-d function \n",
    "\n",
    "x = np.linspace(0, 5, 50)\n",
    "y = np.linspace(0, 5, 50)[:, np.newaxis]\n",
    "\n",
    "z = np.sin(x)**2 + np.cos(10+y+x)**2 + np.cos(x)\n",
    "\n",
    "# Plotting this function \n",
    "%matplotlib inline\n",
    "import matplotlib.pyplot as plt\n",
    "\n",
    "plt.imshow(z, origin='lower', extent=[0,5,0,5], Cmap='viridis')\n",
    "plt.colorbar()"
   ]
  },
  {
   "cell_type": "code",
   "execution_count": null,
   "metadata": {},
   "outputs": [],
   "source": [
    "     #########    ##########    Comparison, Masking and boolean operators in Numpy   ###########    ############\n",
    "    \n",
    " =>  Numpy provides some comparison operators, which always return an array with Boolean data types based \n",
    "         on a condition.\n",
    "    \n",
    "    \n",
    "    >>>   x = np.array([1, 2, 3, 4]);  \n",
    "    \n",
    "    >>>   x < 4   -->  array([True, True, True, False])"
   ]
  },
  {
   "cell_type": "markdown",
   "metadata": {},
   "source": [
    "<img src=\"images/compare-ufunc.png\">"
   ]
  },
  {
   "cell_type": "code",
   "execution_count": null,
   "metadata": {},
   "outputs": [],
   "source": [
    "     ##########    #########   Counting entries in Boolean arrays   ############   #############\n",
    "    \n",
    " *  np.count_nonzero(array, axis) ->  This counts the number of non-zero values in the array.\n",
    "\n",
    " =>  If we are passing an array with comparison operators, then it counts all nonzero entries on the basis of that \n",
    "         condition or logic\n",
    "        \n",
    "      >>>  np.count_nonzero(x < 6)   \n",
    "    \n",
    " *  np.sum(x < 6) ->  This is also used for counting thee nonzero entries of an array based on any condition.\n",
    "\n",
    "      >>>  np.sum(x < 6)\n",
    "    \n",
    " =>  axis = 0 or 1 ->  This axis is used to perform these operations along row or column wise in an array.\n",
    "\n",
    "\n",
    " *  np.any(array, axis)  &  np.all(array, axis)  are used for checking some conditions in an array \n",
    "                                                  row or column wise.\n",
    "        \n",
    "    "
   ]
  },
  {
   "cell_type": "code",
   "execution_count": null,
   "metadata": {},
   "outputs": [],
   "source": [
    "      ###########    #########   Boolean operators and their ufuncs   ###########   ##############"
   ]
  },
  {
   "cell_type": "markdown",
   "metadata": {},
   "source": [
    "<img src=\"images/bitwise-ufunc.png\">"
   ]
  },
  {
   "cell_type": "code",
   "execution_count": null,
   "metadata": {},
   "outputs": [],
   "source": [
    "             #########   #########   Boolean arrays as mask  ###########   ############\n",
    "    \n",
    " =>  Applying some logics to an array return a new array with Boolean values of shape similar to old array.\n",
    "\n",
    "       >>> x < 5    -->  array([True, False, True, True, False, ..])\n",
    "    \n",
    " =>  Selection of some values of array on the basis of a particular condition is termed as Masking operation.\n",
    "\n",
    " =>  Masking of an array return a 1-d array with those selected elements.\n",
    "\n",
    " =>  We should use '&', '^', '~', '!' instead od 'and', or, 'not', 'xor' operations with Numpy arrays."
   ]
  },
  {
   "cell_type": "code",
   "execution_count": null,
   "metadata": {},
   "outputs": [],
   "source": [
    "         ###########    ##########   Fancy Indexing in arrays   ############   ############\n",
    "    \n",
    " =>  Fancy Indexing allows us to access and modify complicated subsets of an array values very quickly.\n",
    "\n",
    " =>  Fancy indexing means passing an array of indices to access multiple array elements at once.\n",
    "    \n",
    "    >>>  x = np.arrange(10)\n",
    "    \n",
    "    >>>  [x[3], x[2], x[7]]\n",
    "    \n",
    "    \n",
    " =>  We can pass a list or array of indices to get these numbers.\n",
    "\n",
    "     >>>  indices = [3, 7, 4]\n",
    "    \n",
    "     >>>  x[indices]  ->  array([3, 7, 4])\n",
    "        \n",
    "        \n",
    " =>  With fancy Indexing, the shape of result reflects the shape of index arrays\n",
    "           rather than shape of array which being indexed.\n",
    "    \n",
    " =>  Fancy indexing also works in the case of Multi-dimensional arrays.\n",
    "\n",
    "       >>> row = list or array of indices ; col = list or array of indices\n",
    "    \n",
    "       >>> x[row, col] -->  this returns elements of  corresponding rows and columns of array.\n",
    "        \n",
    "        \n",
    " =>  Fancy indexing can be combined with other indexings .\n",
    "\n",
    "      * Fancy indexing and simple indexing   ->   x[2, [1, 2, 3]]    \n",
    "     \n",
    "      * Fancy Indexing with slicing  ->  x[1:, [2, 0, 1]]\n",
    "    \n",
    "      * Fancy indexing with masking  ->  x[row[:, np.newaxis], mask]\n",
    "        \n",
    "        \n",
    " =>  Modifying Values with Fancy Indexing .\n",
    "     \n",
    "       * x[i] = 5\n",
    "        \n",
    " =>  np.add.at() and reduceat() are used for assignment of values at a particular index in an array."
   ]
  },
  {
   "cell_type": "code",
   "execution_count": null,
   "metadata": {},
   "outputs": [],
   "source": [
    "        ############    #########    Sorting arrays in Numpy   ###########   ############\n",
    "    \n",
    " =>  np.sort(array, axis, kind, order)  ->  This is used to sort elements of an array.\n",
    "\n",
    "      * array ->  This is the array to being sorted.\n",
    "    \n",
    "      * axis (optional) ->  (int or None) This is the axis, along which array will be sorted.\n",
    "    \n",
    "      * kind (optional) ->  This specifies the type of sort. Default is 'quicksort'.\n",
    "                           quicksort, mergesort, heapsort, stable are types of sort.\n",
    "                    \n",
    " =>  np.argsort(a, axis=-1, kind=None, order=None) ->  This returns the indices that would sort an array.\n",
    "\n",
    " =>  The indices obtained by argsort() can be used to get the sorted array by using fancy indexing.\n",
    "    \n",
    "        >>> x[indices]  ->  array([1, 2, 3, .. ])"
   ]
  },
  {
   "cell_type": "markdown",
   "metadata": {},
   "source": [
    "[sort, count](https://www.geeksforgeeks.org/numpy-sorting-searching-and-counting/)"
   ]
  },
  {
   "cell_type": "code",
   "execution_count": null,
   "metadata": {},
   "outputs": [],
   "source": [
    "         ###########    ###########    Numpy string operations    #############    ##############\n",
    "    \n",
    " =>  This module is used to perform vectorized string operations for arrays of dtype numpy.string_ or \n",
    "         numpy.unicode_. \n",
    " \n",
    "  *  np.char.lower()  ->  This function returns the lowercase string from the given string. \n",
    "                           It converts all uppercase characters to lowercase. \n",
    "                            If no uppercase characters exist, it returns the original string.\n",
    "             \n",
    "            >>>  np.char.lower(['Geeks', \"FOR\"])  OR  np.char.lower('GeekS')\n",
    "            \n",
    "  *  np.char.split()  ->  This function returns a list of strings after breaking the given string \n",
    "                            by the specified separator.         \n",
    "             \n",
    "            >>>  np.char.split('geeks, for, geeks', sep = ',')\n",
    "            \n",
    "            \n",
    "  *  np.char.join()  ->  This function is a string method and returns a string in which the elements \n",
    "                           of sequence have been joined by str separator.\n",
    "    \n",
    "            >>>  np.char.join('-', 'geeks')\n",
    "            >>>  np.char.join(['-', ':'], ['geeks', 'for'])\n",
    "            \n",
    "            \n",
    "  *  np.char.count()  -> This function returns the number of occurrences of a substring in the given string \n",
    "                           of an array.\n",
    "\n",
    "            >>>  a = np.array(['geeks', 'for', 'geeks'])\n",
    "            >>>  print(np.char.count(a,'geek'))\n",
    " \n",
    "\n",
    "  *  np.char.rfind()  ->  This function returns the highest index of the substring if found in given string.\n",
    "                            If not found then it returns -1.\n",
    "        \n",
    "            >>>  print(np.char.rfind(a,'geek'))\n",
    "            \n",
    "            \n",
    "  *  np.char.isnemeric()  -> This function returns “True” if all characters in the string are numeric characters, \n",
    "                              otherwise, It returns “False”.\n",
    "    \n",
    "            >>>  print(np.char.isnumeric('geeks')\n",
    "                       \n",
    "                       \n",
    "  *  np.char.equal(): This function checks for string1 == string2 elementwise.\n",
    "                       \n",
    "            >>>  np.char.equal('geeks','for')\n",
    "                       \n",
    "  *  np.char.not_equal(): This function checks whether two string is unequal or not.\n",
    "                       \n",
    "            >>>  np.char.unequal('geeks','for')\n",
    "                       \n",
    "  *  np.char.greater(): This function checks whether string1 is greater than string2 or not.\n",
    "                       \n",
    "            >>>  np.char.greater('geeks','for')"
   ]
  },
  {
   "cell_type": "markdown",
   "metadata": {},
   "source": [
    "<img src=\"images/numpy-str-methods.png\">"
   ]
  },
  {
   "cell_type": "markdown",
   "metadata": {},
   "source": [
    "<img src=\"images/np-strfn.png\">"
   ]
  },
  {
   "cell_type": "markdown",
   "metadata": {},
   "source": [
    "<img src=\"images/np-compare.png\">"
   ]
  },
  {
   "cell_type": "code",
   "execution_count": null,
   "metadata": {},
   "outputs": [],
   "source": [
    "       #############     ##############   Numpy mathematical functions    #############    ################\n",
    "    \n",
    " => np.sin(array) ->  This mathematical function helps user to calculate trignmetric sine for all elements of array.\n",
    "    \n",
    " => np.cos(array) ->  This function helps user to calculate trignmetric cosine for all elements of array\n",
    "                       \n",
    "    \n",
    " => np.tan(array) ->  This mathematical function helps user to compute the tangents for all elements of array.\n",
    "\n"
   ]
  },
  {
   "cell_type": "code",
   "execution_count": 9,
   "metadata": {},
   "outputs": [
    {
     "name": "stdout",
     "output_type": "stream",
     "text": [
      "Input array :  [0, 1.5707963267948966, 1.0471975511965976, 3.141592653589793]\n",
      "\n",
      "Sine values :  [0.00000000e+00 1.00000000e+00 8.66025404e-01 1.22464680e-16]\n",
      "\n",
      "Cosine values :  [ 1.000000e+00  6.123234e-17  5.000000e-01 -1.000000e+00]\n",
      "\n",
      " Tan Values :  [ 0.00000000e+00  1.63312394e+16  1.73205081e+00 -1.22464680e-16]\n"
     ]
    }
   ],
   "source": [
    "# Python code to show the sin() and cos() functions\n",
    "\n",
    "import numpy as np\n",
    "import math\n",
    " \n",
    "array = [0, math.pi / 2, np.pi / 3, np.pi]\n",
    "print (\"Input array : \", array)\n",
    " \n",
    "Sin_Values = np.sin(array)\n",
    "print (\"\\nSine values : \", Sin_Values)\n",
    "\n",
    "cos_Values = np.cos(array)\n",
    "print (\"\\nCosine values : \", cos_Values)\n",
    "\n",
    "tan_values = np.tan(array)\n",
    "print (\"\\n Tan Values : \", tan_values)"
   ]
  },
  {
   "cell_type": "code",
   "execution_count": null,
   "metadata": {},
   "outputs": [],
   "source": [
    " => np.around(arr, decimals = 0, out = None) ->  This mathematical function helps user to evenly round \n",
    "                                                     array elements to the given number of decimals.\n",
    "        \n",
    " => np.round(arr, decimals=0, out = None) ->  This mathematical function round an array to the \n",
    "                                                  given number of decimals. "
   ]
  },
  {
   "cell_type": "code",
   "execution_count": 10,
   "metadata": {},
   "outputs": [
    {
     "name": "stdout",
     "output_type": "stream",
     "text": [
      "Input array : \n",
      " [0.5, 1.5, 2.5, 3.5, 4.5, 10.1]\n",
      "\n",
      "Rounded values : \n",
      " [ 0.  2.  2.  4.  4. 10.]\n",
      "\n",
      "Input array : \n",
      " [0.53, 1.54, 0.71]\n",
      "\n",
      "Rounded values : \n",
      " [1. 2. 1.]\n",
      "\n",
      "Input array : \n",
      " [0.5538, 1.33354, 0.71445]\n",
      "\n",
      "Rounded values : \n",
      " [0.554 1.334 0.714]\n"
     ]
    }
   ],
   "source": [
    " \n",
    "import numpy as np\n",
    " \n",
    "in_array = [.5, 1.5, 2.5, 3.5, 4.5, 10.1]\n",
    "print (\"Input array : \\n\", in_array)\n",
    " \n",
    "round_off_values = np.around(in_array)\n",
    "print (\"\\nRounded values : \\n\", round_off_values)\n",
    " \n",
    " \n",
    "in_array = [.53, 1.54, .71]\n",
    "print (\"\\nInput array : \\n\", in_array)\n",
    " \n",
    "round_off_values = np.around(in_array)\n",
    "print (\"\\nRounded values : \\n\", round_off_values)\n",
    " \n",
    "in_array = [.5538, 1.33354, .71445]\n",
    "print (\"\\nInput array : \\n\", in_array)\n",
    " \n",
    "round_off_values = np.around(in_array, decimals = 3)\n",
    "print (\"\\nRounded values : \\n\", round_off_values)"
   ]
  },
  {
   "cell_type": "code",
   "execution_count": 11,
   "metadata": {},
   "outputs": [
    {
     "name": "stdout",
     "output_type": "stream",
     "text": [
      "Input array : \n",
      " [0.5, 1.5, 2.5, 3.5, 4.5, 10.1]\n",
      "\n",
      "Rounded values : \n",
      " [ 0.  2.  2.  4.  4. 10.]\n",
      "\n",
      "Input array : \n",
      " [0.53, 1.54, 0.71]\n",
      "\n",
      "Rounded values : \n",
      " [1. 2. 1.]\n",
      "\n",
      "Input array : \n",
      " [0.5538, 1.33354, 0.71445]\n",
      "\n",
      "Rounded values : \n",
      " [0.554 1.334 0.714]\n"
     ]
    }
   ],
   "source": [
    "# Python program explaining\n",
    "# round_() function\n",
    "import numpy as np\n",
    " \n",
    "in_array = [.5, 1.5, 2.5, 3.5, 4.5, 10.1]\n",
    "print (\"Input array : \\n\", in_array)\n",
    " \n",
    "round_off_values = np.round_(in_array)\n",
    "print (\"\\nRounded values : \\n\", round_off_values)\n",
    " \n",
    " \n",
    "in_array = [.53, 1.54, .71]\n",
    "print (\"\\nInput array : \\n\", in_array)\n",
    " \n",
    "round_off_values = np.round_(in_array)\n",
    "print (\"\\nRounded values : \\n\", round_off_values)\n",
    " \n",
    "in_array = [.5538, 1.33354, .71445]\n",
    "print (\"\\nInput array : \\n\", in_array)\n",
    " \n",
    "round_off_values = np.round_(in_array, decimals = 3)\n",
    "print (\"\\nRounded values : \\n\", round_off_values)"
   ]
  },
  {
   "cell_type": "code",
   "execution_count": null,
   "metadata": {},
   "outputs": [],
   "source": [
    " * numpy.exp(array, out = None, where = True, casting = ‘same_kind’, order = ‘K’, dtype = None) \n",
    "        \n",
    " =>  This mathematical function helps user to calculate exponential of all the elements in the input array."
   ]
  },
  {
   "cell_type": "code",
   "execution_count": 12,
   "metadata": {},
   "outputs": [
    {
     "name": "stdout",
     "output_type": "stream",
     "text": [
      "Input array :  [1, 3, 5]\n",
      "Output array :  [  2.71828183  20.08553692 148.4131591 ]\n"
     ]
    }
   ],
   "source": [
    "# Python program explaining\n",
    "# exp() function\n",
    "import numpy as np\n",
    " \n",
    "in_array = [1, 3, 5]\n",
    "print (\"Input array : \", in_array)\n",
    " \n",
    "out_array = np.exp(in_array)\n",
    "print (\"Output array : \", out_array)\n"
   ]
  },
  {
   "cell_type": "code",
   "execution_count": null,
   "metadata": {},
   "outputs": [],
   "source": [
    " =>  numpy.log(x[, out] = ufunc ‘log1p’) \n",
    "    \n",
    " =>  This mathematical function helps user to calculate Natural logarithm of x where x belongs to all\n",
    "         the input array elements.\n",
    "\n",
    " =>  Natural logarithm log is the inverse of the exp(), so that log(exp(x)) = x. \n",
    "\n",
    " =>  The natural logarithm is log in base e."
   ]
  },
  {
   "cell_type": "code",
   "execution_count": 13,
   "metadata": {},
   "outputs": [
    {
     "name": "stdout",
     "output_type": "stream",
     "text": [
      "Input array :  [1, 3, 5, 256]\n",
      "Output array :  [0.         1.09861229 1.60943791 5.54517744]\n",
      "\n",
      "np.log(4**4) :  5.545177444479562\n",
      "np.log(2**8) :  5.545177444479562\n"
     ]
    }
   ],
   "source": [
    "# Python program explaining\n",
    "# log() function\n",
    "import numpy as np\n",
    " \n",
    "in_array = [1, 3, 5, 2**8]\n",
    "print (\"Input array : \", in_array)\n",
    " \n",
    "out_array = np.log(in_array)\n",
    "print (\"Output array : \", out_array)\n",
    " \n",
    " \n",
    "print(\"\\nnp.log(4**4) : \", np.log(4**4))\n",
    "print(\"np.log(2**8) : \", np.log(2**8))\n"
   ]
  },
  {
   "cell_type": "code",
   "execution_count": null,
   "metadata": {},
   "outputs": [],
   "source": [
    " =>  numpy.reciprocal(x, /, out=None, *, where=True) \n",
    "    \n",
    " =>  This mathematical function is used to calculate reciprocal of all the elements in the input array.\n",
    "\n",
    " =>  Note: For integer arguments with absolute value larger than 1, the result is always zero, \n",
    "                because of the way Python handles integer division. For integer zero the result is an overflow."
   ]
  },
  {
   "cell_type": "code",
   "execution_count": 15,
   "metadata": {},
   "outputs": [
    {
     "name": "stdout",
     "output_type": "stream",
     "text": [
      "Input  number :  2.0\n",
      "Output number :  0.5\n"
     ]
    }
   ],
   "source": [
    "# Python3 code demonstrate reciprocal() function\n",
    " \n",
    "# importing numpy\n",
    "import numpy as np\n",
    " \n",
    "in_num = 2.0\n",
    "print (\"Input  number : \", in_num)\n",
    " \n",
    "out_num = np.reciprocal(in_num)\n",
    "print (\"Output number : \", out_num)"
   ]
  },
  {
   "cell_type": "code",
   "execution_count": null,
   "metadata": {},
   "outputs": [],
   "source": [
    " =>  numpy.divide(arr1, arr2, out = None, where = True, casting = ‘same_kind’, order = ‘K’, dtype = None)\n",
    "    \n",
    " =>  Array element from first array is divided by elements from second element (all happens element-wise). \n",
    "\n",
    " =>  Both arr1 and arr2 must have same shape and element in arr2 must not be zero; otherwise it will raise an error.\n",
    "    "
   ]
  },
  {
   "cell_type": "code",
   "execution_count": 16,
   "metadata": {},
   "outputs": [
    {
     "name": "stdout",
     "output_type": "stream",
     "text": [
      "arr1         :  [2, 27, 2, 21, 23]\n",
      "arr2         :  [2, 3, 4, 5, 6]\n",
      "\n",
      "Output array : \n",
      " [1.         9.         0.5        4.2        3.83333333]\n"
     ]
    }
   ],
   "source": [
    "# Python program explaining\n",
    "# divide() function\n",
    "import numpy as np\n",
    " \n",
    "# input_array\n",
    "arr1 = [2, 27, 2, 21, 23]\n",
    "arr2 = [2, 3, 4, 5, 6]\n",
    "print (\"arr1         : \", arr1)\n",
    "print (\"arr2         : \", arr2)\n",
    " \n",
    "# output_array\n",
    "out = np.divide(arr1, arr2)\n",
    "print (\"\\nOutput array : \\n\", out)"
   ]
  },
  {
   "cell_type": "code",
   "execution_count": null,
   "metadata": {},
   "outputs": [],
   "source": [
    " =>  numpy.isreal(array) -> This test element-wise whether it is a real number or not(not infinity or not \n",
    "                              Not a Number) and return the result as a boolean array."
   ]
  },
  {
   "cell_type": "code",
   "execution_count": 18,
   "metadata": {},
   "outputs": [
    {
     "name": "stdout",
     "output_type": "stream",
     "text": [
      "Is Real :  [False  True] \n",
      "\n",
      "Is Real :  [ True  True] \n",
      "\n"
     ]
    }
   ],
   "source": [
    "print(\"Is Real : \", np.isreal([1+1j, 0j]), \"\\n\")\n",
    "\n",
    "print(\"Is Real : \", np.isreal([1, 0]), \"\\n\")"
   ]
  },
  {
   "cell_type": "code",
   "execution_count": null,
   "metadata": {},
   "outputs": [],
   "source": [
    " =>  numpy.conj(x[, out] = ufunc ‘conjugate’) : This function helps the user to conjugate any complex number.\n",
    "\n",
    "    >>>  array = 1 + 2j\n",
    "    \n",
    "    >>>  np.conj(array)  -->  1 - 2j"
   ]
  },
  {
   "cell_type": "code",
   "execution_count": null,
   "metadata": {},
   "outputs": [],
   "source": [
    " =>  numpy.cbrt(arr, out = None) ->  This mathematical function helps user to calculate cube root of x for all \n",
    "                                      (x being the array elements)."
   ]
  },
  {
   "cell_type": "code",
   "execution_count": 19,
   "metadata": {},
   "outputs": [
    {
     "name": "stdout",
     "output_type": "stream",
     "text": [
      "cbrt Value of arr1 : \n",
      " [  1.  30.   4. -10.]\n",
      "\n",
      "cbrt Value of arr2 :  [10.0793684 -5.0396842]\n"
     ]
    }
   ],
   "source": [
    "# Python program explaining\n",
    "# cbrt () function\n",
    "  \n",
    "import numpy as np\n",
    "  \n",
    "arr1 = [1, 27000, 64, -1000]\n",
    "print (\"cbrt Value of arr1 : \\n\", np.cbrt(arr1))\n",
    "  \n",
    "arr2 = [1024 ,-128]\n",
    "print (\"\\ncbrt Value of arr2 : \", np.cbrt(arr2))\n"
   ]
  },
  {
   "cell_type": "code",
   "execution_count": null,
   "metadata": {},
   "outputs": [],
   "source": [
    " => np.clip()  ->  This function is used to Clip (limit) the values in an array."
   ]
  },
  {
   "cell_type": "code",
   "execution_count": 20,
   "metadata": {},
   "outputs": [
    {
     "name": "stdout",
     "output_type": "stream",
     "text": [
      "Input array :  [1, 2, 3, 4, 5, 6, 7, 8]\n",
      "Output array :  [2 2 3 4 5 6 6 6]\n"
     ]
    }
   ],
   "source": [
    "# Python3 code demonstrate clip() function\n",
    " \n",
    "# importing the numpy\n",
    "import numpy as np\n",
    " \n",
    "in_array = [1, 2, 3, 4, 5, 6, 7, 8 ]\n",
    "print (\"Input array : \", in_array)\n",
    " \n",
    "out_array = np.clip(in_array, a_min = 2, a_max = 6)\n",
    "print (\"Output array : \", out_array)\n"
   ]
  },
  {
   "cell_type": "markdown",
   "metadata": {},
   "source": [
    "<img src=\"images/np-math1.png\">"
   ]
  },
  {
   "cell_type": "markdown",
   "metadata": {},
   "source": [
    "<img src=\"images/np-math2.png\">"
   ]
  },
  {
   "cell_type": "markdown",
   "metadata": {},
   "source": [
    "<img src=\"images/np-math3.png\">"
   ]
  },
  {
   "cell_type": "markdown",
   "metadata": {},
   "source": [
    "<img src=\"images/np-math4.png\">"
   ]
  },
  {
   "cell_type": "markdown",
   "metadata": {},
   "source": [
    "<img src=\"images/np-math5.png\">"
   ]
  },
  {
   "cell_type": "code",
   "execution_count": null,
   "metadata": {},
   "outputs": [],
   "source": [
    "    #############    ############    Numpy Binary operations   #############    ###############"
   ]
  },
  {
   "cell_type": "markdown",
   "metadata": {},
   "source": [
    "[Numpy Binary operations](https://www.geeksforgeeks.org/numpy-binary-operations/)"
   ]
  },
  {
   "cell_type": "code",
   "execution_count": null,
   "metadata": {},
   "outputs": [],
   "source": [
    "       ##########    ###########    Numpy :  Iterating over an Array  #############    #############\n",
    "    \n",
    " =>  'numpy.nditer' is used to iterate over elements of a Numpy Array.\n",
    "\n",
    " =>  The nditer object provides an order parameter to control this aspect of iteration.\n",
    "    \n",
    " =>  The default, having the behavior described above, is order=’K’ to keep the existing order.\n",
    "\n",
    " => The nditer object has another optional parameter called op_flags and is used to modifying the values \n",
    "        of elements of array using iterator. \n",
    "    \n",
    " => Its default value is read-only, but can be set to read-write or write-only mode."
   ]
  },
  {
   "cell_type": "markdown",
   "metadata": {},
   "source": [
    "<img src=\"images/np-iteration.png\">"
   ]
  },
  {
   "cell_type": "code",
   "execution_count": 39,
   "metadata": {},
   "outputs": [
    {
     "name": "stdout",
     "output_type": "stream",
     "text": [
      "[[ 0  1  2  3]\n",
      " [ 4  5  6  7]\n",
      " [ 8  9 10 11]]\n",
      "\n",
      "\n",
      "Iteration with default order 'K' : \n",
      "0 1 2 3 4 5 6 7 8 9 10 11 \n",
      "\n",
      "Iteration with C order : \n",
      "0 1 2 3 4 5 6 7 8 9 10 11 \n",
      "\n",
      "Iteration with F order : \n",
      "0 4 8 1 5 9 2 6 10 3 7 11 \n",
      "\n",
      "Modified array is: \n",
      "[[ 0  5 10 15]\n",
      " [20 25 30 35]\n",
      " [40 45 50 55]]\n"
     ]
    }
   ],
   "source": [
    "array = np.arange(12).reshape(3, 4)\n",
    "\n",
    "# Printing the original array\n",
    "print (array)\n",
    "\n",
    "print(\"\\n\")\n",
    "\n",
    "# iterating  an array\n",
    "print (\"Iteration with default order 'K' : \")\n",
    "for i in np.nditer(array):\n",
    "    print(i, end=\" \")\n",
    "    \n",
    "print (\"\\n\")\n",
    "    \n",
    "# iterating an array in 'C' order  \n",
    "print (\"Iteration with C order : \")\n",
    "for i in np.nditer(array, order = 'C'): \n",
    "    print(i, end=\" \")\n",
    "    \n",
    "    \n",
    "print (\"\\n\")\n",
    "    \n",
    "# iterating an array in 'F' order  \n",
    "print (\"Iteration with F order : \")\n",
    "for i in np.nditer(array, order = 'F'): \n",
    "    print(i, end=\" \")\n",
    "    \n",
    "print (\"\\n\")\n",
    "\n",
    "# modifying array values\n",
    "for x in np.nditer(array, op_flags = ['readwrite']):\n",
    "    x[...] = 5*x\n",
    "print('Modified array is: ')\n",
    "print(array)"
   ]
  },
  {
   "cell_type": "code",
   "execution_count": null,
   "metadata": {},
   "outputs": [],
   "source": [
    "         ##############    ###########    Numpy linear algebra    #############    ##############\n",
    "    \n",
    " =>  The Linear Algebra module of NumPy offers various methods to apply linear algebra on any numpy array.\n",
    "\n",
    " * np.linalg.matrix_rank(array)  ->  This return Rank of the array (Matrix).\n",
    "\n",
    " * np.linalg.det(array)  ->  This return the determinant of matrix.\n",
    "\n",
    " * np.linalg.inv(array)  ->  This return the inverse of a matrix.\n",
    "\n",
    " * np.trace(array)  ->  This return the trace of matrix.\n",
    "\n",
    " * np.linalg.matrix_power(array, n)  ->  This returna new matrix with old matrix raised to power n."
   ]
  },
  {
   "cell_type": "code",
   "execution_count": null,
   "metadata": {},
   "outputs": [],
   "source": [
    "    ###########    ############   Eigen Values and Eigen Vectors Functions   ############    ###############\n",
    "\n",
    " *  np.linalg.eigh(array, UPLO)  ->  This function is used to return the eigenvalues and eigenvectors\n",
    "                                 of a complex Hermitian (conjugate symmetric) or a real symmetric matrix.\n",
    "    \n",
    " =>  This returns two objects, a 1-D array containing the eigenvalues of a, and a 2-D square array or matrix \n",
    "       (depending on the input type) of the corresponding eigenvectors (in columns).\n",
    "    \n",
    "   * array  ->  Hermitian or Real Symmetric Matrices whose eigenvalues and eigen vectors to be computed.\n",
    "\n",
    "   * UPLO : {'L', 'U'}, optional\n",
    "   \n",
    "   =>  Specifies whether the calculation is done with the lower triangular part of `a` ('L', default) or \n",
    "         the upper triangular part ('U').\n",
    "    \n",
    "  \n",
    " *  numpy.linalg.eig(a) ->  This function is used to compute the eigenvalues and right eigenvectors of a \n",
    "                              square matrix(array).\n",
    "    "
   ]
  },
  {
   "cell_type": "markdown",
   "metadata": {},
   "source": [
    "<img src=\"images/la-method.png\">"
   ]
  },
  {
   "cell_type": "code",
   "execution_count": null,
   "metadata": {},
   "outputs": [],
   "source": [
    "          #############   ############   Matrix and Vector Products   #############    ###############\n",
    "    \n",
    " *  numpy.dot(vector_a, vector_b, out = None) \n",
    "\n",
    "    => This return the dot product of vectors a and b. \n",
    "\n",
    "    => It can handle 2D arrays but considering them as matrix and will perform matrix multiplication. \n",
    "    \n",
    "    => For N dimensions it is a sum product over the last axis of a and the second-to-last of b.\n",
    "\n",
    "        >>>  dot(a, b)[i,j,k,m] = sum(a[i,j,:] * b[k,:,m]) \n",
    "    \n",
    "    \n",
    " *  numpy.vdot(vector_a, vector_b)\n",
    "\n",
    "    => This return the dot product of vectors a and b. \n",
    "\n",
    "    => If first argument is complex the complex conjugate of the first argument(this is where vdot() differs \n",
    "         working of dot() method) is used for the calculation of the dot product. \n",
    "    \n",
    "    => It can handle multi-dimensional arrays but working on it as a flattened array.\n",
    "\n",
    "   \n",
    "    vector_a = 2 + 3j\n",
    "    vector_b = 4 + 5j\n",
    "\n",
    "    => dot product = 2(4 + 5j) + 3j(4 - 5j)\n",
    "                   = 8 + 10j + 12j - 15\n",
    "                   = -7 + 22j\n",
    " "
   ]
  },
  {
   "cell_type": "code",
   "execution_count": 14,
   "metadata": {},
   "outputs": [
    {
     "name": "stdout",
     "output_type": "stream",
     "text": [
      "Dot Product of scalar values  :  20\n",
      "Dot Product  :  (-7+22j)\n",
      "\n",
      "\n",
      "Dot Product  :  (23-2j)\n"
     ]
    }
   ],
   "source": [
    "# Python Program illustrating\n",
    "# numpy.dot() method\n",
    " \n",
    "import numpy as geek\n",
    " \n",
    "# Scalars\n",
    "product = geek.dot(5, 4)\n",
    "print(\"Dot Product of scalar values  : \", product)\n",
    " \n",
    "# 1D array\n",
    "vector_a = 2 + 3j\n",
    "vector_b = 4 + 5j\n",
    " \n",
    "product = geek.dot(vector_a, vector_b)\n",
    "print(\"Dot Product  : \", product)\n",
    "\n",
    "print (\"\\n\")\n",
    "\n",
    "# Python Program illustrating\n",
    "# numpy.vdot() method\n",
    " \n",
    "import numpy as geek\n",
    " \n",
    "# 1D array\n",
    "vector_a = 2 + 3j\n",
    "vector_b = 4 + 5j\n",
    " \n",
    "product = geek.vdot(vector_a, vector_b)\n",
    "print(\"Dot Product  : \", product)"
   ]
  },
  {
   "cell_type": "markdown",
   "metadata": {},
   "source": [
    " <img src=\"images/la-prod.png\">"
   ]
  },
  {
   "cell_type": "code",
   "execution_count": null,
   "metadata": {},
   "outputs": [],
   "source": [
    "     #############   ############   Solving Equations and Inverting matrices   #############    ###############\n",
    "    \n",
    " * numpy.linalg.solve() \n",
    "\n",
    " => This solve a linear matrix equation, or system of linear scalar equations.\n",
    "    \n",
    " => This computes the “exact” solution, x, of the well-determined, i.e., full rank, linear matrix equation ax = b."
   ]
  },
  {
   "cell_type": "code",
   "execution_count": 15,
   "metadata": {},
   "outputs": [
    {
     "name": "stdout",
     "output_type": "stream",
     "text": [
      "('Solution of linear equations:', array([2., 3.]))\n"
     ]
    }
   ],
   "source": [
    "# Python Program illustrating\n",
    "# numpy.linalg.solve() method\n",
    " \n",
    "import numpy as np\n",
    " \n",
    "# Creating an array using array\n",
    "# function\n",
    "a = np.array([[1, 2], [3, 4]])\n",
    " \n",
    "# Creating an array using array\n",
    "# function\n",
    "b = np.array([8, 18])\n",
    " \n",
    "print((\"Solution of linear equations:\", \n",
    "      np.linalg.solve(a, b)))"
   ]
  },
  {
   "cell_type": "code",
   "execution_count": null,
   "metadata": {},
   "outputs": [],
   "source": [
    " * numpy.linalg.lstsq() \n",
    "    \n",
    " => This return the least-squares solution to a linear matrix equation.\n",
    "\n",
    " => This solves the equation a x = b by computing a vector x that minimizes the Euclidean 2-norm || b – a x ||^2. \n",
    "    \n",
    " => The equation may be under-, well-, or over- determined (i.e., the number of linearly independent rows of a \n",
    "      can be less than, equal to, or greater than its number of linearly independent columns). \n",
    "\n",
    " => If a is square and of full rank, then x (but for round-off error) is the “exact” solution of the equation."
   ]
  },
  {
   "cell_type": "code",
   "execution_count": 16,
   "metadata": {},
   "outputs": [
    {
     "name": "stderr",
     "output_type": "stream",
     "text": [
      "/home/shriman-narayan/anaconda3/lib/python3.7/site-packages/ipykernel_launcher.py:15: FutureWarning: `rcond` parameter will change to the default of machine precision times ``max(M, N)`` where M and N are the input matrix dimensions.\n",
      "To use the future default and silence this warning we advise to pass `rcond=None`, to keep using the old, explicitly pass `rcond=-1`.\n",
      "  from ipykernel import kernelapp as app\n"
     ]
    },
    {
     "data": {
      "image/png": "[encoded data removed]",
      "text/plain": [
       "<Figure size 432x288 with 1 Axes>"
      ]
     },
     "metadata": {
      "needs_background": "light"
     },
     "output_type": "display_data"
    }
   ],
   "source": [
    "# Python Program illustrating\n",
    "# numpy.linalg.lstsq() method\n",
    " \n",
    " \n",
    "import numpy as np\n",
    "import matplotlib.pyplot as plt\n",
    " \n",
    "# x co-ordinates\n",
    "x = np.arange(0, 9)\n",
    "A = np.array([x, np.ones(9)])\n",
    " \n",
    "# linearly generated sequence\n",
    "y = [19, 20, 20.5, 21.5, 22, 23, 23, 25.5, 24]\n",
    "# obtaining the parameters of regression line\n",
    "w = np.linalg.lstsq(A.T, y)[0] \n",
    " \n",
    "# plotting the line\n",
    "line = w[0]*x + w[1] # regression line\n",
    "plt.plot(x, line, 'r-')\n",
    "plt.plot(x, y, 'o')\n",
    "plt.show()"
   ]
  },
  {
   "cell_type": "markdown",
   "metadata": {},
   "source": [
    "<img src=\"images/la-prod1.png\">"
   ]
  },
  {
   "cell_type": "markdown",
   "metadata": {},
   "source": [
    "<img src=\"images/la-prod2.png\">"
   ]
  },
  {
   "cell_type": "code",
   "execution_count": null,
   "metadata": {},
   "outputs": [],
   "source": [
    "      ###########    ############    Multiplication of 2 Matrices   ##################     ###############\n",
    "    \n",
    " =>  Two matrices A & B are said to be conformable for multiplication if no. of columns of A is equal to\n",
    "        no. of rows in B.\n",
    "     \n",
    " =>  If A is m*n matrix and B is n*l matrix, then AB will be a m*l matrix.\n",
    "\n",
    " =>  np.dot(mat1, mat2) ->  This is used to compute the product of two matrices conformable for multiplication.\n",
    "    \n",
    " =>  >>> (mat1 @ mat2) ->  This is also used for multiplying two matrices."
   ]
  },
  {
   "cell_type": "code",
   "execution_count": 19,
   "metadata": {},
   "outputs": [
    {
     "data": {
      "text/plain": [
       "[[114, 160, 60], [74, 97, 73], [119, 157, 112]]"
      ]
     },
     "execution_count": 19,
     "metadata": {},
     "output_type": "execute_result"
    }
   ],
   "source": [
    "#  Python program to compute the product of 2 matrices using loops.\n",
    "\n",
    "# input two matrices of size n x m \n",
    "matrix1 = [[12,7,3], \n",
    "\t\t[4 ,5,6], \n",
    "\t\t[7 ,8,9]] \n",
    "matrix2 = [[5,8,1], \n",
    "\t\t[6,7,3], \n",
    "\t\t[4,5,9]] \n",
    "\n",
    "res = [[0 for x in range(3)] for y in range(3)] \n",
    "\n",
    "# explicit for loops \n",
    "for i in range(len(matrix1)): \n",
    "\tfor j in range(len(matrix2[0])): \n",
    "\t\tfor k in range(len(matrix2)): \n",
    "\n",
    "\t\t\t# resulted matrix \n",
    "\t\t\tres[i][j] += matrix1[i][k] * matrix2[k][j] \n",
    "\n",
    "res"
   ]
  },
  {
   "cell_type": "code",
   "execution_count": null,
   "metadata": {},
   "outputs": [],
   "source": [
    "      #############      ############   Working with datetime in Numpy   ##############    ###############\n",
    "    \n",
    " =>  Numpy has core array data types which natively support datetime functionality. \n",
    "\n",
    " =>  The data type is called “datetime64”, so named because “datetime” is already taken by the datetime library\n",
    "       included in Python.\n"
   ]
  },
  {
   "cell_type": "code",
   "execution_count": 17,
   "metadata": {},
   "outputs": [
    {
     "name": "stdout",
     "output_type": "stream",
     "text": [
      "Date is: 2017-02-12\n",
      "Year is: 2017\n",
      "\n",
      "Dates of February, 2017:\n",
      " ['2017-02-01' '2017-02-02' '2017-02-03' '2017-02-04' '2017-02-05'\n",
      " '2017-02-06' '2017-02-07' '2017-02-08' '2017-02-09' '2017-02-10'\n",
      " '2017-02-11' '2017-02-12' '2017-02-13' '2017-02-14' '2017-02-15'\n",
      " '2017-02-16' '2017-02-17' '2017-02-18' '2017-02-19' '2017-02-20'\n",
      " '2017-02-21' '2017-02-22' '2017-02-23' '2017-02-24' '2017-02-25'\n",
      " '2017-02-26' '2017-02-27' '2017-02-28']\n",
      "Today is February: True\n",
      "\n",
      "No. of days: 365 days\n",
      "No. of weeks: 52 weeks\n",
      "\n",
      "Dates in sorted order: ['2016-10-13' '2017-02-12' '2019-05-22']\n"
     ]
    }
   ],
   "source": [
    "import numpy as np \n",
    "\n",
    "# creating a date \n",
    "today = np.datetime64('2017-02-12') \n",
    "print(\"Date is:\", today) \n",
    "print(\"Year is:\", np.datetime64(today, 'Y')) \n",
    "\n",
    "# creating array of dates in a month \n",
    "dates = np.arange('2017-02', '2017-03', dtype='datetime64[D]') \n",
    "print(\"\\nDates of February, 2017:\\n\", dates) \n",
    "print(\"Today is February:\", today in dates) \n",
    "\n",
    "# arithmetic operation on dates \n",
    "dur = np.datetime64('2017-05-22') - np.datetime64('2016-05-22') \n",
    "print(\"\\nNo. of days:\", dur) \n",
    "print(\"No. of weeks:\", np.timedelta64(dur, 'W')) \n",
    "\n",
    "# sorting dates \n",
    "a = np.array(['2017-02-12', '2016-10-13', '2019-05-22'], dtype='datetime64') \n",
    "print(\"\\nDates in sorted order:\", np.sort(a))\n"
   ]
  },
  {
   "cell_type": "code",
   "execution_count": null,
   "metadata": {},
   "outputs": [],
   "source": []
  },
  {
   "cell_type": "code",
   "execution_count": null,
   "metadata": {},
   "outputs": [],
   "source": []
  }
 ],
 "metadata": {
  "kernelspec": {
   "display_name": "Python 3",
   "language": "python",
   "name": "python3"
  },
  "language_info": {
   "codemirror_mode": {
    "name": "ipython",
    "version": 3
   },
   "file_extension": ".py",
   "mimetype": "text/x-python",
   "name": "python",
   "nbconvert_exporter": "python",
   "pygments_lexer": "ipython3",
   "version": "3.7.6"
  }
 },
 "nbformat": 4,
 "nbformat_minor": 2
}
