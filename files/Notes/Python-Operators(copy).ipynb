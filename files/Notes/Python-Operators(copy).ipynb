{
 "cells": [
  {
   "cell_type": "code",
   "execution_count": 1,
   "metadata": {},
   "outputs": [],
   "source": [
    "  \n",
    "    ##########   ##########   ##########   Operators in Python  #########   ##########   ############  #########\n"
   ]
  },
  {
   "cell_type": "code",
   "execution_count": null,
   "metadata": {},
   "outputs": [],
   "source": [
    "  ##########   ############   ##########  Operators in Python  ###########   ###########   #########  ######\n",
    "    \n",
    " =>  Arithmetic operators are used to perform mathematical operations like addition, subtraction,\n",
    "         multiplication and division.\n",
    "        \n",
    " =>  Relational operators compares the values and returns True or False according to the condition.\n",
    "\n",
    " =>  Logical operators perform Logical AND, Logical OR and Logical NOT operations.\n",
    "    \n",
    " =>  Bitwise operators acts on bits and performs bit by bit operation.\n",
    "\n",
    " =>  Assignment operators are used to assign values to the variables.\n",
    "    \n",
    " =>  Special Operators  -->  #  Identity operators       #  Membership Operators\n",
    "\n",
    "    *  Identity operators  -->  (is) and (is not) \n",
    "    \n",
    "         =>  Identity operators both are used to check if two values are located on the same part of the memory. \n",
    "        \n",
    "         =>  Two variables that are equal does not imply that they are identical.\n",
    "            \n",
    "    \n",
    "    *  Membership operators -->  (in) and (not in) \n",
    "    \n",
    "         =>  Membership operators which used to test whether a value or variable is in a sequence or not."
   ]
  },
  {
   "cell_type": "code",
   "execution_count": null,
   "metadata": {},
   "outputs": [],
   "source": [
    "##########   ############   ##########  Arithmetic operators  ###########   ###########   #########  #########"
   ]
  },
  {
   "cell_type": "markdown",
   "metadata": {},
   "source": [
    "<img src=\"images/arithmetic_operators.png\">"
   ]
  },
  {
   "cell_type": "code",
   "execution_count": null,
   "metadata": {},
   "outputs": [],
   "source": [
    "  #########    #######   Addition  Operator  ########  ###########   \n",
    "    \n",
    " =>  Addition is performed by using '+' character.\n",
    " \n",
    " =>  Subtraction is performed by using '-' character.\n",
    " \n",
    " =>  Multiplication is performed by using '*' character.\n",
    "    \n",
    " =>  If both operands are integers, then their results will always be an int value.\n",
    " =>  If any one operand is a float, then their results will always be a float value.\n",
    "    "
   ]
  },
  {
   "cell_type": "code",
   "execution_count": null,
   "metadata": {},
   "outputs": [],
   "source": [
    " ##########   ############   ##########  Division operators  ###########   ###########   #########  #########\n",
    "  \n",
    " =>  There are 2 types of division in Python 3.x .\n",
    "      \n",
    "         *  float division       *  floor division\n",
    "            \n",
    " \n",
    "   ##########  ########  Float Division  #########    ########\n",
    "\n",
    " =>  float division is performed on both int and float values by using '/' sign.\n",
    " =>  float division is performed till, the quotient becomes '0'.\n",
    " =>  float division always return the quotient of performed division in float values.\n",
    "\n",
    "  >>> int / int ==> float   ;             >>> int / float ==>  float\n",
    "  >>> float / float ==>  float            >>> float / int ==>  float\n",
    "\n",
    "\n",
    "  ##########  #########  Floor Division  ##########   ##########  \n",
    "    \n",
    " =>  floor division is performed by using '//' sign.\n",
    " =>  floor division does not perform till the quotient become '0'.\n",
    " \n",
    " =>  When the divident is fully divisble, this division returns the Quotient.\n",
    "      This division does not gives any remainder. e.g (8 divides by 2)\n",
    "    \n",
    "      >>>  int // int      ==>    int\n",
    "      >>>  int // float    ==>   float\n",
    "      >>>  float // float  ==>   float\n",
    "      >>>  float // int    ==>   float\n",
    "    \n",
    " \n",
    " =>  When the division is not fully divisble and tend to give decimal values in quotient, \n",
    "       then this division process is stopped and return the Partial Quotient.\n",
    "   \n",
    " =>  This type of division gives some remainder and a Partial Quotient.\n",
    "        e.g.  (7 // 2)\n",
    " \n",
    "     >>>  int // int       ==>      int\n",
    "     >>>  int // float     ==>     float \n",
    "     >>>  float // float   ==>     float\n",
    "     >>>  float // int     ==>      int"
   ]
  },
  {
   "cell_type": "code",
   "execution_count": null,
   "metadata": {},
   "outputs": [],
   "source": [
    "##########   ############   ##########  Modulous operator  ###########   ###########   #########  #########    \n",
    "\n",
    " =>  Modulous operator is performed by using '%' character.\n",
    "    \n",
    " =>  This return remainder of 2 numbers (integers or float).\n",
    "\n",
    "  >>>  int  %  int    ==>   int\n",
    "  >>>  int  % float   ==>  float\n",
    "  >>> float % float   ==>  float\n",
    "  >>> float %  int    ==>  float"
   ]
  },
  {
   "cell_type": "code",
   "execution_count": null,
   "metadata": {},
   "outputs": [],
   "source": [
    "##########   ############   ##########  Relational operators  ###########   ###########   #########  #########\n",
    "\n",
    " =>  Relational operators are used to check the relations between two operands (int or float values).\n",
    "   \n",
    " =>  These operators always return bool values True or false as result. "
   ]
  },
  {
   "cell_type": "markdown",
   "metadata": {},
   "source": [
    "<img src=\"images/relational_operators.png\">"
   ]
  },
  {
   "cell_type": "code",
   "execution_count": null,
   "metadata": {},
   "outputs": [],
   "source": [
    "##########   ############   ##########  Logical operators  ###########   ###########   #########  #########\n",
    "\n",
    " =>  Logical operators are used to check if  each two objects (operands) are true or not.\n",
    "    \n",
    " =>  These operators always return bool values True or False."
   ]
  },
  {
   "cell_type": "markdown",
   "metadata": {},
   "source": [
    "<img src=\"images/logical_operators.png\">"
   ]
  },
  {
   "cell_type": "code",
   "execution_count": 4,
   "metadata": {},
   "outputs": [],
   "source": [
    "##########   ############   ##########  Bitwise operators  ###########   ###########   #########  #########\n",
    "\n",
    "=>  Bitwise operators are used to compare the binary numbers of two objects(operands)."
   ]
  },
  {
   "cell_type": "markdown",
   "metadata": {},
   "source": [
    "<img src=\"images/bitwise_operators.png\">"
   ]
  },
  {
   "cell_type": "code",
   "execution_count": 10,
   "metadata": {},
   "outputs": [
    {
     "name": "stdout",
     "output_type": "stream",
     "text": [
      "The value of a & b is :  0\n",
      " The value of a or b is :  14\n",
      " The value of not a is :  -11\n",
      "The value of xor operation is :  14\n",
      " The value of right shift operation on a is :  2\n",
      "The value of left shift operation over a is :  40\n"
     ]
    }
   ],
   "source": [
    "# Examples of Bitwise operators \n",
    "a = 10\n",
    "b = 4\n",
    "\n",
    "# Print bitwise AND operation \n",
    "print( \"The value of a & b is : \", a & b) \n",
    "\n",
    "# Print bitwise OR operation \n",
    "print( \" The value of a or b is : \", a | b) \n",
    "\n",
    "# Print bitwise NOT operation \n",
    "print( \" The value of not a is : \", ~a) \n",
    "\n",
    "# print bitwise XOR operation \n",
    "print( \"The value of xor operation is : \", a ^ b) \n",
    "\n",
    "# print bitwise right shift operation \n",
    "print( \" The value of right shift operation on a is : \", a >> 2) \n",
    "\n",
    "# print bitwise left shift operation \n",
    "print( \"The value of left shift operation over a is : \",  a << 2) \n"
   ]
  },
  {
   "cell_type": "code",
   "execution_count": null,
   "metadata": {},
   "outputs": [],
   "source": [
    "##########   ############   ##########  Assignment operators  ###########   ###########   #########  #########"
   ]
  },
  {
   "cell_type": "markdown",
   "metadata": {},
   "source": [
    "<img src=\"images/assignment_operators1.png\">"
   ]
  },
  {
   "cell_type": "markdown",
   "metadata": {},
   "source": [
    "<img src=\"images/assignment_operators2.png\">"
   ]
  },
  {
   "cell_type": "code",
   "execution_count": null,
   "metadata": {},
   "outputs": [],
   "source": [
    "##########   ############   ##########  Identity operators  ###########   ###########   #########  #########\n",
    "\n",
    " => Identity operators are used to determine whether a value is of a certain class or type.\n",
    "      They are usually used to determine the type of data a certain variable contains.\n",
    "\n",
    " => There are different identity operators such as -\n",
    "\n",
    "  =>  is operator evaluates to true if the variables on either side of the operator point to the\n",
    "            same object and false otherwise.\n",
    "        \n",
    "  =>  ‘is not’ operator – Evaluates to false if the variables on either side of the operator point \n",
    "            to the same object and true otherwise. \n",
    "    "
   ]
  },
  {
   "cell_type": "markdown",
   "metadata": {},
   "source": [
    "<img src=\"images/identity-operators.png\">"
   ]
  },
  {
   "cell_type": "code",
   "execution_count": null,
   "metadata": {},
   "outputs": [],
   "source": [
    "# Examples of Identity operators \n",
    "a1 = 3\n",
    "b1 = 3\n",
    "\n",
    "a2 = 'GeeksforGeeks'\n",
    "b2 = 'GeeksforGeeks'\n",
    "\n",
    "a3 = [1,2,3] \n",
    "b3 = [1,2,3] \n",
    "\n",
    "\n",
    "print(a1 is not b1) \n",
    "\n",
    "\n",
    "print(a2 is b2) \n",
    "\n",
    "# Output is False, since lists are mutable. \n",
    "print(a3 is b3) \n"
   ]
  },
  {
   "cell_type": "code",
   "execution_count": null,
   "metadata": {},
   "outputs": [],
   "source": [
    "# Python program to illustrate the use \n",
    "# of 'is' identity operator \n",
    "x = 5\n",
    "if (type(x) is int): \n",
    "\tprint(\"true\") \n",
    "else: \n",
    "\tprint(\"false\") \n",
    "\n",
    "print (\"\\n\")\n",
    "\n",
    "# ################################################################################################################ #\n",
    "\n",
    "# Python program to illustrate the \n",
    "# use of 'is not' identity operator \n",
    "x = 5.2\n",
    "if (type(x) is not int): \n",
    "\tprint(\"true\") \n",
    "else: \n",
    "\tprint(\"false\") \n"
   ]
  },
  {
   "cell_type": "code",
   "execution_count": null,
   "metadata": {},
   "outputs": [],
   "source": [
    "##########   ############   ##########  Membership operators  ###########   ###########   #########  #########\n",
    "\n",
    " =>  Membership operators are operators used to validate the membership of a value. \n",
    "       It test for membership in a sequence, such as strings, lists, or tuples.\n",
    "        \n",
    " =>  in operator : The ‘in’ operator is used to check if a value exists in a sequence or not. \n",
    "                     This evaluates to true if it finds a variable in the specified sequence and false otherwise.\n",
    "        \n",
    " =>  ‘not in’ operator : This evaluates to true if it does not finds a variable in the specified sequence \n",
    "                           and false otherwise."
   ]
  },
  {
   "cell_type": "markdown",
   "metadata": {},
   "source": [
    "<img src=\"images/membership-operators.png\">"
   ]
  },
  {
   "cell_type": "code",
   "execution_count": null,
   "metadata": {},
   "outputs": [],
   "source": [
    "# Examples of Membership operator \n",
    "x = 'Geeks for Geeks'\n",
    "y = {3:'a',4:'b'} \n",
    "\n",
    "\n",
    "print('G' in x) \n",
    "\n",
    "print('geeks' not in x) \n",
    "\n",
    "print('Geeks' not in x) \n",
    "\n",
    "print(3 in y) \n",
    "\n",
    "print('b' in y) \n",
    "print (\"\\n\")\n",
    "\n",
    "# #####################################################################################################################\n",
    "\n",
    "# Python program to illustrate \n",
    "# Finding common member in list \n",
    "# using 'in' operator \n",
    "list1=[1,2,3,4,5] \n",
    "list2=[6,7,8,9] \n",
    "for item in list1: \n",
    "\tif item in list2: \n",
    "\t\tprint(\"overlapping\")\t \n",
    "else: \n",
    "\tprint(\"not overlapping\") \n",
    "\n",
    "print (\"\\n\")\n",
    "\n",
    "# ####################################################################################################################\n",
    "\n",
    "# Python program to illustrate \n",
    "# not 'in' operator \n",
    "x = 24\n",
    "y = 20\n",
    "list = [10, 20, 30, 40, 50 ]; \n",
    "\n",
    "if ( x not in list ): \n",
    "    print(\"x is NOT present in given list\") \n",
    "else: \n",
    "    print(\"x is present in given list\") \n",
    "\n",
    "if ( y in list ): \n",
    "    print(\"y is present in given list\") \n",
    "else: \n",
    "    print(\"y is NOT present in given list\") \n"
   ]
  },
  {
   "cell_type": "code",
   "execution_count": null,
   "metadata": {},
   "outputs": [],
   "source": [
    "  =>  Most of the languages including C, C++, Java and Python provide the boolean type\n",
    "         that can be either set to False or True."
   ]
  },
  {
   "cell_type": "code",
   "execution_count": null,
   "metadata": {},
   "outputs": [],
   "source": [
    "# A Python program that uses Logical Not or ! on boolean \n",
    "\n",
    "print (not True)\n",
    "print (not False)\n",
    "\n",
    "# A Python program that uses Bitwise Not or ~ on boolean \n",
    "\n",
    "print (~True) \n",
    "print (~False) \n"
   ]
  },
  {
   "cell_type": "code",
   "execution_count": null,
   "metadata": {},
   "outputs": [],
   "source": [
    "  #########   ##########   Logical not operator '!' vs Bitwise not operator '~'  ########### ###########  ########\n",
    "    \n",
    " \n",
    " =>  The bitwise not operator ~ returns the complement of a number.\n",
    "        i.e., it switches each 1 to 0 and each 0 to 1. \n",
    "    \n",
    " =>  Booleans True and False have values 1 and 0 respectively.\n",
    "\n",
    " =>  ˜ is the bitwise not operator.\n",
    "\n",
    "       *  The expression “˜True” returns bitwise inverse of 1.\n",
    "       *  The expression “˜False” returns bitwise inverse of 0.\n",
    "    \n",
    " =>  Java doesn’t allow ~ operator to be applied on boolean values. For example, the below program\n",
    "          produces compiler error.\n",
    "\n",
    " =>  “Logical not or !” is meant for boolean values and “bitwise not or ~” is for integers.\n",
    "\n",
    " =>  Languages like C/C++ and python do auto promotion of boolean to integer type when an integer operator \n",
    "         is applied. But Java doesn’t do it."
   ]
  },
  {
   "cell_type": "code",
   "execution_count": null,
   "metadata": {},
   "outputs": [],
   "source": [
    "  ##########   ############   ##########  Ternary operators  ###########   ###########   #########  #########\n",
    "    \n",
    " =>  Ternary operators also known as conditional expressions are operators that evaluate something based on a\n",
    "       condition being true or false. \n",
    "    \n",
    " =>  It was added to Python in version 2.5.\n",
    " \n",
    " =>  It simply allows to test a condition in a single line replacing the multiline if-else making the\n",
    "      code compact.\n",
    "    \n",
    "           Syntax :\n",
    "\n",
    "            >>>  [on_true] if [expression] else [on_false] \n",
    "            \n",
    "  =>  Some important points \n",
    "     \n",
    "     *  First the given condition is evaluated (a < b), then either a or b is returned based on \n",
    "            the Boolean value returned by the condition\n",
    "\n",
    "     *  Order of the arguments in the operator is different from other languages like C/C++ \n",
    "         \n",
    "     *  Conditional expressions have the lowest priority amongst all Python operations\n",
    "            "
   ]
  },
  {
   "cell_type": "code",
   "execution_count": 11,
   "metadata": {},
   "outputs": [
    {
     "name": "stdout",
     "output_type": "stream",
     "text": [
      "10\n"
     ]
    }
   ],
   "source": [
    "# Program to demonstrate conditional operator \n",
    "a, b = 10, 20\n",
    "\n",
    "# Copy value of a in min if a < b else copy b \n",
    "min = a if a < b else b \n",
    "\n",
    "print(min) \n"
   ]
  },
  {
   "cell_type": "code",
   "execution_count": null,
   "metadata": {},
   "outputs": [],
   "source": [
    "# Python program to demonstrate ternary operator \n",
    "a, b = 10, 20\n",
    "\n",
    "# Use tuple for selecting an item \n",
    "print( (b, a) [a < b] ) \n",
    "\n",
    "# Use Dictionary for selecting an item \n",
    "print({True: a, False: b} [a < b]) \n",
    "\n",
    "# lamda is more efficient than above two methods \n",
    "# because in lambda we are assure that \n",
    "# only one expression will be evaluated unlike in \n",
    "# tuple and Dictionary \n",
    "print((lambda: b, lambda: a)[a < b]()) \n"
   ]
  },
  {
   "cell_type": "code",
   "execution_count": null,
   "metadata": {},
   "outputs": [],
   "source": [
    "# Python program to demonstrate nested ternary operator \n",
    "a, b = 10, 20\n",
    "\n",
    "print (\"Both a and b are equal\" if a == b else \"a is greater than b\"\n",
    "\t\tif a > b else \"b is greater than a\") \n"
   ]
  },
  {
   "cell_type": "code",
   "execution_count": null,
   "metadata": {},
   "outputs": [],
   "source": [
    "# Python program to demonstrate nested ternary operator \n",
    "a, b = 10, 20\n",
    "\n",
    "if a != b: \n",
    "\tif a > b: \n",
    "\t\tprint(\"a is greater than b\") \n",
    "\telse: \n",
    "\t\tprint(\"b is greater than a\") \n",
    "else: \n",
    "\tprint(\"Both a and b are equal\") \n"
   ]
  },
  {
   "cell_type": "code",
   "execution_count": null,
   "metadata": {},
   "outputs": [],
   "source": [
    "   #########   ###########   ####  == vs is operator in python   ####   ############    ###########\n",
    "    \n",
    " =>  The == operator compares the values of both the operands and checks for value equality. \n",
    "     \n",
    " =>  Whereas is operator checks whether both the operands refer to the same object or not."
   ]
  },
  {
   "cell_type": "code",
   "execution_count": 12,
   "metadata": {},
   "outputs": [
    {
     "name": "stdout",
     "output_type": "stream",
     "text": [
      "True\n",
      "False\n",
      "True\n"
     ]
    }
   ],
   "source": [
    "# python3 code to illustrate the difference between == and is operator \n",
    "\n",
    "list1 = [] \n",
    "list2 = [] \n",
    "list3=list1 \n",
    "\n",
    "if (list1 == list2): \n",
    "\tprint(\"True\") \n",
    "else: \n",
    "\tprint(\"False\") \n",
    "\n",
    "if (list1 is list2): \n",
    "\tprint(\"True\") \n",
    "else: \n",
    "\tprint(\"False\") \n",
    "\n",
    "if (list1 is list3): \n",
    "\tprint(\"True\") \n",
    "else:\t \n",
    "\tprint(\"False\") \n"
   ]
  },
  {
   "cell_type": "code",
   "execution_count": null,
   "metadata": {},
   "outputs": [],
   "source": [
    "\n",
    " =>  Output of the first if condition is “True” as both list1 and list2 are empty lists.\n",
    "    \n",
    " =>  Second if condition shows “False” because two empty lists are at different memory locations. \n",
    "       Hence list1 and list2 refer to different objects. \n",
    "    \n",
    " =>  We can check it with id() function in python which returns the “identity” of an object.\n",
    "\n",
    " =>  Output of the third if condition is “True” as both list1 and list3 are pointing to the same object.\n"
   ]
  },
  {
   "cell_type": "code",
   "execution_count": null,
   "metadata": {},
   "outputs": [],
   "source": [
    "list1 = [] \n",
    "list2 = [] \n",
    "\n",
    "print(id(list1)) \n",
    "print(id(list2)) \n",
    "\n",
    "\n",
    "# This shows list1 and list2 refers to different objects."
   ]
  },
  {
   "cell_type": "code",
   "execution_count": null,
   "metadata": {},
   "outputs": [],
   "source": [
    "########   ##########   a += b is not always a = a + b    ###########    ##########   ###########   ##########\n",
    "\n",
    " =>  In python a += b doesn’t always behave the same way as a = a + b, same operands may give the different\n",
    "       results under different conditions.\n",
    "\n",
    " =>  Consider the examples given below.\n",
    "\n",
    "    =>  expression list1 += [1, 2, 3, 4] modifies the list in-place, means it extends the list \n",
    "              such that “list1” and “list2” still have the reference to the same list.\n",
    "\n",
    "    =>  expression list1 = list1 + [1, 2, 3, 4] creates a new list and changes “list1” reference to that \n",
    "              new list and “list2” still refer to the old list."
   ]
  },
  {
   "cell_type": "code",
   "execution_count": null,
   "metadata": {},
   "outputs": [],
   "source": [
    "list1 = [5, 4, 3, 2, 1] \n",
    "list2 = list1 \n",
    "list1 += [1, 2, 3, 4] \n",
    "\n",
    "print(list1) \n",
    "print(list2) \n"
   ]
  },
  {
   "cell_type": "code",
   "execution_count": null,
   "metadata": {},
   "outputs": [],
   "source": [
    "list1 = [5, 4, 3, 2, 1] \n",
    "list2 = list1 \n",
    "list1 = list1 + [1, 2, 3, 4] \n",
    "\n",
    "# Contents of list1 are same as above \n",
    "# program, but contents of list2 are \n",
    "# different. \n",
    "print(list1) \n",
    "print(list2) \n"
   ]
  },
  {
   "cell_type": "code",
   "execution_count": null,
   "metadata": {},
   "outputs": [],
   "source": [
    "#########   ########    Any & All in Python   ############    #############    ##############\n",
    "\n",
    " =>  Any and All are two built ins provided in python used for successive And/Or.\n"
   ]
  },
  {
   "cell_type": "code",
   "execution_count": null,
   "metadata": {},
   "outputs": [],
   "source": [
    "    ###########   ############   #####   Any    ########    ############     ###########\n",
    "    \n",
    " =>  Any return true if any of the items is True. \n",
    "\n",
    " =>  It returns False if empty or all are false.\n",
    "    \n",
    " =>  Any can be thought of as a sequence of OR operations on the provided iterables.\n",
    "\n",
    " =>  It short circuit the execution i.e. stop the execution as soon as the result is known.\n",
    "   \n",
    " =>  Syntax : \n",
    "           \n",
    "        any(list of iterables)\n",
    "\n"
   ]
  },
  {
   "cell_type": "code",
   "execution_count": null,
   "metadata": {},
   "outputs": [],
   "source": [
    "# Since all are false, false is returned \n",
    "print (any([False, False, False, False])) \n",
    "\n",
    "# Here the method will short-circuit at the \n",
    "# second item (True) and will return True. \n",
    "print (any([False, True, False, False])) \n",
    "\n",
    "# Here the method will short-circuit at the \n",
    "# first (True) and will return True. \n",
    "print (any([True, False, False, False])) \n"
   ]
  },
  {
   "cell_type": "code",
   "execution_count": null,
   "metadata": {},
   "outputs": [],
   "source": [
    "  ###########   ############   #####   All   ########    ############     ###########\n",
    "    \n",
    " =>  All return true if all of the items are True (or if the iterable is empty). \n",
    "\n",
    " =>  All can be thought of as a sequence of AND operations on the provided iterables. \n",
    "    \n",
    " =>  It also short circuit the execution i.e. stop the execution as soon as the result is known.\n",
    "\n",
    " =>  Syntax : \n",
    "        \n",
    "        all(list of iterables)"
   ]
  },
  {
   "cell_type": "code",
   "execution_count": null,
   "metadata": {},
   "outputs": [],
   "source": [
    "# Here all the iterables are True so all \n",
    "# will return True and the same will be printed \n",
    "print (all([True, True, True, True])) \n",
    "\n",
    "# Here the method will short-circuit at the \n",
    "# first item (False) and will return False. \n",
    "print (all([False, True, True, False])) \n",
    "\n",
    "# This statement will return False, as no \n",
    "# True is found in the iterables \n",
    "print (all([False, False, False])) \n"
   ]
  },
  {
   "cell_type": "markdown",
   "metadata": {},
   "source": [
    "<img src=\"images/any-all.png\">"
   ]
  },
  {
   "cell_type": "code",
   "execution_count": null,
   "metadata": {},
   "outputs": [],
   "source": []
  }
 ],
 "metadata": {
  "kernelspec": {
   "display_name": "Python 3",
   "language": "python",
   "name": "python3"
  },
  "language_info": {
   "codemirror_mode": {
    "name": "ipython",
    "version": 3
   },
   "file_extension": ".py",
   "mimetype": "text/x-python",
   "name": "python",
   "nbconvert_exporter": "python",
   "pygments_lexer": "ipython3",
   "version": "3.7.7"
  }
 },
 "nbformat": 4,
 "nbformat_minor": 4
}
