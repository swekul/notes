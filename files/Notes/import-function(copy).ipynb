{
 "cells": [
  {
   "cell_type": "code",
   "execution_count": null,
   "metadata": {},
   "outputs": [],
   "source": [
    "    ############    ############    import() function in python    ##############     ##############"
   ]
  },
  {
   "cell_type": "code",
   "execution_count": null,
   "metadata": {},
   "outputs": [],
   "source": [
    " =>  While writing a code, there might be a need for some specific modules. \n",
    "       So we import those modules by using a single line code in Python.\n",
    "\n",
    " =>  But what if the name of the module needed is known to us only during runtime? \n",
    "     How can we import that module? \n",
    "    \n",
    " =>  We uses the Python’s inbuilt __import__() function. It helps to import modules in runtime also.\n",
    "\n",
    " =>    Syntax:       \n",
    "                       __import__(name, globals, locals, fromlist, level)\n",
    "\n",
    "\n",
    "\n",
    "  =>   Parameters:\n",
    "    \n",
    "         * name : Name of the module to be imported\n",
    "\n",
    "         * globals and locals : Interpret names\n",
    "\n",
    "         * formlist : Objects or submodules to be imported (as a list)\n",
    "\n",
    "         *  level : Specifies whether to use absolute or relative imports. Default is -1(absolute and relative)."
   ]
  },
  {
   "cell_type": "code",
   "execution_count": null,
   "metadata": {},
   "outputs": [],
   "source": [
    "# importing numpy module which is equivalent to \"import numpy\" \n",
    "\n",
    "np = __import__('numpy', globals(), locals(), [], 0) \n",
    "\n",
    "# array from numpy \n",
    "a = np.array([1, 2, 3]) \n",
    "\n",
    "# prints the type \n",
    "print(type(a)) \n"
   ]
  },
  {
   "cell_type": "code",
   "execution_count": null,
   "metadata": {},
   "outputs": [],
   "source": [
    "# from numpy import complex as comp, array as arr \n",
    "\n",
    "np = __import__('numpy', globals(), locals(), ['complex', 'array'], 0) \n",
    "\n",
    "comp = np.complex\n",
    "arr = np.array \n"
   ]
  },
  {
   "cell_type": "code",
   "execution_count": null,
   "metadata": {},
   "outputs": [],
   "source": [
    " =>  __import__() is not really necessary in everyday Python programming. \n",
    "    \n",
    " =>  Its direct use is rare. But sometimes, when there is a need of importing modules during the runtime, \n",
    "        this function comes quite handy."
   ]
  },
  {
   "cell_type": "code",
   "execution_count": null,
   "metadata": {},
   "outputs": [],
   "source": [
    "       #############    #########    Import module in Python   ###########    ##############\n",
    "    \n",
    " =>  Import in python is similar to [#include header_file in C/C++].\n",
    "     \n",
    " =>  Python modules can get access to code from another module by importing the file/function using import. \n",
    "     \n",
    " =>  The import statement is the most common way of invoking the import machinery, but it is not the only way.\n",
    "     \n",
    "     \n",
    "     ##########    #########   Import module_name    ############    ##############\n",
    "     \n",
    "     \n",
    " =>  When import is used, it searches for the module initially in the local scope by calling __import__() function. \n",
    "     \n",
    " =>  The value returned by the function are then reflected in the output of the initial code."
   ]
  },
  {
   "cell_type": "code",
   "execution_count": null,
   "metadata": {},
   "outputs": [],
   "source": [
    "#  Pytrhon code to display importing a module\n",
    "\n",
    "import math \n",
    "print(math.pi)"
   ]
  },
  {
   "cell_type": "code",
   "execution_count": null,
   "metadata": {},
   "outputs": [],
   "source": [
    "     #############    ############  import module_name.member_name  ############     ##############\n",
    "    \n",
    " =>  In the above code module math is imported, and its variables can be accessed by considering it to be \n",
    "       a class and pi as its object.\n",
    "\n",
    " =>  The value of pi is returned by __import__().\n",
    "\n",
    " =>  pi as whole can be imported into our intial code, rather than importing the whole module."
   ]
  },
  {
   "cell_type": "code",
   "execution_count": null,
   "metadata": {},
   "outputs": [],
   "source": [
    "# Python code to duisplay importing module_name.member.name\n",
    "\n",
    "from math import pi \n",
    "  \n",
    "# Note that in the above example,  \n",
    "# we used math.pi. Here we have used \n",
    "# pi directly. \n",
    "print(pi)"
   ]
  },
  {
   "cell_type": "code",
   "execution_count": null,
   "metadata": {},
   "outputs": [],
   "source": [
    "  #############    ############  from module_name import *  ############     ##############\n",
    "    \n",
    "    =>   * is used to importing all the constants and functions from a package."
   ]
  },
  {
   "cell_type": "code",
   "execution_count": null,
   "metadata": {},
   "outputs": [],
   "source": [
    "# python code to display the importing of all constants and functions from the package using *\n",
    "\n",
    "from math import *\n",
    "\n",
    "print(pi) \n",
    "print(factorial(6))"
   ]
  },
  {
   "cell_type": "code",
   "execution_count": null,
   "metadata": {},
   "outputs": [],
   "source": [
    " => import uses __import__() to search for module, and if not found, it would raise ImportError.\n",
    "    "
   ]
  },
  {
   "cell_type": "code",
   "execution_count": null,
   "metadata": {},
   "outputs": [],
   "source": [
    "# Python code to display generating importError\n",
    "\n",
    "import mathematics \n",
    "print(mathematics.pi)"
   ]
  },
  {
   "cell_type": "code",
   "execution_count": null,
   "metadata": {},
   "outputs": [],
   "source": [
    "     ############    ##########   Why import star in Python is a bad idea   ############    #############\n",
    "\n",
    " =>  Using import * in python programs is considered a bad habit because this way you are polluting your namespace, \n",
    "     the import * statement imports all the functions and classes into your own namespace,\n",
    "     which may clash with the functions you define or functions of other libraries that you import.\n",
    "        \n",
    "    Also it becomes very difficult at some times to say from which library does a particular function came from. \n",
    "    \n",
    "    The risk of overriding the variables/functions etc always persist with the import * practice.\n",
    "    \n",
    " =>  Due to some reasons, we should not import * .\n",
    "\n",
    "     *  Code Readability\n",
    "\n",
    "     *  It is always remains a mystery what is imported and cannot be found easily from which module a \n",
    "         certain thing was imported that result in low code readability.\n",
    "\n",
    "     *  Polluting the namespace, import * imports all the functions and classes in your own namespace that may \n",
    "         clash with the function and classes you define or function and classes of other libraries that \n",
    "          you may import.\n",
    "\n",
    "     *  Concrete possibility of hiding bugs.\n",
    "\n",
    "     *  Tools like pyflakes can’t be used to statically detect errors in the source code.\n",
    "        \n",
    "        \n",
    " =>  All of this does not mean that using import * is always bad, \n",
    "\n",
    " =>  The only thing you should remember while using import * is that you should always use this carefully \n",
    "        and with discipline maintained.\n",
    "\n"
   ]
  },
  {
   "cell_type": "code",
   "execution_count": null,
   "metadata": {},
   "outputs": [],
   "source": [
    " =>  Consider a package a that contains a function sum (a, b)\n",
    "    \n",
    "# import the module a using import *  \n",
    "from a import *\n",
    "  \n",
    "# define a function sum \n",
    "def sum (x, y): \n",
    "    return x + y \n",
    "  \n",
    "print (sum (2, 6)) \n",
    "\n",
    " =>  The error with this code is that the sum function that we define overrides the sum function from \n",
    "       the module ‘a’ that we imported and we don’t even have any idea about it. \n",
    "        \n",
    " =>  Also it becomes very difficult to identify which function is actually being called in case of large programs.\n",
    "\n",
    "#  Correct method\n",
    "\n",
    "# import the module a as l \n",
    "import a as l \n",
    "  \n",
    "def sum (x, y): \n",
    "    return x + y \n",
    "  \n",
    "# calls the self-defined sum function \n",
    "print (sum (2, 6)) \n",
    "  \n",
    "# calls the sum function defined in the module a \n",
    "print (l.sum(2, 6)) \n",
    "\n",
    " =>   Coding this way increases code readability as well as it becomes easy to debug and there are almost \n",
    "        zero chances that any conflict will occur."
   ]
  },
  {
   "cell_type": "code",
   "execution_count": null,
   "metadata": {},
   "outputs": [],
   "source": [
    "     ###############     ###########   Create and Import modules in Python    #############   ###############\n",
    "    \n",
    " =>  In Python, a module is a self-contained Python file that contains Python statements and definitions, \n",
    "       like a file named GFG.py,\n",
    "    \n",
    " =>  This can be considered as a module named GFG which can be imported with the help of import statement. \n",
    "\n",
    " =>  However, one might get confused about the difference between modules and packages.\n",
    "    \n",
    " =>  A package is a collection of modules in directories that give structure and hierarchy to the modules.\n",
    "\n",
    "   ############     ############    Advantages of Modules    #############    ###############\n",
    "    \n",
    "     *  Reusability: Working with modules makes the code reusability a reality.\n",
    "\n",
    "     *  Simplicity: Module focuses on a small proportion of the problem, rather than focusing on the entire problem.\n",
    "\n",
    "     *  Scoping: A separate namespace is defined by a module that helps to avoid collisions between identifiers.\n",
    "        \n",
    "##########   ###########   Modules in Python    #############    ############    ################ \n",
    "\n",
    "\n",
    " =>  A module is simply a Python file with a .py extension that can be imported inside another Python program. \n",
    "\n",
    " =>  The name of the Python file becomes the module name.\n",
    "     \n",
    " =>  The module contains definitions and implementation of classes, variables, and functions that can be used \n",
    "        inside another program.\n",
    "    \n",
    " =>  Let’s create a simple module named GFG.\n",
    "\n"
   ]
  },
  {
   "cell_type": "code",
   "execution_count": null,
   "metadata": {},
   "outputs": [],
   "source": [
    "''' GFG.py '''\n",
    "\n",
    "# Python program to create \n",
    "# a module \n",
    "\n",
    "\n",
    "# Defining a function \n",
    "def Geeks(): \n",
    "\tprint(\"GeeksforGeeks\") \n",
    "\n",
    "# Defining a variable \n",
    "location = \"Noida\"\n"
   ]
  },
  {
   "cell_type": "code",
   "execution_count": null,
   "metadata": {},
   "outputs": [],
   "source": [
    " =>  The above example shows the creation of a simple module named GFG as the name of the above Python file \n",
    "       is GFG.py. \n",
    "        \n",
    " =>  When this code is executed it does nothing because the function created is not invoked.\n",
    "\n",
    " =>  To use the above created module, create a new Python file in the same directory \n",
    "        and import GFG module using the import statement.\n",
    "        \n",
    " =>  The above example shows a simple module with only functions and variables. \n",
    "       "
   ]
  },
  {
   "cell_type": "code",
   "execution_count": null,
   "metadata": {},
   "outputs": [],
   "source": [
    "# Python program to demonstrate \n",
    "# modules \n",
    "\n",
    "\n",
    "import GFG \n",
    "\n",
    "# Use the function created \n",
    "GFG.Geeks() \n",
    "\n",
    "# Print the variable declared \n",
    "print(GFG.location) \n"
   ]
  },
  {
   "cell_type": "code",
   "execution_count": null,
   "metadata": {},
   "outputs": [],
   "source": [
    "=>  Now let’s create a little bit complex module with classes, functions, and variables. \n",
    "       Below is the implementation.\n",
    "   \n",
    "    Example: Open the above created GFG module and make the following changes."
   ]
  },
  {
   "cell_type": "code",
   "execution_count": null,
   "metadata": {},
   "outputs": [],
   "source": [
    "''' GFG.py '''\n",
    "\n",
    "# Python program to demonstrate \n",
    "# modules \n",
    "\n",
    "\n",
    "# Defining a function \n",
    "def Geeks(): \n",
    "\tprint(\"GeeksforGeeks\") \n",
    "\n",
    "# Defining a variable \n",
    "location = \"Noida\"\n",
    "\n",
    "# Defining a class \n",
    "class Employee(): \n",
    "\t\n",
    "\tdef __init__(self, name, position): \n",
    "\t\tself. name = name \n",
    "\t\tself.position = position \n",
    "\t\t\n",
    "\tdef show(self): \n",
    "\t\tprint(\"Employee name:\", self.name) \n",
    "\t\tprint(\"Employee position:\", self.position) \n"
   ]
  },
  {
   "cell_type": "code",
   "execution_count": null,
   "metadata": {},
   "outputs": [],
   "source": [
    " =>  In this example, a class named employee has been declared with a method show() to print the details of the employee. \n",
    "      Now open the Python script for importing and using this module."
   ]
  },
  {
   "cell_type": "code",
   "execution_count": null,
   "metadata": {},
   "outputs": [],
   "source": [
    "# Python program to demonstrate \n",
    "# modules \n",
    "\n",
    "\n",
    "import GFG \n",
    "\n",
    "\n",
    "# Use the class created \n",
    "emp = GFG.Employee(\"Nikhil\", \"Developer\") \n",
    "emp.show() \n"
   ]
  },
  {
   "cell_type": "code",
   "execution_count": null,
   "metadata": {},
   "outputs": [],
   "source": [
    "    ##########    ##########    Import all names   ###########    #############     ############## \n",
    "   \n",
    " =>  All the object from a module can be imported as a variable and prevents the usage of the module name \n",
    "       as a prefix.\n",
    "        \n",
    "     Syntax ->  from module_name_ import *\n",
    "    \n",
    " =>  We will use the above created GFG module."
   ]
  },
  {
   "cell_type": "code",
   "execution_count": null,
   "metadata": {},
   "outputs": [],
   "source": [
    "# Python program to demonstrate \n",
    "# modules \n",
    "\n",
    "\n",
    "from GFG import *\n",
    "\n",
    "\n",
    "# Calling the function \n",
    "Geeks() \n",
    "\n",
    "# Printing the variable \n",
    "print(location) \n",
    "\n",
    "# Calling class \n",
    "emp = Employee(\"Nikhil\", \"Developer\") \n",
    "emp.show() \n"
   ]
  },
  {
   "cell_type": "code",
   "execution_count": null,
   "metadata": {},
   "outputs": [],
   "source": [
    "    #############    ##########    Import with renaming   ############    ############    ############\n",
    "    \n",
    " =>  A module can be imported with another name, specified by the user."
   ]
  },
  {
   "cell_type": "code",
   "execution_count": null,
   "metadata": {},
   "outputs": [],
   "source": [
    "# Python program to demonstrate \n",
    "# modules \n",
    "\n",
    "\n",
    "import GFG as g \n",
    "\n",
    "\n",
    "# Calling the function \n",
    "g.Geeks() \n",
    "\n",
    "# Printing the variable \n",
    "print(g.location) \n",
    "\n",
    "# Calling class \n",
    "emp = g.Employee(\"Nikhil\", \"Developer\") \n",
    "emp.show() \n"
   ]
  },
  {
   "cell_type": "markdown",
   "metadata": {},
   "source": [
    "[ 10 Interesting Modules in Python ](https://www.geeksforgeeks.org/10-interesting-modules-in-python-to-play-with/?ref=rp)"
   ]
  },
  {
   "cell_type": "code",
   "execution_count": null,
   "metadata": {},
   "outputs": [],
   "source": [
    "      ##########   #########   Reloading a Module    ###########    #############\n",
    "    \n",
    " =>  reload() reloads a previously imported module. This is useful if you have edited the module source file using an external editor and want to try out the new version without leaving the Python interpreter. The return value is the module object.\n",
    "\n",
    " =>  Note: The argument should be a module which has been successfully imported.\n"
   ]
  },
  {
   "cell_type": "markdown",
   "metadata": {},
   "source": [
    "<img src=\"images/reload-module.png\">"
   ]
  },
  {
   "cell_type": "code",
   "execution_count": null,
   "metadata": {},
   "outputs": [],
   "source": []
  }
 ],
 "metadata": {
  "kernelspec": {
   "display_name": "Python 3",
   "language": "python",
   "name": "python3"
  },
  "language_info": {
   "codemirror_mode": {
    "name": "ipython",
    "version": 3
   },
   "file_extension": ".py",
   "mimetype": "text/x-python",
   "name": "python",
   "nbconvert_exporter": "python",
   "pygments_lexer": "ipython3",
   "version": "3.7.7"
  }
 },
 "nbformat": 4,
 "nbformat_minor": 4
}
