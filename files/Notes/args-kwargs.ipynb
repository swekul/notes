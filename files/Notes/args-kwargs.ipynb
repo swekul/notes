{
 "cells": [
  {
   "cell_type": "code",
   "execution_count": null,
   "metadata": {},
   "outputs": [],
   "source": [
    "  ############  #############   Args-Kwargs and Precision Handling   #############    #############"
   ]
  },
  {
   "cell_type": "code",
   "execution_count": null,
   "metadata": {},
   "outputs": [],
   "source": [
    "  ############   #############   Precision Handling in Python    #############   ###############\n",
    "    \n",
    " =>  Python in its definition allows to handle precision of floating point numbers in several ways using\n",
    "       different functions. \n",
    " =>  Most of them are defined under the “math” module. \n",
    "    "
   ]
  },
  {
   "cell_type": "code",
   "execution_count": null,
   "metadata": {},
   "outputs": [],
   "source": [
    " * trunc() :- This function is used to eliminate all decimal part of the floating point number and return \n",
    "                the integer without the decimal part.\n",
    "\n",
    " * ceil() :- This function is used to print the least integer greater than the given number.\n",
    "    \n",
    " * floor() :- This function is used to print the greatest integer smaller than the given integer."
   ]
  },
  {
   "cell_type": "code",
   "execution_count": 2,
   "metadata": {},
   "outputs": [
    {
     "name": "stdout",
     "output_type": "stream",
     "text": [
      "The integral value of number is : 3\n",
      "The smallest integer greater than number is : 4\n",
      "The greatest integer smaller than number is : 3\n"
     ]
    }
   ],
   "source": [
    "# Python code to demonstrate ceil(), trunc() \n",
    "# and floor() \n",
    "\n",
    "# importing \"math\" for precision function \n",
    "import math \n",
    "\n",
    "# initializing value \n",
    "a = 3.4536\n",
    "\n",
    "# using trunc() to print integer after truncating \n",
    "print (\"The integral value of number is : \",end=\"\") \n",
    "print (math.trunc(a)) \n",
    "\n",
    "# using ceil() to print number after ceiling \n",
    "print (\"The smallest integer greater than number is : \",end=\"\") \n",
    "print (math.ceil(a)) \n",
    "\n",
    "# using floor() to print number after flooring \n",
    "print (\"The greatest integer smaller than number is : \",end=\"\") \n",
    "print (math.floor(a)) \n"
   ]
  },
  {
   "cell_type": "code",
   "execution_count": null,
   "metadata": {},
   "outputs": [],
   "source": [
    "       ############    ###########   Setting Precision   #############    ##############\n",
    "    \n",
    " =>  There are many ways to set precision of floating point value.\n",
    "\n",
    "   *  Using “%” :- “%” operator is used to format as well as set precision in python.\n",
    "                      This is similar to “printf” statement in C programming.\n",
    "\n",
    "\n",
    "   *  Using format() :- This is yet another way to format the string for setting precision.\n",
    "\n",
    "\n",
    "   *  Using round(x,n) :- This function takes 2 arguments, number and the number till which we want decimal part \n",
    "                           rounded."
   ]
  },
  {
   "cell_type": "code",
   "execution_count": 1,
   "metadata": {},
   "outputs": [
    {
     "name": "stdout",
     "output_type": "stream",
     "text": [
      "The value of number till 2 decimal place(using %) is : 3.45\n",
      "The value of number till 2 decimal place(using format()) is : 3.45\n",
      "The value of number till 2 decimal place(using round()) is : 3.45\n"
     ]
    }
   ],
   "source": [
    "# Python code to demonstrate precision and round() \n",
    "\n",
    "# initializing value \n",
    "a = 3.4536\n",
    "\n",
    "# using \"%\" to print value till 2 decimal places \n",
    "print (\"The value of number till 2 decimal place(using %) is : \",end=\"\") \n",
    "print ('%.2f'%a) \n",
    "\n",
    "# using format() to print value till 2 decimal places \n",
    "print (\"The value of number till 2 decimal place(using format()) is : \",end=\"\") \n",
    "print (\"{0:.2f}\".format(a)) \n",
    "\n",
    "# using round() to print value till 2 decimal places \n",
    "print (\"The value of number till 2 decimal place(using round()) is : \",end=\"\") \n",
    "print (round(a,2)) \n"
   ]
  },
  {
   "cell_type": "code",
   "execution_count": null,
   "metadata": {},
   "outputs": [],
   "source": [
    "      ###########    #############   Args and kwargs  in Python   #############   #############\n",
    "    \n",
    "          ###########    #############   *args in Python   #############   #############\n",
    "    \n",
    " =>  The special syntax *args in function definitions in python is used to pass a variable number of arguments\n",
    "         to a function. \n",
    "    \n",
    " =>  It is used to pass a non-keyworded, variable-length argument list.\n",
    "\n",
    "  *  The syntax is to use the symbol * to take in a variable number of arguments; by convention, \n",
    "         it is often used with the word args.\n",
    "\n",
    "  *  What *args allows you to do is take in more arguments than the number of formal arguments \n",
    "         that you previously defined. \n",
    "    \n",
    "  *  With *args, any number of extra arguments can be tacked on to your current formal parameters \n",
    "        (including zero extra arguments).\n",
    "\n",
    "    \n",
    " => For example : we want to make a multiply function that takes any number of arguments and able to \n",
    "           multiply them all together. It can be done using *args.\n",
    "\n",
    " => Using the *, the variable that we associate with the * becomes an iterable meaning you can do things \n",
    "           like iterate over it, run some higher order functions such as map and filter, etc."
   ]
  },
  {
   "cell_type": "code",
   "execution_count": null,
   "metadata": {},
   "outputs": [],
   "source": [
    "# Python program to illustrate \n",
    "# *args for variable number of arguments \n",
    "def myFun(*argv): \n",
    "\tfor arg in argv: \n",
    "\t\tprint (arg) \n",
    "\t\n",
    "myFun('Hello', 'Welcome', 'to', 'GeeksforGeeks') \n"
   ]
  },
  {
   "cell_type": "code",
   "execution_count": null,
   "metadata": {},
   "outputs": [],
   "source": [
    "# Python program to illustrate \n",
    "# *args with first extra argument \n",
    "def myFun(arg1, *argv): \n",
    "\tprint (\"First argument :\", arg1) \n",
    "\tfor arg in argv: \n",
    "\t\tprint(\"Next argument through *argv :\", arg) \n",
    "\n",
    "myFun('Hello', 'Welcome', 'to', 'GeeksforGeeks') \n"
   ]
  },
  {
   "cell_type": "code",
   "execution_count": null,
   "metadata": {},
   "outputs": [],
   "source": [
    "      ###########    #############   **kwargs in Python   #############   #############\n",
    "    \n",
    " =>  The special syntax **kwargs in function definitions in python is used to pass a keyworded, \n",
    "         variable-length argument list. \n",
    "    \n",
    " =>  We use the name kwargs with the double star. \n",
    "\n",
    " =>  The reason is because the double star allows us to pass through keyword arguments (and any number of them).\n",
    "\n",
    "\n",
    "       *  A keyword argument is where you provide a name to the variable as you pass it into the function.\n",
    "\n",
    "       *  One can think of the kwargs as being a dictionary that maps each keyword to the value that we pass\n",
    "            alongside it. \n",
    "     \n",
    "       *  That is why when we iterate over the kwargs there doesn’t seem to be any order in which they were\n",
    "            printed out."
   ]
  },
  {
   "cell_type": "code",
   "execution_count": null,
   "metadata": {},
   "outputs": [],
   "source": [
    "# Python program to illustrate \n",
    "# *kargs for variable number of keyword arguments \n",
    "\n",
    "def myFun(**kwargs): \n",
    "\tfor key, value in kwargs.items(): \n",
    "\t\tprint (\"%s == %s\" %(key, value)) \n",
    "\n",
    "# Driver code \n",
    "myFun(first ='Geeks', mid ='for', last='Geeks')\t \n"
   ]
  },
  {
   "cell_type": "code",
   "execution_count": null,
   "metadata": {},
   "outputs": [],
   "source": [
    "# Python program to illustrate **kargs for \n",
    "# variable number of keyword arguments with \n",
    "# one extra argument. \n",
    "\n",
    "def myFun(arg1, **kwargs): \n",
    "\tfor key, value in kwargs.items(): \n",
    "\t\tprint (\"%s == %s\" %(key, value)) \n",
    "\n",
    "# Driver code \n",
    "myFun(\"Hi\", first ='Geeks', mid ='for', last='Geeks')\t \n"
   ]
  },
  {
   "cell_type": "code",
   "execution_count": null,
   "metadata": {},
   "outputs": [],
   "source": [
    "def myFun(arg1, arg2, arg3): \n",
    "\tprint(\"arg1:\", arg1) \n",
    "\tprint(\"arg2:\", arg2) \n",
    "\tprint(\"arg3:\", arg3) \n",
    "\t\n",
    "# Now we can use *args or **kwargs to \n",
    "# pass arguments to this function : \n",
    "args = (\"Geeks\", \"for\", \"Geeks\") \n",
    "myFun(*args) \n",
    "\n",
    "kwargs = {\"arg1\" : \"Geeks\", \"arg2\" : \"for\", \"arg3\" : \"Geeks\"} \n",
    "myFun(**kwargs) \n"
   ]
  },
  {
   "cell_type": "code",
   "execution_count": null,
   "metadata": {},
   "outputs": [],
   "source": [
    "def myFun(*args,**kwargs): \n",
    "\tprint(\"args: \", args) \n",
    "\tprint(\"kwargs: \", kwargs) \n",
    "\n",
    "\n",
    "# Now we can use both *args ,**kwargs to pass arguments to this function : \n",
    "myFun('geeks','for','geeks',first=\"Geeks\",mid=\"for\",last=\"Geeks\") \n"
   ]
  },
  {
   "cell_type": "code",
   "execution_count": null,
   "metadata": {},
   "outputs": [],
   "source": [
    "     ############   ############   Nested functions   ############   #############  \n",
    "    \n",
    " =>  Nested Functions ->  A function which is defined inside another function is known as nested function.\n",
    "                          Nested functions are able to access variables of the enclosing scope.\n",
    "\n",
    "                          In Python, these non-local variables can be accessed only within their scope \n",
    "                             and not outside their scope. \n",
    "            \n",
    " => Inner Functions ->  This can easily be accessed inside the outerFunction body but not outside of it’s body. \n",
    "                          Hence, here, innerFunction() is treated as nested Function which uses text as \n",
    "                            non-local variable."
   ]
  },
  {
   "cell_type": "code",
   "execution_count": 3,
   "metadata": {},
   "outputs": [
    {
     "name": "stdout",
     "output_type": "stream",
     "text": [
      "Hey!\n"
     ]
    }
   ],
   "source": [
    "# Python program to illustrate  nested functions \n",
    "\n",
    "def outerFunction(text): \n",
    "\ttext = text \n",
    "\n",
    "\tdef innerFunction(): \n",
    "\t\tprint(text) \n",
    "\n",
    "\tinnerFunction() \n",
    "\n",
    "if __name__ == '__main__': \n",
    "\touterFunction('Hey!') \n"
   ]
  },
  {
   "cell_type": "code",
   "execution_count": null,
   "metadata": {},
   "outputs": [],
   "source": [
    "   ############   ############   Python closures     ############   ############# \n",
    "    \n",
    " => A Closure is a function object that remembers values in enclosing scopes even if they are not present in memory.\n",
    "\n",
    "    *  It is a record that stores a function together with an environment: a mapping associating each\n",
    "        free variable of the function (variables that are used locally, \n",
    "        but defined in an enclosing scope) with the value or reference to which the name was bound \n",
    "          when the closure was created.\n",
    "\n",
    "    *  A closure—unlike a plain function—allows the function to access those captured variables through the\n",
    "         closure’s copies of their values or references, even when the function is invoked outside their scope."
   ]
  },
  {
   "cell_type": "code",
   "execution_count": 4,
   "metadata": {},
   "outputs": [
    {
     "name": "stdout",
     "output_type": "stream",
     "text": [
      "Hey!\n"
     ]
    }
   ],
   "source": [
    "# Python program to illustrate closures\n",
    "\n",
    "def outerFunction(text): \n",
    "\ttext = text \n",
    "\n",
    "\tdef innerFunction(): \n",
    "\t\tprint(text) \n",
    "\n",
    "\treturn innerFunction # Note we are returning function WITHOUT parenthesis \n",
    "\n",
    "if __name__ == '__main__': \n",
    "\tmyFunction = outerFunction('Hey!') \n",
    "\tmyFunction() \n"
   ]
  },
  {
   "cell_type": "code",
   "execution_count": null,
   "metadata": {},
   "outputs": [],
   "source": [
    " =>  As observed from above code, closures help to invoke function outside their scope.\n",
    "\n",
    " =>  The function innerFunction has its scope only inside the outerFunction. \n",
    " \n",
    " =>  But with the use of closures we can easily extend its scope to invoke a function outside its scope.\n"
   ]
  },
  {
   "cell_type": "code",
   "execution_count": null,
   "metadata": {},
   "outputs": [],
   "source": [
    "# Python program to illustrate closures \n",
    "import logging \n",
    "logging.basicConfig(filename='example.log', level=logging.INFO) \n",
    "\n",
    "\n",
    "def logger(func): \n",
    "\tdef log_func(*args): \n",
    "\t\tlogging.info( \n",
    "\t\t\t'Running \"{}\" with arguments {}'.format(func.__name__, args)) \n",
    "\t\tprint(func(*args)) \n",
    "\t# Necessary for closure to work (returning WITHOUT parenthesis) \n",
    "\treturn log_func\t\t\t \n",
    "\n",
    "def add(x, y): \n",
    "\treturn x+y \n",
    "\n",
    "def sub(x, y): \n",
    "\treturn x-y \n",
    "\n",
    "add_logger = logger(add) \n",
    "sub_logger = logger(sub) \n",
    "\n",
    "add_logger(3, 3) \n",
    "add_logger(4, 5) \n",
    "\n",
    "sub_logger(10, 5) \n",
    "sub_logger(20, 10) \n"
   ]
  },
  {
   "cell_type": "code",
   "execution_count": null,
   "metadata": {},
   "outputs": [],
   "source": [
    "     ##############    #############  When and why use closures?    ##############    ##############\n",
    "    \n",
    " =>  As closures are used as callback functions, they provide some sort of data hiding. \n",
    "       This helps us to reduce the use of global variables.\n",
    "\n",
    " =>  When we have few functions in our code, closures prove to be efficient way. \n",
    "       But if we need to have many functions, then go for class (OOP)."
   ]
  },
  {
   "cell_type": "code",
   "execution_count": null,
   "metadata": {},
   "outputs": [],
   "source": [
    "    #############   ###########   Help() Function in Python   ############    ###############\n",
    "    \n",
    " =>  The python help function is used to display the documentation of modules, functions, classes, keywords etc.\n",
    " \n",
    "     Syntax ->  help([object])\n",
    "        \n",
    " =>  If the help function is passed without an argument, then the interactive help utility starts up on the console."
   ]
  },
  {
   "cell_type": "code",
   "execution_count": 5,
   "metadata": {},
   "outputs": [
    {
     "name": "stdout",
     "output_type": "stream",
     "text": [
      "Help on built-in function print in module builtins:\n",
      "\n",
      "print(...)\n",
      "    print(value, ..., sep=' ', end='\\n', file=sys.stdout, flush=False)\n",
      "    \n",
      "    Prints the values to a stream, or to sys.stdout by default.\n",
      "    Optional keyword arguments:\n",
      "    file:  a file-like object (stream); defaults to the current sys.stdout.\n",
      "    sep:   string inserted between values, default a space.\n",
      "    end:   string appended after the last value, default a newline.\n",
      "    flush: whether to forcibly flush the stream.\n",
      "\n"
     ]
    }
   ],
   "source": [
    "help(print) \n"
   ]
  },
  {
   "cell_type": "code",
   "execution_count": null,
   "metadata": {},
   "outputs": [],
   "source": [
    " =>  Help function output can also be defined for user defined functions and classes. \n",
    "    \n",
    " =>  The docstring(documentation string) is used for documentation. \n",
    "      \n",
    " =>  It is nested inside triple quotes and is the first statement within a class or function or a module."
   ]
  },
  {
   "cell_type": "code",
   "execution_count": null,
   "metadata": {},
   "outputs": [],
   "source": [
    "#  Let us define a class with functions:\n",
    "\n",
    "class Helper: \n",
    "\tdef __init__(self): \n",
    "\t\t'''The helper class is initialized'''\n",
    "\n",
    "\tdef print_help(self): \n",
    "\t\t'''Returns the help description'''\n",
    "\t\tprint('helper description') \n",
    "\n",
    "help(Helper) \n",
    "help(Helper.print_help) \n"
   ]
  }
 ],
 "metadata": {
  "kernelspec": {
   "display_name": "Python 3",
   "language": "python",
   "name": "python3"
  },
  "language_info": {
   "codemirror_mode": {
    "name": "ipython",
    "version": 3
   },
   "file_extension": ".py",
   "mimetype": "text/x-python",
   "name": "python",
   "nbconvert_exporter": "python",
   "pygments_lexer": "ipython3",
   "version": "3.7.7"
  }
 },
 "nbformat": 4,
 "nbformat_minor": 4
}
