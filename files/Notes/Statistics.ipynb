{
 "cells": [
  {
   "cell_type": "markdown",
   "metadata": {},
   "source": [
    "    ###########    ############   Statistics for Data science    ###########   ############"
   ]
  },
  {
   "cell_type": "markdown",
   "metadata": {},
   "source": [
    " =>  The word 'Statistics' is derived from a latin word 'status'.\n",
    "    \n",
    " =>  Statistics is a branch of Mathematicsthat deals with collecting, organizing, presenting, analysing \n",
    "        & interpreting a data in an effective way to get some valuable insights from it.\n",
    "        \n",
    " =>  Statistical analysis is used to manipulate, summarize or to be investigate a dataset, so that you will be \n",
    "       able to make some kind of decision based on dataset.\n",
    "    "
   ]
  },
  {
   "cell_type": "markdown",
   "metadata": {},
   "source": [
    "     ##########   #############   Variables &  Data-types  in Statistics   ##############    ##########\n",
    "    \n",
    " =>  A Variable in Statistics is a characteristic or attribute that can assume different values. \n",
    "\n",
    " =>  Values getting stored inside a varible are known as Data.\n",
    "    \n",
    " =>  Random Variables are variables whose values are determined randomly ( or By-chance).\n",
    "         \n",
    "         E.x. Automobile Insurance (claim suppose 5% per year)\n",
    "                  Population: Census,  Sample : may be biased\n",
    "    \n",
    " =>  A Population consists of all subjects that are studied (all memebers of a defined group, \n",
    "        that we are studying or collecting information about it for data-driven decisions).\n",
    "\n",
    " =>  A sample is a subset (or a part) of the super set Population."
   ]
  },
  {
   "cell_type": "markdown",
   "metadata": {},
   "source": [
    "       ############    ############     Descriptive Statistics    #############    ############\n",
    "    \n",
    " =>  This type of statistics is just about making descriptions about data.\n",
    "\n",
    " =>  This is a method for organising, summarising & presenting a data in an informative way to get insights.\n",
    "        i.e.  Applying EDA on dataset etc.\n",
    "\n",
    " =>  Histograms, bar graphs, pie graphs ae used to visually represent thne data by compiling it into \n",
    "       a table or a graph.\n",
    "    \n",
    " =>  Example ->  1000 people died with cholera in 2015."
   ]
  },
  {
   "cell_type": "markdown",
   "metadata": {},
   "source": [
    "        ############    ############    Inferential Statistics    #############    ############\n",
    "    \n",
    " =>  In this type of statistics, we makes inferences about populations by using the samples taken from it.\n",
    "\n",
    " =>  Inferential statistics is performed by doing Estimations and Hypothesis testings over sample. \n",
    "    \n",
    " =>  Probability Distributions, Hypothesis Testing, Correlation Testing and egression analysis falls under \n",
    "         Inferential stataistics.\n",
    "\n",
    " =>  In Inferential Statistics, answers are never 100% accurate, because the calculations are made \n",
    "         on the basis of sample.\n",
    "    \n",
    " =>  Examples  ->   *  Happiness significatly raises a person pain level Tolerance.\n",
    "                    *  30% people have A type Blood."
   ]
  },
  {
   "cell_type": "markdown",
   "metadata": {},
   "source": [
    "       ############    ############     Variables & Type of Data    #############    ############\n",
    "    \n",
    " =>  Variables of Statistics are divided into 2 categories .\n",
    "  \n",
    "          *  Quantitative Variables     &     *  Qualitative Variables\n",
    "        "
   ]
  },
  {
   "cell_type": "markdown",
   "metadata": {},
   "source": [
    "      ############    ############    Quantitative variables  & its types   #############    ############\n",
    "\n",
    " =>  Quantitative variables are counted or measured variables.\n",
    "\n",
    " =>  Numerical values, height, weight, temperature etc. are Qualitaive variables.\n",
    "    \n",
    " =>  This Qualitative variables are further divided into 2 categories.\n",
    "\n",
    "   * Discrete Variables ->  These are countable variables. Ex.  16, 78, 500, Book pages, Money, No.of students etc.\n",
    "    \n",
    "   * Continuous variables ->  These variables are measurable variables and may be a Decimakl or fractional value. \n",
    "                               E.x.  Weight, speed of wind, Value of pie etc. "
   ]
  },
  {
   "cell_type": "markdown",
   "metadata": {},
   "source": [
    "        ############    ############    Qualitative variables  & its types   #############    ############\n",
    "    \n",
    " =>  Qualitative Variqables are distinct categories accoprding to some attributes like as Gender, Religious, \n",
    "        Geographic locations etc."
   ]
  },
  {
   "cell_type": "markdown",
   "metadata": {},
   "source": [
    "     ############    ############   Recorded values and Boundaries   #############    ############\n",
    "    \n",
    "        VARIABLES              VALUE - RECORDED                 BOUNDARIES\n",
    "        ---------              ----------------                 ----------\n",
    "         Length                   18 cm                          (17.5 - 18.5) cm\n",
    "            \n",
    "        Temperature               76 'F                          (75.5  -  76.5) 'F\n",
    "        \n",
    "          Time                  0.24 seconds                     (0.235 - 0.245) seconds\n",
    "            \n",
    "        Weight                    3.8 gm                          (3.75  -  3.85) gm"
   ]
  },
  {
   "cell_type": "code",
   "execution_count": null,
   "metadata": {},
   "outputs": [],
   "source": [
    "        ############    ############    Different types of Scale   #############    ############\n",
    "    \n",
    " =>  There are 4 types of scale to categorize differen types of variables.\n",
    "\n",
    "       *  Nominal     *  Ordinal     *  Interval      *  Ratio\n",
    "    \n",
    " =>  Nominal ->  Nominal scales are used for labelling varibles without any quantitaive value.\n",
    "                   They dont uses any ranking or order to categorize values..\n",
    "    \n",
    "    *  What is your gender?    ->    Male   or     Female\n",
    "    \n",
    "    *  What is your hair Hair-color?   ->  Brown     Black      Blonde    Gray     Other\n",
    "    \n",
    "    \n",
    " =>  Ordinal ->  Data measured at this level can be placed into categories and these categories can be \n",
    "                   ranked or ordered.   \n",
    "                 \n",
    "                   Ex. ->  *  Alphabetical letters  A, B, C, D etc.\n",
    "                            \n",
    "                           *  Guest speaker speech ->  Excellent, Average, Poor\n",
    "            \n",
    "                           *  Restaurant services  ->  '1' for poor, '2' for average, '3' for very good, \n",
    "                                                       '4' for Excellent\n",
    "                    \n",
    "                           *  Students ranking  ->  1st, 2nd, 3rd, 4th, ......   etc.\n",
    " \n",
    "\n",
    " =>  Interval ->  Data measured at this level have some meaningful differences between an interval and also have \n",
    "                   propeties of ordinals.\n",
    "        \n",
    "                 *  Iq score     ->      (107 - 108) IQs\n",
    "            \n",
    "                 *  Temperature  ->      (15 - 16) 'C\n",
    "                 \n",
    "                 *  Distance     ->      (30 - 40) km\n",
    "                \n",
    "    =>  There is no True 'Zero' in this level.\n",
    "    \n",
    "    \n",
    " => Ratio ->  This level is similar to Interval level but it also has True 'Zero'.\n",
    "\n",
    "              This is used to measure heights, Phone calls received, area, weight etc. \n",
    "\n",
    "    \n",
    " =>  Nominal level is used to classify data, whereas Ratio level gives more exact values.\n",
    "\n",
    " =>  Nominal, Ordinal and Interval datatypes are Discrete whereas ratio data are continuous."
   ]
  },
  {
   "cell_type": "markdown",
   "metadata": {},
   "source": [
    "<img src=\"images/stat.jpg\">"
   ]
  },
  {
   "cell_type": "markdown",
   "metadata": {},
   "source": [
    "<img src=\"images/stat1.jpg\">"
   ]
  },
  {
   "cell_type": "code",
   "execution_count": null,
   "metadata": {},
   "outputs": [],
   "source": [
    "        #############   ###########   Mean, Median & Mode  In Statistics   ###########   ##############\n",
    "    \n",
    " =>  Mean is defined as the Sum of values of a dataset divided by total no. of values in that dataset.\n",
    "\n",
    " =>  Mean is similar to average.\n",
    "    \n",
    " =>  When we have some outliers in our dataset, then Mean gets a huge hike whereas Median just slightly increases."
   ]
  },
  {
   "cell_type": "markdown",
   "metadata": {},
   "source": [
    "<img src = \"images/mean.jpg\">"
   ]
  },
  {
   "cell_type": "code",
   "execution_count": null,
   "metadata": {},
   "outputs": [],
   "source": [
    "\n",
    " =>  Median is a value, which separates the higher half and lower half of an arranged dataset.\n",
    "    \n",
    " =>  or in other words, Median is just the middle value of an arranged dataset.\n",
    "\n",
    "    *   1, 2, 3, 5, 6, 7, 8    ->  In this case, median = 5\n",
    "        -------     -------    \n",
    "        \n",
    "        \n",
    "    *   1, 2, 3, 5, 6, 7, 8, 9   ->  In this case, Median = (5 + 6)/2  = 5.5\n",
    "        -------        -------"
   ]
  },
  {
   "cell_type": "code",
   "execution_count": null,
   "metadata": {},
   "outputs": [],
   "source": [
    "\n",
    " =>  Mode is the most frequent value in a dataset.\n",
    "    \n",
    " =>  There may be 2 or 3 maximum number of modes in a dataset.\n",
    "\n",
    "  *  1, 4, 3, 5, 4, 7, 8, 4, 3, 2, 3  ->   Modes = 3 and 4"
   ]
  },
  {
   "cell_type": "code",
   "execution_count": null,
   "metadata": {},
   "outputs": [],
   "source": []
  }
 ],
 "metadata": {
  "kernelspec": {
   "display_name": "Python 3",
   "language": "python",
   "name": "python3"
  },
  "language_info": {
   "codemirror_mode": {
    "name": "ipython",
    "version": 3
   },
   "file_extension": ".py",
   "mimetype": "text/x-python",
   "name": "python",
   "nbconvert_exporter": "python",
   "pygments_lexer": "ipython3",
   "version": "3.7.6"
  }
 },
 "nbformat": 4,
 "nbformat_minor": 4
}
