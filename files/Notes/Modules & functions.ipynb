{
 "cells": [
  {
   "cell_type": "code",
   "execution_count": null,
   "metadata": {},
   "outputs": [],
   "source": [
    "    ###########    ###########   Modules in Python   ###########     #############\n",
    "    "
   ]
  },
  {
   "cell_type": "code",
   "execution_count": null,
   "metadata": {},
   "outputs": [],
   "source": [
    " =>  A module is a file containing Python definitions and statements. A module can define functions,\n",
    "      classes and variables. \n",
    "        \n",
    " =>  A module can also include runnable code. \n",
    "\n",
    " =>  Grouping related code into a module makes the code easier to understand and use.\n",
    "\n"
   ]
  },
  {
   "cell_type": "code",
   "execution_count": null,
   "metadata": {},
   "outputs": [],
   "source": [
    "# Python code to display importing the module\n",
    "\n",
    "# A simple module, calc.py \n",
    "  \n",
    "def add(x, y): \n",
    "    return (x+y) \n",
    "  \n",
    "def subtract(x, y): \n",
    "    return (x-y) "
   ]
  },
  {
   "cell_type": "code",
   "execution_count": null,
   "metadata": {},
   "outputs": [],
   "source": [
    " \n",
    " =>  We can use any Python source file as a module by executing an import statement in some other \n",
    "       Python source file.\n",
    "\n",
    " =>  When interpreter encounters an import statement, it imports the module if the module is present in the \n",
    "      search path.\n",
    "    \n",
    " =>  A search path is a list of directories that the interpreter searches for importing a module. \n",
    "    \n",
    "    => For example, to import the module calc.py, \n",
    "        we need to put the following command at the top of the script :\n",
    "\n"
   ]
  },
  {
   "cell_type": "code",
   "execution_count": null,
   "metadata": {},
   "outputs": [],
   "source": [
    " ##########    ############    Mathematical functions in Python   ###########   ############\n",
    "    \n",
    "\n",
    "   ############    ############    Numerical Functions   #############    ############   \n",
    "    \n",
    " =>  ceil() :- This function returns the smallest integral value greater than the number. \n",
    "                Syntax -> math.ceil(value)\n",
    "                 \n",
    "\n",
    " =>  floor() :- This function returns the greatest integral value smaller than the number. \n",
    "                 Syntax -> math.floor(value)\n",
    "        \n",
    "        Notes:- ceil() and floor() only works in floating point values.\n",
    "                 In case of integers, They return the same integral value,\n",
    "        \n",
    " \n",
    " =>   fabs() :- This function returns the absolute value of the number in floating point.\n",
    "                   Syntax -> math.fabs(value)\n",
    "\n",
    " =>  factorial() :- This function returns the factorial of the number. \n",
    "                     An error message is displayed if number is not integral.\n",
    "        \n",
    "                    Syntax -> math.factorial(value)\n",
    "        \n",
    " =>   copysign(a, b) :- This function returns the number with the value of ‘a’ but with the sign of ‘b’. \n",
    "                          The returned value is float type.\n",
    "        \n",
    "                     Syntax -> math.copysign(a, b)\n",
    "\n",
    " =>  gcd() :- This function takes 2 arguments and return their Greatest Common Divisor.\n",
    "                 This function works in python 3.5 and above.\n",
    "        \n",
    "                      Syntax ->  math.gcd(a, b)\n",
    "\n",
    "        \n",
    "  ############    ############    Exponential & Logarithmic Functions   #############    ############   \n",
    "        \n",
    "        \n",
    " =>  exp(a) :- This function returns the value of e raised to the power x.\n",
    "               \n",
    "                 Syntax -> math.exp(x) .\n",
    "\n",
    " => log(a, b) :- This function returns the logarithmic value of a with base b. If base is not mentioned, \n",
    "                   the computed value is of natural log.\n",
    "        \n",
    "                 Syntax -> math.log(a, b)\n",
    "        \n",
    " => log2(a) :- This function computes value of log a with base 2. \n",
    "                   This value is more accurate than the value of the function discussed above.\n",
    "        \n",
    "                 Syntax -> math.log2(a)\n",
    "\n",
    " => log10(a) :- This function computes value of log a with base 10. \n",
    "                 This value is more accurate than the value of the function discussed above.\n",
    "        \n",
    "                 Syntax -> math.log10(a)\n",
    "            \n",
    " => pow(a, b) :- This function is used to compute value of a raised to the power b (a**b).\n",
    "\n",
    "                 Syntax -> math.pow(a, b)\n",
    "    \n",
    " => sqrt() :- This function returns the square root of the number.\n",
    "    \n",
    "                 Syntax -> math.sqrt(a)\n",
    "    \n",
    " \n",
    "\n",
    "   ############    ############    Trigonometric Functions   #############    ############\n",
    "\n",
    " \n",
    " => sin() :- This function returns the sine of value passed as argument. The value passed in this function \n",
    "                 should be in radians.\n",
    "          \n",
    "               Syntax -> math.sin(x)\n",
    "\n",
    " \n",
    " => cos() :- This function returns the cosine of value passed as argument. The value passed in this function \n",
    "                 should be in radians.\n",
    "        \n",
    "               Syntax -> math.cos(x)\n",
    "        \n",
    " => tan() :- This function returns the tangent of value passed as argument. The value passed in this function \n",
    "                 should be in radians.\n",
    "         \n",
    "               Syntax -> math.tan(x)\n",
    "        \n",
    "\n",
    " => hypot(a, b) :- This returns the hypotenuse of the values passed in arguments. Numerically, it returns \n",
    "                      the value of sqrt(a*a + b*b).\n",
    "\n",
    "                Syntax ->  math.hypot(a, b)\n",
    "        \n",
    " => degrees() :- This function is used to convert argument value from radians to degrees.\n",
    "    \n",
    "                Syntax ->  math.degrees(radian_value)\n",
    "\n",
    " => radians() :- This function is used to convert argument value from degrees to radians.\n",
    "    \n",
    "                Syntax ->  math.radians(degree_value)\n",
    "    \n",
    "    \n",
    "   #############    #############  Additional functions   #############    ###############\n",
    "\n",
    " =>  gamma() :- This function is used to return the gamma function of the argument.\n",
    "    \n",
    "                 Syntax ->  math.gamma(x)\n",
    "    \n",
    " =>  pi :- This is an inbuilt constant that outputs the value of pi(3.141592).\n",
    "\n",
    " =>  e :- This is an inbuilt constant that outputs the value of e(2.718281).\n",
    "    \n",
    " => inf :- This is a positive floating point infinity constant. -inf is used to denote the negative floating point infinity. This constant is defined in python 3.5 and above.\n",
    "\n",
    " => isinf() :- This function Return True if x is a positive or negative infinity, and False otherwise.\n",
    "          \n",
    "                 Syntax ->  math.isinf(value)\n",
    "    \n",
    " =>  nan :- This constant denotes “Not a number” in python. This constant is defined in python 3.5 and above.\n",
    "\n",
    " => isnan() :- This function returns true if the number is “nan” else returns false.\n",
    "                  Syntax ->  math.isnan(value)\n"
   ]
  },
  {
   "cell_type": "code",
   "execution_count": null,
   "metadata": {},
   "outputs": [],
   "source": [
    "        ################     ##########    Log functions in Detail    #################    ###########\n",
    "    \n",
    " =>  Python offers many inbuild logarithmic functions under the module “math” which allows us to compute logs using a single line. \n",
    "        \n",
    " =>  There are 4 variants of logarithmic functions.\n",
    "\n",
    "        ###########   ############   log(a, (Base))   ##########   ###########     ############\n",
    "    \n",
    "    =>  This function is used to compute the natural logarithm (Base e) of a. \n",
    "          If 2 arguments are passed, it computes the logarithm of desired base of argument a, \n",
    "            numerically value of log(a)/log(Base)."
   ]
  },
  {
   "cell_type": "markdown",
   "metadata": {},
   "source": [
    "<img src=\"images/log-a.png\">"
   ]
  },
  {
   "cell_type": "code",
   "execution_count": null,
   "metadata": {},
   "outputs": [],
   "source": [
    "# Python code to demonstrate the working of \n",
    "# log(a,Base) \n",
    "\n",
    "import math \n",
    "\n",
    "# Printing the log base e of 14 \n",
    "print (\"Natural logarithm of 14 is : \", end=\"\") \n",
    "print (math.log(14)) \n",
    "\n",
    "# Printing the log base 5 of 14 \n",
    "print (\"Logarithm base 5 of 14 is : \", end=\"\") \n",
    "print (math.log(14,5)) \n"
   ]
  },
  {
   "cell_type": "code",
   "execution_count": null,
   "metadata": {},
   "outputs": [],
   "source": [
    "     ############    ###########  log2(a)   ############    ##############\n",
    "    \n",
    " =>  log2(a) : This function is used to compute the logarithm base 2 of a. Displays more accurate result \n",
    "                 than log(a,2)."
   ]
  },
  {
   "cell_type": "markdown",
   "metadata": {},
   "source": [
    "<img src=\"images/log-2.png\">"
   ]
  },
  {
   "cell_type": "code",
   "execution_count": null,
   "metadata": {},
   "outputs": [],
   "source": [
    "# Python code to demonstrate the working of \n",
    "# log2(a) \n",
    "\n",
    "import math \n",
    "\n",
    "# Printing the log base 2 of 14 \n",
    "print (\"Logarithm base 2 of 14 is : \", end=\"\") \n",
    "print (math.log2(14)) \n"
   ]
  },
  {
   "cell_type": "code",
   "execution_count": null,
   "metadata": {},
   "outputs": [],
   "source": [
    "    #############    ############    Log10(a)    #############      ################\n",
    "    \n",
    " =>   This function is used to compute the logarithm base 10 of a. Displays more accurate result than log(a,10)."
   ]
  },
  {
   "cell_type": "markdown",
   "metadata": {},
   "source": [
    "<img src=\"images/log-10.png\">"
   ]
  },
  {
   "cell_type": "code",
   "execution_count": null,
   "metadata": {},
   "outputs": [],
   "source": [
    "# Python code to demonstrate the working of \n",
    "# log10(a) \n",
    "\n",
    "import math \n",
    "\n",
    "# Printing the log base 10 of 14 \n",
    "print (\"Logarithm base 10 of 14 is : \", end=\"\") \n",
    "print (math.log10(14)) \n"
   ]
  },
  {
   "cell_type": "code",
   "execution_count": null,
   "metadata": {},
   "outputs": [],
   "source": [
    "     #############     ############    log1p(a)    ###############   ###############\n",
    "    \n",
    " =>  log1p(a) : This function is used to compute logarithm(1+a) ."
   ]
  },
  {
   "cell_type": "markdown",
   "metadata": {},
   "source": [
    "<img src=\"images/log-1p.png\">"
   ]
  },
  {
   "cell_type": "code",
   "execution_count": null,
   "metadata": {},
   "outputs": [],
   "source": [
    "# Python code to demonstrate the working of \n",
    "# log1p(a) \n",
    "\n",
    "import math \n",
    "\n",
    "# Printing the log(1+a) of 14 \n",
    "print (\"Logarithm(1+a) value of 14 is : \", end=\"\") \n",
    "print (math.log1p(14)) \n"
   ]
  },
  {
   "cell_type": "code",
   "execution_count": null,
   "metadata": {},
   "outputs": [],
   "source": [
    " =>  log(a) raises a value eror, when a negative number passses through the function.\n",
    "    \n",
    "   >>>  math.log(-14)     ---->>>    This raises a value error."
   ]
  },
  {
   "cell_type": "code",
   "execution_count": null,
   "metadata": {},
   "outputs": [],
   "source": [
    "   #############    ##########    Decimal functions in python    #############    #############\n",
    "    \n",
    " =>  Python in its definition provides certain methods to perform faster decimal floating point \n",
    "           arithmetic using the module “decimal”.\n",
    "    \n",
    " =>  sqrt() :- This function computes the square root of the decimal number.\n",
    "\n",
    " =>  exp() :- This function returns the e^x (exponent) of the decimal number.\n",
    "    \n",
    " =>  ln() :- This function is used to compute natural logarithm of the decimal number.\n",
    "\n",
    " =>  log10() :- This function is used to compute log(base 10) of a decimal number.\n",
    "    \n",
    " =>  as_tuple() :- Returns the decimal number as tuple containing 3 arguments, sign(0 for +, 1 for -), \n",
    "                       digits and exponent value.\n",
    "\n",
    " =>  fma(a,b) :- This “fma” stands for fused multiply and add. \n",
    "    \n",
    "            => It computes (num*a)+b from the numbers in argument.\n",
    "            => No rounding of (num*a) takes place in this function.\n",
    "\n",
    "        Example : decimal.Decimal(5).fma(2,3) --> (5*2)+3 = 13\n",
    "            \n",
    "            \n",
    " =>  compare() :- This function is used to compare decimal numbers and return 1 if 1st Decimal argument is greater\n",
    "                     than 2nd, -1 if 1st Decimal argument is smaller than 2nd and 0 if both are equal.\n",
    "    \n",
    " =>  compare_total_mag() :- Compares the total magnitute of decimal numbers & return -\n",
    "                      \n",
    "                               1 if 1st Decimal argument is greater than 2nd(ignoring sign), \n",
    "                               -1 if 1st Decimal argument is smaller than 2nd(ignoring sign) and \n",
    "                               0 if both are equal(ignoring sign).\n",
    "                \n",
    " \n",
    " =>  copy_abs() :- This function prints the absolute value of decimal argument.\n",
    "\n",
    " =>  copy_negate() :- This function prints the negation of decimal argument.\n",
    "\n",
    " =>  copy_sign() :- This function prints the first argument by copying the sign from 2nd argumen.\n",
    "    \n",
    " =>  max() :- This function computes the maximum of two decimal numbers.\n",
    "\n",
    " =>  min() :- This function computes the minimum of two decimal numbers."
   ]
  },
  {
   "cell_type": "code",
   "execution_count": 4,
   "metadata": {},
   "outputs": [
    {
     "name": "stdout",
     "output_type": "stream",
     "text": [
      "The exponent of decimal number is : 90.01713130052181355011545675\n",
      "The square root of decimal number is : 2.121320343559642573202533086\n"
     ]
    }
   ],
   "source": [
    "# Python code to demonstrate the working of \n",
    "# sqrt() and exp() \n",
    "\n",
    "# importing \"decimal\" module to use decimal functions \n",
    "import decimal \n",
    "\n",
    "# using exp() to compute the exponent of decimal number \n",
    "a = decimal.Decimal(4.5).exp() \n",
    "\n",
    "# using sqrt() to compute the square root of decimal number \n",
    "b = decimal.Decimal(4.5).sqrt() \n",
    "\n",
    "# printing the exponent \n",
    "print (\"The exponent of decimal number is : \",end=\"\") \n",
    "print (a) \n",
    "\n",
    "# printing the square root \n",
    "print (\"The square root of decimal number is : \",end=\"\") \n",
    "print (b) \n"
   ]
  },
  {
   "cell_type": "code",
   "execution_count": 5,
   "metadata": {},
   "outputs": [
    {
     "name": "stdout",
     "output_type": "stream",
     "text": [
      "The natural logarithm of decimal number is : 1.504077396776274073373258352\n",
      "The log(base 10) of decimal number is : 0.6532125137753436793763169118\n"
     ]
    }
   ],
   "source": [
    "# Python code to demonstrate the working of \n",
    "# ln() and log10() \n",
    "\n",
    "# importing \"decimal\" module to use decimal functions \n",
    "import decimal \n",
    "\n",
    "# using ln() to compute the natural log of decimal number \n",
    "a = decimal.Decimal(4.5).ln() \n",
    "\n",
    "# using sqrt() to compute the log10 of decimal number \n",
    "b = decimal.Decimal(4.5).log10() \n",
    "\n",
    "# printing the natural logarithm \n",
    "print (\"The natural logarithm of decimal number is : \",end=\"\") \n",
    "print (a) \n",
    "\n",
    "# printing the log10 \n",
    "print (\"The log(base 10) of decimal number is : \",end=\"\") \n",
    "print (b) \n"
   ]
  },
  {
   "cell_type": "code",
   "execution_count": 6,
   "metadata": {},
   "outputs": [
    {
     "name": "stdout",
     "output_type": "stream",
     "text": [
      "The tuple form of decimal number is : DecimalTuple(sign=1, digits=(4, 5), exponent=-1)\n",
      "The fused multiply and addition of decimal number is : 13\n"
     ]
    }
   ],
   "source": [
    "# Python code to demonstrate the working of \n",
    "# as_tuple() and fma() \n",
    "\n",
    "# importing \"decimal\" module to use decimal functions \n",
    "import decimal \n",
    "\n",
    "# using as_tuple() to return decimal number as tuple \n",
    "a = decimal.Decimal(-4.5).as_tuple() \n",
    "\n",
    "# using fma() to compute fused multiply and addition \n",
    "b = decimal.Decimal(5).fma(2,3) \n",
    "\n",
    "# printing the tuple \n",
    "print (\"The tuple form of decimal number is : \",end=\"\") \n",
    "print (a) \n",
    "\n",
    "# printing the fused multiple and addition \n",
    "print (\"The fused multiply and addition of decimal number is : \",end=\"\") \n",
    "print (b) \n"
   ]
  },
  {
   "cell_type": "code",
   "execution_count": 7,
   "metadata": {},
   "outputs": [
    {
     "name": "stdout",
     "output_type": "stream",
     "text": [
      "The result of comparison using compare() is : 1\n",
      "The result of comparison using compare_total_mag() is : -1\n"
     ]
    }
   ],
   "source": [
    "# Python code to demonstrate the working of \n",
    "# compare() and compare_total_mag() \n",
    "\n",
    "# importing \"decimal\" module to use decimal functions \n",
    "import decimal \n",
    "\n",
    "# Initializing decimal number \n",
    "a = decimal.Decimal(9.53) \n",
    "\n",
    "# Initializing decimal number \n",
    "b = decimal.Decimal(-9.56) \n",
    "\n",
    "# comparing decimal numbers using compare() \n",
    "print (\"The result of comparison using compare() is : \",end=\"\") \n",
    "print (a.compare(b)) \n",
    "\n",
    "# comparing decimal numbers using compare_total_mag() \n",
    "print (\"The result of comparison using compare_total_mag() is : \",end=\"\") \n",
    "print (a.compare_total_mag(b)) \n"
   ]
  },
  {
   "cell_type": "code",
   "execution_count": 8,
   "metadata": {},
   "outputs": [
    {
     "name": "stdout",
     "output_type": "stream",
     "text": [
      "The absolute value using copy_abs() is : 9.5600000000000004973799150320701301097869873046875\n",
      "The negated value using copy_negate() is : 9.5600000000000004973799150320701301097869873046875\n",
      "The sign effected value using copy_sign() is : -9.5299999999999993605115378159098327159881591796875\n"
     ]
    }
   ],
   "source": [
    "# Python code to demonstrate the working of \n",
    "# copy_abs(),copy_sign() and copy_negate() \n",
    "\n",
    "# importing \"decimal\" module to use decimal functions \n",
    "import decimal \n",
    "\n",
    "# Initializing decimal number \n",
    "a = decimal.Decimal(9.53) \n",
    "\n",
    "# Initializing decimal number \n",
    "b = decimal.Decimal(-9.56) \n",
    "\n",
    "# printing absolute value using copy_abs() \n",
    "print (\"The absolute value using copy_abs() is : \",end=\"\") \n",
    "print (b.copy_abs()) \n",
    "\n",
    "# printing negated value using copy_negate() \n",
    "print (\"The negated value using copy_negate() is : \",end=\"\") \n",
    "print (b.copy_negate()) \n",
    "\n",
    "# printing sign effected value using copy_sign() \n",
    "print (\"The sign effected value using copy_sign() is : \",end=\"\") \n",
    "print (a.copy_sign(b)) \n"
   ]
  },
  {
   "cell_type": "code",
   "execution_count": null,
   "metadata": {},
   "outputs": [],
   "source": [
    "     ############    ##########    Complex numbers in Python   #############   #############\n",
    "    \n",
    " => Python can also handle complex numbers and its associated functions using the file “cmath”.\n",
    "\n",
    " => An complex number is represented by “ x + yi “.\n",
    "    \n",
    " => Python converts the real numbers x and y into complex using the function complex(x,y). \n",
    "\n",
    " => The real part can be accessed using the function real() and imaginary part can be represented by imag()."
   ]
  },
  {
   "cell_type": "code",
   "execution_count": 12,
   "metadata": {},
   "outputs": [
    {
     "name": "stdout",
     "output_type": "stream",
     "text": [
      "The real part of complex number is : 5.0\n",
      "The imaginary part of complex number is : 3.0\n"
     ]
    }
   ],
   "source": [
    "# Python code to demonstrate the working of \n",
    "# complex(), real() and imag() \n",
    "\n",
    "# importing \"cmath\" for complex number operations \n",
    "import cmath \n",
    "\n",
    "# Initializing real numbers \n",
    "x = 5\n",
    "y = 3\n",
    "\n",
    "# converting x and y into complex number \n",
    "z = complex(x,y); \n",
    "\n",
    "# printing real and imaginary part of complex number \n",
    "print (\"The real part of complex number is : \",end=\"\") \n",
    "print (z.real) \n",
    "\n",
    "print (\"The imaginary part of complex number is : \",end=\"\") \n",
    "print (z.imag) \n"
   ]
  },
  {
   "cell_type": "code",
   "execution_count": null,
   "metadata": {},
   "outputs": [],
   "source": [
    "    ############     ############    Phase of complex number   #############      #############\n",
    "\n",
    " =>  Geometrically, the phase of a complex number is the angle between the positive real axis and the vector \n",
    "        representing complex number. \n",
    "    \n",
    " => This is also known as argument of complex number.\n",
    "\n",
    " => Phase is returned using phase(), which takes complex number as argument.\n",
    "    \n",
    " => The range of phase lies from -pi to +pi. i.e from -3.14 to +3.14."
   ]
  },
  {
   "cell_type": "code",
   "execution_count": null,
   "metadata": {},
   "outputs": [],
   "source": [
    "# Python code to demonstrate the working of phase() \n",
    "\n",
    "# importing \"cmath\" for complex number operations \n",
    "import cmath \n",
    "\n",
    "# Initializing real numbers \n",
    "x = -1.0\n",
    "y = 0.0\n",
    "\n",
    "# converting x and y into complex number \n",
    "z = complex(x,y); \n",
    "\n",
    "# printing phase of a complex number using phase() \n",
    "print (\"The phase of complex number is : \",end=\"\") \n",
    "print (cmath.phase(z)) \n"
   ]
  },
  {
   "cell_type": "code",
   "execution_count": null,
   "metadata": {},
   "outputs": [],
   "source": [
    "   ###########    ###########  Converting from polar to rectangular form and vice versa   ###########   ###########\n",
    "\n",
    " =>  Conversion to polar is done using polar(), which returns a pair(r,ph) denoting the modulus r\n",
    "        and phase angle ph. modulus can be displayed using abs() and phase using phase().\n",
    "\n",
    " =>  A complex number converts into rectangular coordinates by using rect(r, ph), where r is modulus \n",
    "       and ph is phase angle. \n",
    "    \n",
    " =>  It returns a value numerically equal to r * (math.cos(ph) + math.sin(ph)*1j)"
   ]
  },
  {
   "cell_type": "code",
   "execution_count": null,
   "metadata": {},
   "outputs": [],
   "source": [
    "# Python code to demonstrate the working of \n",
    "# polar() and rect() \n",
    "\n",
    "# importing \"cmath\" for complex number operations \n",
    "import cmath \n",
    "import math \n",
    "\n",
    "# Initializing real numbers \n",
    "x = 1.0\n",
    "y = 1.0\n",
    "\n",
    "# converting x and y into complex number \n",
    "z = complex(x,y); \n",
    "\n",
    "# converting complex number into polar using polar() \n",
    "w = cmath.polar(z) \n",
    "\n",
    "# printing modulus and argument of polar complex number \n",
    "print (\"The modulus and argument of polar complex number is : \",end=\"\") \n",
    "print (w) \n",
    "\n",
    "# converting complex number into rectangular using rect() \n",
    "w = cmath.rect(1.4142135623730951, 0.7853981633974483) \n",
    "\n",
    "# printing rectangular form of complex number \n",
    "print (\"The rectangular form of complex number is : \",end=\"\") \n",
    "print (w) \n"
   ]
  },
  {
   "cell_type": "code",
   "execution_count": null,
   "metadata": {},
   "outputs": [],
   "source": [
    "   ##############    #############  Addition and Subtraction of Complex Numbers   ###########   ###############\n",
    "    \n",
    " =>  Addition and subtraction are performed over Complex Numbers using '+' and '-' respectively.\n",
    "   \n",
    " =>  Examples -> \n",
    "  \n",
    "          (2 + 3j) + (5 + 4j)                    (2 + 3j) - (5 + 4j)   "
   ]
  },
  {
   "cell_type": "code",
   "execution_count": 25,
   "metadata": {},
   "outputs": [
    {
     "name": "stdout",
     "output_type": "stream",
     "text": [
      " The sum of complex numbers z1 and z2 is :  (6+1j)\n",
      " The difference of complex numbers z1 and z2 is :  (2+9j)\n"
     ]
    }
   ],
   "source": [
    "#  Python code for performing addition and subtraction over complex numbers\n",
    "\n",
    "# Defining two functions\n",
    "def complex_sum(z1, z2):\n",
    "    return z1 + z2\n",
    "\n",
    "def complex_diff(z1, z2):\n",
    "    return z1 - z2\n",
    "\n",
    "# Driver code for above functions\n",
    "z1 = 4 +5j; z2 = 2 - 4j\n",
    "\n",
    "print (\" The sum of complex numbers z1 and z2 is : \", complex_sum(z1, z2))\n",
    "print (\" The difference of complex numbers z1 and z2 is : \", complex_diff(z1, z2))\n"
   ]
  },
  {
   "cell_type": "code",
   "execution_count": null,
   "metadata": {},
   "outputs": [],
   "source": [
    "   ###########   ###########    Some operations on Complex Numbers    ############     #############\n",
    "    \n",
    " => exp() :- This function returns the exponent of the complex number mentioned in its argument.\n",
    "\n",
    " => log(x,b) :- This function returns the logarithmic value of x with the base b, both mentioned in its arguments.\n",
    "                  If base is not specified, natural log of x is returned.\n",
    "        \n",
    " => log10() :- This function returns the log base 10 of a complex number.\n",
    "\n",
    " => sqrt() :- This computes the square root of a complex number.\n",
    "    \n",
    " => isfinite() :- Returns true if both real and imaginary part of complex number are finite, else returns false.\n",
    "\n",
    " => isinf() :- Returns true if either real or imaginary part of complex number is/are infinite, else returns false.\n",
    "\n",
    " => isnan() :- Returns true if either real or imaginary part of complex number is NaN , else returns false.\n",
    "    \n",
    " => There are 2 different constants are defined in cmath module.\n",
    "        \n",
    "        * pi ( = 3.1428571428571),     * e ( = 2.718281828459045)"
   ]
  },
  {
   "cell_type": "code",
   "execution_count": 20,
   "metadata": {},
   "outputs": [
    {
     "name": "stdout",
     "output_type": "stream",
     "text": [
      " The exponent of z is :  (1.4686939399158851+2.2873552871788423j)\n",
      " The logarithm of z to base 10  (0.15051499783199057+0.3410940884604603j)\n",
      " The log10 of z is :  (0.15051499783199057+0.3410940884604603j)\n",
      " the square root of z is :  (1.09868411346781+0.45508986056222733j)\n"
     ]
    }
   ],
   "source": [
    "# Python code to display some functions working over complex numbers\n",
    "\n",
    "# importing modules \"cmath\" and \"math\"\n",
    "import cmath\n",
    "import math\n",
    "\n",
    "# Initializing real numbers \n",
    "x = 1.0\n",
    "y = 1.0\n",
    "  \n",
    "# converting x and y into complex number \n",
    "z = complex(x, y); \n",
    "\n",
    "# exp() and log()  and log10() over complex numbers\n",
    "print (\" The exponent of z is : \", cmath.exp(z))\n",
    "print (\" The logarithm of z to base 10 \", cmath.log(z, 10))\n",
    "print (\" The log10 of z is : \", cmath.log10(z))\n",
    "\n",
    "# sqrt() over complex number z\n",
    "print (\" the square root of z is : \", cmath.sqrt(z))"
   ]
  },
  {
   "cell_type": "code",
   "execution_count": 23,
   "metadata": {},
   "outputs": [
    {
     "name": "stdout",
     "output_type": "stream",
     "text": [
      "Complex number is finite\n",
      "Complex number is infinite\n",
      "Complex number is NaN\n",
      "\n",
      "\n",
      "The value of pi is :  3.141592653589793\n",
      "The value of e is :  2.718281828459045\n"
     ]
    }
   ],
   "source": [
    "# Python code to demonstrate the working of \n",
    "# isnan(), isinf(), isfinite() \n",
    "\n",
    "# importing \"cmath\" for complex number operations \n",
    "import cmath \n",
    "import math \n",
    "\n",
    "# Initializing real numbers \n",
    "x = 1.0\n",
    "y = 1.0\n",
    "a = math.inf \n",
    "b = math.nan \n",
    "\n",
    "# converting x and y into complex number \n",
    "z = complex(x,y); \n",
    "\n",
    "# converting x and a into complex number \n",
    "w = complex(x,a); \n",
    "\n",
    "# converting x and b into complex number \n",
    "v = complex(x,b); \n",
    "\n",
    "# checking if both numbers are finite \n",
    "if cmath.isfinite(z): \n",
    "\tprint (\"Complex number is finite\") \n",
    "else : print (\"Complex number is infinite\") \n",
    "\t\n",
    "# checking if either number is/are infinite \n",
    "if cmath.isinf(w): \n",
    "\tprint (\"Complex number is infinite\") \n",
    "else : print (\"Complex number is finite\") \n",
    "\n",
    "# checking if either number is/are infinite \n",
    "if cmath.isnan(v): \n",
    "\tprint (\"Complex number is NaN\") \n",
    "else : print (\"Complex number is not NaN\") \n",
    "\n",
    "print (\"\\n\")\n",
    "\n",
    "print (\"The value of pi is : \", cmath.pi)\n",
    "print (\"The value of e is : \", cmath.e)"
   ]
  },
  {
   "cell_type": "code",
   "execution_count": null,
   "metadata": {},
   "outputs": [],
   "source": [
    "  ############    ############   Trigonometric and Hyperbolic Functions   #############    #############\n",
    "  \n",
    " => There are some more functions defined in 'cmath' module.\n",
    "    \n",
    "   \n",
    "    ###########    ###########    Trigonometric Functions   #############    ##############\n",
    "    \n",
    " => sin() : This function returns the sine of the complex number passed in argument.\n",
    "\n",
    " => cos() : This function returns the cosine of the complex number passed in argument.\n",
    "\n",
    " => tan() : This function returns the tangent of the complex number passed in argument.\n",
    "    \n",
    " \n",
    "   ###########    ###########  Inverse - Trigonometric Functions   #############    ##############\n",
    "     \n",
    "\n",
    " => asin() : This function returns the arc sine of the complex number passed in argument.\n",
    "\n",
    " => acos() : This function returns the arc cosine of the complex number passed in argument.\n",
    "\n",
    " => atan() : This function returns the arc tangent of the complex number passed in argument.\n",
    "    \n",
    "\n",
    "    ###########   ##########   Hyperbolic Functions  ###########   #############   \n",
    "    \n",
    " => sinh() : This function returns the hyperbolic sine of the complex number passed in argument.\n",
    "\n",
    " => cosh() : This function returns the hyperbolic cosine of the complex number passed in argument.\n",
    "\n",
    " => tanh() : This function returns the hyperbolic tangent of the complex number passed in argument.\n",
    "    \n",
    "\n",
    "    ###########   ##########   Inverse Hyperbolic Functions  ###########   #############  \n",
    "    \n",
    " => asinh() : This function returns the inverse hyperbolic sine of the complex number passed in argument.\n",
    "\n",
    " => acosh() : This function returns the inverse hyperbolic cosine of the complex number passed in argument.\n",
    "\n",
    " => atanh() : This function returns the inverse hyperbolic tangent of the complex number passed in argument."
   ]
  },
  {
   "cell_type": "code",
   "execution_count": 26,
   "metadata": {},
   "outputs": [
    {
     "name": "stdout",
     "output_type": "stream",
     "text": [
      "The sine value of complex number is : (1.2984575814159773+0.6349639147847361j)\n",
      "The cosine value of complex number is : (0.8337300251311491-0.9888977057628651j)\n",
      "The tangent value of complex number is : (0.2717525853195118+1.0839233273386946j)\n",
      "\n",
      "\n",
      "The arc sine value of complex number is : (0.6662394324925153+1.0612750619050357j)\n",
      "The arc cosine value of complex number is : (0.9045568943023814-1.0612750619050357j)\n",
      "The arc tangent value of complex number is : (1.0172219678978514+0.40235947810852507j)\n",
      "\n",
      "\n",
      "The hyperbolic sine value of complex number is : (0.6349639147847361+1.2984575814159773j)\n",
      "The hyperbolic cosine value of complex number is : (0.8337300251311491+0.9888977057628651j)\n",
      "The hyperbolic tangent value of complex number is : (1.0839233273386946+0.2717525853195118j)\n",
      "\n",
      "\n",
      "The inverse hyperbolic sine value of complex number is : (1.0612750619050357+0.6662394324925153j)\n",
      "The inverse hyperbolic cosine value of complex number is : (1.0612750619050357+0.9045568943023813j)\n",
      "The inverse hyperbolic tangent value of complex number is : (0.40235947810852507+1.0172219678978514j)\n"
     ]
    }
   ],
   "source": [
    "# Python code to display Some functions\n",
    "\n",
    "import cmath\n",
    "\n",
    "# Initializing real numbers \n",
    "x = 1.0\n",
    "   \n",
    "y = 1.0\n",
    "  \n",
    "# converting x and y into complex number z \n",
    "z = complex(x,y); \n",
    "\n",
    "\n",
    "# printing sine of the complex number \n",
    "print (\"The sine value of complex number is : \",end=\"\") \n",
    "print (cmath.sin(z)) \n",
    "  \n",
    "# printing cosine of the complex number \n",
    "print (\"The cosine value of complex number is : \",end=\"\") \n",
    "print (cmath.cos(z)) \n",
    "  \n",
    "# printing tangent of the complex number \n",
    "print (\"The tangent value of complex number is : \",end=\"\") \n",
    "print (cmath.tan(z))\n",
    "\n",
    "print (\"\\n\")\n",
    "  \n",
    "# printing arc sine of the complex number \n",
    "print (\"The arc sine value of complex number is : \",end=\"\") \n",
    "print (cmath.asin(z)) \n",
    "  \n",
    "# printing arc cosine of the complex number \n",
    "print (\"The arc cosine value of complex number is : \",end=\"\") \n",
    "print (cmath.acos(z)) \n",
    "  \n",
    "# printing arc tangent of the complex number \n",
    "print (\"The arc tangent value of complex number is : \",end=\"\") \n",
    "print (cmath.atan(z))\n",
    "\n",
    "print (\"\\n\")\n",
    "\n",
    "# printing hyperbolic sine of the complex number \n",
    "print (\"The hyperbolic sine value of complex number is : \",end=\"\") \n",
    "print (cmath.sinh(z)) \n",
    "  \n",
    "# printing hyperbolic cosine of the complex number \n",
    "print (\"The hyperbolic cosine value of complex number is : \",end=\"\") \n",
    "print (cmath.cosh(z)) \n",
    "  \n",
    "# printing hyperbolic tangent of the complex number \n",
    "print (\"The hyperbolic tangent value of complex number is : \",end=\"\") \n",
    "print (cmath.tanh(z)) \n",
    "\n",
    "print (\"\\n\")\n",
    "\n",
    "# printing inverse hyperbolic sine of the complex number \n",
    "print (\"The inverse hyperbolic sine value of complex number is : \",end=\"\") \n",
    "print (cmath.asinh(z)) \n",
    "  \n",
    "# printing inverse hyperbolic cosine of the complex number \n",
    "print (\"The inverse hyperbolic cosine value of complex number is : \",end=\"\") \n",
    "print (cmath.acosh(z)) \n",
    "  \n",
    "# printing inverse hyperbolic tangent of the complex number \n",
    "print (\"The inverse hyperbolic tangent value of complex number is : \",end=\"\") \n",
    "print (cmath.atanh(z)) "
   ]
  },
  {
   "cell_type": "code",
   "execution_count": null,
   "metadata": {},
   "outputs": [],
   "source": [
    "     ###########    #########    Functions under Random module    ############     ############\n",
    "    \n",
    " =>  We can generate random numbers by using the random module.\n",
    "\n",
    " =>  These are pseudo-random number as the sequence of number generated depends on the seed.\n",
    "\n",
    " =>  If the seeding value is same, the sequence will be the same. \n",
    "       For example, if you use 2 as the seeding value, you will always see the following sequence."
   ]
  },
  {
   "cell_type": "code",
   "execution_count": 10,
   "metadata": {},
   "outputs": [
    {
     "name": "stdout",
     "output_type": "stream",
     "text": [
      "0\n",
      "0.3610574739836072\n",
      "16.908361566044373\n",
      "hello\n"
     ]
    }
   ],
   "source": [
    "# importing built in module random \n",
    "import random \n",
    "  \n",
    "# printing random integer between 0 and 5 \n",
    "print (random.randint(0, 5))  \n",
    "  \n",
    "# print random floating point number between 0 and 1 \n",
    "print (random.random())  \n",
    "  \n",
    "# random number between 0 and 100 \n",
    "print (random.random() * 100) \n",
    "  \n",
    "List = [1, 4, True, 800, \"python\", 27, \"hello\"] \n",
    "  \n",
    "# using choice function in random module for choosing  \n",
    "# a random element from a set such as a list \n",
    "print (random.choice(List)) "
   ]
  },
  {
   "cell_type": "markdown",
   "metadata": {},
   "source": [
    "<img src=\"images/random1.png\">"
   ]
  },
  {
   "cell_type": "markdown",
   "metadata": {},
   "source": [
    "<img src=\"images/random2.png\">"
   ]
  },
  {
   "cell_type": "markdown",
   "metadata": {},
   "source": [
    "<img src=\"images/random3.png\">"
   ]
  },
  {
   "cell_type": "code",
   "execution_count": null,
   "metadata": {},
   "outputs": [],
   "source": [
    "    ##########    #########    Some functions under random module   ############    #############\n",
    "    \n",
    " =>  choice() :- This function is used to generate 1 random number from a container.\n",
    "    \n",
    " =>   randrange(beg, end, step) :- This function is also used to generate random number but within a range \n",
    "                                    specified in its arguments. \n",
    "        \n",
    "          => This function takes 3 arguments, beginning number (included in generation),\n",
    "               last number (excluded in generation) and step ( to skip numbers in range while selecting).\n",
    "                \n",
    " =>  random() :- This number is used to generate a float random number less than 1 and greater or equal to 0.\n",
    "\n",
    " =>  seed() :- This function maps a particular random number with the seed argument mentioned. \n",
    "                 All random numbers called after the seeded value returns the mapped number.\n",
    "        \n",
    " =>  shuffle() :- This function is used to shuffle the entire list to randomly arrange them.\n",
    "\n",
    " =>  uniform(a, b) :- This function is used to generate a floating point random number between the numbers\n",
    "                       mentioned in its arguments. \n",
    "        \n",
    "         => It takes two arguments, lower limit(included in generation) and upper limit\n",
    "                (not included in generation)."
   ]
  },
  {
   "cell_type": "code",
   "execution_count": null,
   "metadata": {},
   "outputs": [],
   "source": [
    "# Python code to demonstrate the working of \n",
    "# choice() and randrange() \n",
    "\n",
    "# importing \"random\" for random operations \n",
    "import random \n",
    "\n",
    "# using choice() to generate a random number from a \n",
    "# given list of numbers. \n",
    "print (\"A random number from list is : \",end=\"\") \n",
    "print (random.choice([1, 4, 8, 10, 3])) \n",
    "\n",
    "# using randrange() to generate in range from 20 \n",
    "# to 50. The last parameter 3 is step size to skip \n",
    "# three numbers when selecting. \n",
    "print (\"A random number from range is : \",end=\"\") \n",
    "print (random.randrange(20, 50, 3)) \n"
   ]
  },
  {
   "cell_type": "code",
   "execution_count": null,
   "metadata": {},
   "outputs": [],
   "source": [
    "# Python code to demonstrate the working of \n",
    "# random() and seed() \n",
    "\n",
    "# importing \"random\" for random operations \n",
    "import random \n",
    "\n",
    "# using random() to generate a random number \n",
    "# between 0 and 1 \n",
    "print (\"A random number between 0 and 1 is : \", end=\"\") \n",
    "print (random.random()) \n",
    "\n",
    "# using seed() to seed a random number \n",
    "random.seed(5) \n",
    "\n",
    "# printing mapped random number \n",
    "print (\"The mapped random number with 5 is : \", end=\"\") \n",
    "print (random.random()) \n",
    "\n",
    "# using seed() to seed different random number \n",
    "random.seed(7) \n",
    "\n",
    "# printing mapped random number \n",
    "print (\"The mapped random number with 7 is : \", end=\"\") \n",
    "print (random.random()) \n",
    "\n",
    "# using seed() to seed to 5 again \n",
    "random.seed(5) \n",
    "\n",
    "# printing mapped random number \n",
    "print (\"The mapped random number with 5 is : \",end=\"\") \n",
    "print (random.random()) \n",
    "\n",
    "# using seed() to seed to 7 again \n",
    "random.seed(7) \n",
    "\n",
    "# printing mapped random number \n",
    "print (\"The mapped random number with 7 is : \",end=\"\") \n",
    "print (random.random()) \n"
   ]
  },
  {
   "cell_type": "code",
   "execution_count": null,
   "metadata": {},
   "outputs": [],
   "source": [
    "# Python code to demonstrate the working of \n",
    "# shuffle() and uniform() \n",
    "\n",
    "# importing \"random\" for random operations \n",
    "import random \n",
    "\n",
    "# Initializing list \n",
    "li = [1, 4, 5, 10, 2] \n",
    "\n",
    "# Printing list before shuffling \n",
    "print (\"The list before shuffling is : \", end=\"\") \n",
    "for i in range(0, len(li)): \n",
    "\tprint (li[i], end=\" \") \n",
    "print(\"\\r\") \n",
    "\n",
    "# using shuffle() to shuffle the list \n",
    "random.shuffle(li) \n",
    "\n",
    "# Printing list after shuffling \n",
    "print (\"The list after shuffling is : \", end=\"\") \n",
    "for i in range(0, len(li)): \n",
    "\tprint (li[i], end=\" \") \n",
    "print(\"\\r\") \n",
    "\n",
    "# using uniform() to generate random floating number in range \n",
    "# prints number between 5 and 10 \n",
    "print (\"The random floating point number between 5 and 10 is : \",end=\"\") \n",
    "print (random.uniform(5,10)) \n"
   ]
  },
  {
   "cell_type": "code",
   "execution_count": null,
   "metadata": {},
   "outputs": [],
   "source": [
    "    ###########    #############    Datetime Module in Python   #############   #############\n",
    "    \n",
    " =>  In Python, date and time are not a data type of its own, but a module named datetime can be imported \n",
    "        to work with the date as well as time.\n",
    "    \n",
    " =>  Datetime module comes built into Python, so there is no need to install it externally.\n",
    "\n",
    " =>  Datetime module supplies classes to work with date and time. \n",
    "    \n",
    " =>  These classes provide a number of functions to deal with dates, times and time intervals. \n",
    "\n",
    " =>  Date and datetime are an object in Python, so when you manipulate them, you are actually \n",
    "        manipulating objects and not string or timestamps.\n",
    "        \n",
    " =>  The datetime classes are categorize into 6 main classes –\n",
    "\n",
    "  * date – An idealized naive date, assuming the current Gregorian calendar always was, and always will be,\n",
    "              in effect. Its attributes are year, month and day.\n",
    "\n",
    "  * time – An idealized time, independent of any particular day, assuming that every day has exactly\n",
    "              24*60*60 seconds. \n",
    "           Its attributes are hour, minute, second, microsecond, and tzinfo.\n",
    "\n",
    "  * datetime – Its a combination of date and time along with the attributes year, month, day, hour, minute, \n",
    "                 second, microsecond, and tzinfo.\n",
    "\n",
    "  * timedelta – A duration expressing the difference between two date, time, or datetime instances to \n",
    "                  microsecond resolution.\n",
    "\n",
    "  * tzinfo – It provides time zone information objects.\n",
    "\n",
    "  * timezone – A class that implements the tzinfo abstract base class as a fixed offset from the UTC \n",
    "                 (New in version 3.2).\n",
    "        \n",
    "        "
   ]
  },
  {
   "cell_type": "markdown",
   "metadata": {},
   "source": [
    "[For more about Datetime module, CLICK HERE ](https://www.geeksforgeeks.org/python-datetime-module-with-examples/)"
   ]
  },
  {
   "cell_type": "code",
   "execution_count": 11,
   "metadata": {},
   "outputs": [
    {
     "name": "stdout",
     "output_type": "stream",
     "text": [
      "1587894570.5496266\n",
      "1970-01-06\n"
     ]
    }
   ],
   "source": [
    "# importing built in module datetime \n",
    "import datetime \n",
    "from datetime import date \n",
    "import time \n",
    "  \n",
    "# Returns the number of seconds since the \n",
    "# Unix Epoch, January 1st 1970 \n",
    "print (time.time() ) \n",
    "  \n",
    "# Converts a number of seconds to a date object \n",
    "print (date.fromtimestamp(454554)) "
   ]
  },
  {
   "cell_type": "code",
   "execution_count": null,
   "metadata": {},
   "outputs": [],
   "source": []
  }
 ],
 "metadata": {
  "kernelspec": {
   "display_name": "Python 3",
   "language": "python",
   "name": "python3"
  },
  "language_info": {
   "codemirror_mode": {
    "name": "ipython",
    "version": 3
   },
   "file_extension": ".py",
   "mimetype": "text/x-python",
   "name": "python",
   "nbconvert_exporter": "python",
   "pygments_lexer": "ipython3",
   "version": "3.7.7"
  }
 },
 "nbformat": 4,
 "nbformat_minor": 4
}
