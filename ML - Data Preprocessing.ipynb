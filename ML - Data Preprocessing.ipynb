{
 "cells": [
  {
   "cell_type": "code",
   "execution_count": null,
   "metadata": {},
   "outputs": [],
   "source": [
    "      ################      ##########    Data Preprocessing for Machine  Learning    #############    ################"
   ]
  },
  {
   "cell_type": "code",
   "execution_count": null,
   "metadata": {},
   "outputs": [],
   "source": [
    "        ##############    ##########   Introduction to Data  in Machine Learning   ############     #############\n",
    "    \n",
    " =>  It can be any unprocessed fact, value, text, sound or picture that is not being interpreted and analyzed.\n",
    "\n",
    " =>  Data is the most important part of all Data Analytics, Machine Learning, Artificial Intelligence.\n",
    "    \n",
    " =>  Without data, we can’t train any model and all modern research and automation will go vain.\n",
    "\n",
    " =>  Big Enterprises are spending lots of money just to gather as much certain data as possible.\n",
    "    \n",
    "       * Example: Why did Facebook acquire WhatsApp by paying a huge price of $19 billion ?\n",
    " =>  The answer is very simple and logical – it is to have access to the users information that Facebook may not have \n",
    "     but WhatsApp will have. This information of their users is of paramount importance to Facebook as it will facilitate\n",
    "       the task of improvement in their services.\n",
    "        \n",
    " =>  INFORMATION : Data that has been interpreted and manipulated and has now some meaningful inference for the users.\n",
    "\n",
    " =>  KNOWLEDGE : Combination of inferred information, experiences, learning and insights. Results in awareness or\n",
    "                   concept building for an individual or organization."
   ]
  },
  {
   "cell_type": "markdown",
   "metadata": {},
   "source": [
    "<img src='images/data.png'>"
   ]
  },
  {
   "cell_type": "code",
   "execution_count": null,
   "metadata": {},
   "outputs": [],
   "source": [
    "      ############     ############    How we split data in Machine Learning ?    ############    #############\n",
    "\n",
    " => Training Data  ->  The part of data we use to train our model. \n",
    "                         This is the data which your model actually sees(both input and output) and learn from.\n",
    "\n",
    " => Validation Data  ->  The part of data which is used to do a frequent evaluation of model, fit on training dataset along\n",
    "                          with improving involved hyperparameters (initially set parameters before the model begins learning).\n",
    "                            This data plays it’s part when the model is actually training.\n",
    " \n",
    " => Testing Data  ->  Once our model is completely trained, testing data provides the unbiased evaluation.\n",
    "                        When we feed in the inputs of Testing data, our model will predict some values\n",
    "                            (without seeing actual output).\n",
    "                   \n",
    "                        After prediction, we evaluate our model by comparing it with actual output present in the testing data.\n",
    "                      \n",
    "                        This is how we evaluate and see how much our model has learned from the experiences feed in as \n",
    "                         training data, set at the time of training."
   ]
  },
  {
   "cell_type": "markdown",
   "metadata": {},
   "source": [
    "<img src='images/types-of-data.png'>"
   ]
  },
  {
   "cell_type": "code",
   "execution_count": null,
   "metadata": {},
   "outputs": [],
   "source": [
    "            ###############    ##########   Properties of Data    ############    ##############\n",
    "\n",
    " *  Volume : Scale of Data. With growing world population and technology at exposure, huge data is being generated each \n",
    "                 and every millisecond.\n",
    " *  Variety : Different forms of data – healthcare, images, videos, audio clippings.\n",
    "\n",
    " *  Velocity : Rate of data streaming and generation.\n",
    "\n",
    " *  Value : Meaningfulness of data in terms of information which researchers can infer from it.\n",
    "\n",
    " *  Veracity : Certainty and correctness in data we are working on."
   ]
  },
  {
   "cell_type": "code",
   "execution_count": null,
   "metadata": {},
   "outputs": [],
   "source": [
    "     ################    #############      Understanding Data Processing      #############     ################\n",
    "    \n",
    " =>  Data Processing is a task of converting data from a given form to a much more usable and desired form\n",
    "      i.e. making it more meaningful and informative. \n",
    "    \n",
    " =>  Using Machine Learning algorithms, mathematical modelling and statistical knowledge, this entire process can be automated.\n",
    "\n",
    " =>  The output of this complete process can be in any desired form like graphs, videos, charts, tables, images and many more,\n",
    "      depending on the task we are performing and the requirements of the machine. \n",
    "     This might seem to be simple but when it comes to really big organizations like Twitter, Facebook, Administrative bodies\n",
    "      like Paliament, UNESCO and health sector organisations, this entire process needs to be performed in\n",
    "          a very structured manner. So, the steps to perform are as follows:\n",
    "                \n",
    " * Collection of data ->  The most crucial step when starting with ML is to have data of good quality and accuracy.\n",
    "                          Data can be collected from any authenticated source like data.gov.in, Kaggle or UCI dataset \n",
    "                      repository.For example, while preparing for a competitive exam, students study from the best study\n",
    "                   material that they can access so that they learn the best to obtain the best results.\n",
    "                \n",
    "                In the same way, high-quality and accurate data will make the learning process of the model easier and better\n",
    "                 and at the time of testing, the model would yield state of the art results.\n",
    "\n",
    "                 A huge amount of capital, time and resources are consumed in collecting data. Organizations or researchers\n",
    "                   have to decide what kind of data they need to execute their tasks or research.\n",
    "\n",
    "                 Example: Working on the Facial Expression Recognizer, needs a large number of images having a variety of \n",
    "                           human expressions.Good data ensures that the results of the model are valid and can be trusted upon. \n",
    "                        \n",
    " * Preparation of Data  ->  The collected data can be in a raw form which can’t be directly fed to the machine. \n",
    "                              So, this is a process of collecting datasets from different sources, analyzing these datasets\n",
    "                            and then constructing a new dataset for further processing and exploration. \n",
    "                      This preparation can be performed either manually or from the automatic approach.\n",
    "                   Data can also be prepared in numeric forms also which would fasten the model’s learning.\n",
    "\n",
    "    Example: An image can be converted to a matrix of N X N dimensions, the value of each cell will indicate image pixel.\n",
    "        \n",
    " * Input  ->  Now the prepared data can be in the form that may not be machine-readable, so to convert this data to\n",
    "               readable form, some conversion algorithms are needed. For this task to be executed, high computation and\n",
    "                accuracy is needed.\n",
    "        \n",
    "     Example: Data can be collected through the sources like MNIST Digit data(images), twitter comments, audio files, \n",
    "                video clips.\n",
    "            \n",
    " * Processing of data  ->  This is the stage where algorithms and ML techniques are required to perform the instructions\n",
    "                              provided over a large volume of data with accuracy and optimal computation.\n",
    "    \n",
    " * Output  ->  In this stage, results are procured by the machine in a meaningful manner which can be inferred easily\n",
    "                  by the user. Output can be in the form of reports, graphs, videos, etc.\n",
    "    \n",
    " * Storage of Data  ->  This is the final step in which the obtained output and the data model data and all the useful \n",
    "                          information are saved for the future use.\n",
    " "
   ]
  },
  {
   "cell_type": "markdown",
   "metadata": {},
   "source": [
    "<img src='images/data-processing.png'>"
   ]
  },
  {
   "cell_type": "code",
   "execution_count": null,
   "metadata": {},
   "outputs": [],
   "source": [
    "        ###########    ############    Popular libraries in Machine learning   ##############     ##############\n",
    "    \n",
    " * Numpy  ->  Numerical python\n",
    "    \n",
    "    =>  NumPy is a very popular python library for large multi-dimensional array and matrix processing, with the help of \n",
    "          a large collection of high-level mathematical functions. It is very useful for fundamental scientific computations \n",
    "          in Machine Learning. It is particularly useful for linear algebra, Fourier transform, and random number capabilities.\n",
    "         High-end libraries like TensorFlow uses NumPy internally for manipulation of Tensors.\n",
    "        \n",
    " * Scipy  ->  Scientific python\n",
    "\n",
    "    =>  SciPy is a very popular library among Machine Learning enthusiasts as it contains different modules for optimization, \n",
    "         linear algebra, integration and statistics. There is a difference between the SciPy library and the SciPy stack. \n",
    "        The SciPy is one of the core packages that make up the SciPy stack. SciPy is also very useful for image manipulation.\n",
    "        \n",
    " * scikit-learn or sk-learn\n",
    "\n",
    "    =>  Skikit-learn is one of the most popular ML libraries for classical ML algorithms. \n",
    "        It is built on top of two basic Python libraries, viz., NumPy and SciPy. \n",
    "        Scikit-learn supports most of the supervised and unsupervised learning algorithms.\n",
    "        Scikit-learn can also be used for data-mining and data-analysis, which makes it a great tool who is starting out \n",
    "          with ML.\n",
    "\n",
    " *  pandas \n",
    "\n",
    "    =>  Pandas is a popular Python library for data analysis. It is not directly related to Machine Learning. \n",
    "        As we know that the dataset must be prepared before training. In this case, Pandas comes handy as it was developed \n",
    "         specifically for data extraction and preparation. It provides high-level data structures and wide variety tools\n",
    "            for data analysis. It provides many inbuilt methods for groping, combining and filtering data.  \n",
    "            \n",
    " =>  Other popular libraries are ->  [Matplotlib, plotly, saborn, bokeh, sweetviz, keras, pytorch, Theano, Tensorflow]"
   ]
  },
  {
   "cell_type": "code",
   "execution_count": null,
   "metadata": {},
   "outputs": [],
   "source": [
    "       ##########    ################  Scikit Learn Introduction and installation   ############    ##################\n",
    "    \n",
    " =>  Scikit-learn (formerly scikits.learn and also known as sklearn) is a free software machine learning library for\n",
    "         the Python programming language. It features various classification, regression and clustering algorithms including \n",
    "       support vector machines, random forests, gradient boosting, k-means and DBSCAN, and is designed to interoperate\n",
    "         with the Python numerical and scientific libraries NumPy and SciPy  .\n",
    "            \n",
    " =>  Scikit-learn is largely written in Python, and uses numpy extensively for high-performance linear algebra and\n",
    "       array operations. Furthermore, some core algorithms are written in Cython to improve performance.\n",
    "      Support vector machines are implemented by a Cython wrapper around LIBSVM; \n",
    "        logistic regression and linear support vector machines by a similar wrapper around LIBLINEAR.\n",
    "        In such cases, extending these methods with Python may not be possible.\n",
    "\n",
    " =>  Scikit-learn integrates well with many other Python libraries, such as matplotlib and plotly for plotting, \n",
    "           numpy for array vectorization, pandas dataframes, scipy, and other.\n",
    "  \n",
    "          #############    ############   Installation of scikit learn    ############   ###############\n",
    "    \n",
    "     >>>  pip install -U scikit-learn       #   Installing Sk-learn through pip"
   ]
  },
  {
   "cell_type": "code",
   "execution_count": null,
   "metadata": {},
   "outputs": [],
   "source": [
    "       #############    ##############    Create Test DataSets using Sklearn    ###############     ##############\n",
    "    \n",
    " =>  Python’s Sklearn library provides a great sample dataset generator which will help you to create your own custom dataset.\n",
    "         It’s fast and very easy to use. Following are the types of samples it provides.\n",
    "\n",
    " =>  For all the above methods you need to import sklearn.datasets.samples_generator."
   ]
  },
  {
   "cell_type": "code",
   "execution_count": 3,
   "metadata": {},
   "outputs": [
    {
     "name": "stderr",
     "output_type": "stream",
     "text": [
      "C:\\Anaconda\\lib\\site-packages\\sklearn\\utils\\deprecation.py:143: FutureWarning: The sklearn.datasets.samples_generator module is  deprecated in version 0.22 and will be removed in version 0.24. The corresponding classes / functions should instead be imported from sklearn.datasets. Anything that cannot be imported from sklearn.datasets is now part of the private API.\n",
      "  warnings.warn(message, FutureWarning)\n"
     ]
    },
    {
     "data": {
      "image/png": "[encoded data removed]",
      "text/plain": [
       "<Figure size 432x288 with 1 Axes>"
      ]
     },
     "metadata": {},
     "output_type": "display_data"
    },
    {
     "data": {
      "text/plain": [
       "<Figure size 432x288 with 0 Axes>"
      ]
     },
     "metadata": {},
     "output_type": "display_data"
    }
   ],
   "source": [
    "# importing libraries \n",
    "# matplotlib for ploting \n",
    "from matplotlib import pyplot as plt \n",
    "from matplotlib import style \n",
    "\n",
    "# sklearn.datasets.make_blobs\n",
    "\n",
    "# Creating Test DataSets using sklearn.datasets.make_blobs \n",
    "from sklearn.datasets.samples_generator import make_blobs \n",
    "from matplotlib import pyplot as plt \n",
    "from matplotlib import style \n",
    "\n",
    "style.use(\"fivethirtyeight\") \n",
    "\n",
    "X, y = make_blobs(n_samples = 100, centers = 3, \n",
    "\t\t\tcluster_std = 1, n_features = 2) \n",
    "\n",
    "plt.scatter(X[:, 0], X[:, 1], s = 40, color = 'g') \n",
    "plt.xlabel(\"X\") \n",
    "plt.ylabel(\"Y\") \n",
    "\n",
    "plt.show() \n",
    "plt.clf() \n"
   ]
  },
  {
   "cell_type": "code",
   "execution_count": 6,
   "metadata": {},
   "outputs": [
    {
     "data": {
      "image/png": "[encoded data removed]",
      "text/plain": [
       "<Figure size 432x288 with 1 Axes>"
      ]
     },
     "metadata": {},
     "output_type": "display_data"
    },
    {
     "data": {
      "text/plain": [
       "<Figure size 432x288 with 0 Axes>"
      ]
     },
     "metadata": {},
     "output_type": "display_data"
    }
   ],
   "source": [
    "# sklearn.datasets.make_circle\n",
    "# Creating Test DataSets using sklearn.datasets.make_circles \n",
    "from sklearn.datasets.samples_generator import make_circles \n",
    "from matplotlib import pyplot as plt \n",
    "from matplotlib import style \n",
    "\n",
    "style.use(\"fivethirtyeight\") \n",
    "\n",
    "X, y = make_circles(n_samples = 100, noise = 0.02) \n",
    "plt.scatter(X[:, 0], X[:, 1], s = 40, color ='g') \n",
    "plt.xlabel(\"X\") \n",
    "plt.ylabel(\"Y\") \n",
    "\n",
    "plt.show() \n",
    "plt.clf() \n"
   ]
  },
  {
   "cell_type": "code",
   "execution_count": null,
   "metadata": {},
   "outputs": [],
   "source": [
    "        #############    ##############    Generate Test DataSets using Sklearn    ###############     ##############\n",
    "    \n",
    " =>  Whenever we think of Machine Learning, the first thing that comes to our mind is a dataset.\n",
    "      While there are many datasets that you can find on websites such as Kaggle, sometimes it is useful to extract data\n",
    "       on your own and generate your own dataset.\n",
    "        \n",
    " =>  Generating your own dataset gives you more control over the data and allows you to train your machine learning model.\n",
    "\n",
    " =>  In this article, we will generate random datasets using the Numpy library in Python.\n",
    "    \n",
    "    \n",
    "      ############   ##########   Normal distribution in Machine Learning    ############   ################\n",
    "        \n",
    " =>  In probability theory, normal or Gaussian distribution is a very common continuous probability distribution\n",
    "       that is symmetric about the mean, showing that data near the mean are more frequent in occurrence than data far\n",
    "        from the mean. Normal distributions used in statistics and are often used to represent real-valued random variables.\n",
    "\n",
    " =>  The normal distribution is the most common type of distribution in statistical analyses. \n",
    "\n",
    " =>  The standard normal distribution has two parameters: the mean and the standard deviation. \n",
    "      The mean is the central tendency of the distribution and the standard deviation is a measure of variability. \n",
    "       It defines the width of the normal distribution.\n",
    "        \n",
    " =>  The standard deviation determines how far away from the mean the values tend to fall and represents the typical distance\n",
    "          between the observations and the average.\n",
    "    \n",
    " => It fits many natural phenomena, like as heights, blood pressure, measurement error, and IQ scores follow the normal \n",
    "        distribution."
   ]
  },
  {
   "cell_type": "markdown",
   "metadata": {},
   "source": [
    "<img src='images/normal.png'>"
   ]
  },
  {
   "cell_type": "code",
   "execution_count": 9,
   "metadata": {},
   "outputs": [
    {
     "data": {
      "image/png": "[encoded data removed]",
      "text/plain": [
       "<Figure size 432x288 with 1 Axes>"
      ]
     },
     "metadata": {},
     "output_type": "display_data"
    }
   ],
   "source": [
    "# importing libraries \n",
    "import pandas as pd \n",
    "import numpy as np \n",
    "import matplotlib.pyplot as plt \n",
    "\n",
    "# initialize the parameters for the normal \n",
    "# distribution, namely mean and std. \n",
    "# deviation \n",
    "\n",
    "# defining the mean \n",
    "mu = 0.5\n",
    "# defining the standard deviation \n",
    "sigma = 0.1\n",
    "\n",
    "# The random module uses the seed value as a base \n",
    "# to generate a random number. If seed value is not \n",
    "# present, it takes the system’s current time. \n",
    "np.random.seed(0) \n",
    "\n",
    "# define the x co-ordinates \n",
    "X = np.random.normal(mu, sigma, (395, 1)) \n",
    "\n",
    "# define the y co-ordinates \n",
    "Y = np.random.normal(mu * 2, sigma * 3, (395, 1)) \n",
    "\n",
    "# plot a graph \n",
    "plt.scatter(X, Y, color = 'g') \n",
    "plt.show() \n"
   ]
  },
  {
   "cell_type": "code",
   "execution_count": null,
   "metadata": {},
   "outputs": [],
   "source": [
    "             #############  ############    Another example   ############    ##############\n",
    "\n",
    " =>  We will generate a dataset with 4 columns. Each column in the dataset represents a feature. \n",
    "     The 5th column of the dataset is the output label. \n",
    "    \n",
    " =>  It varies between 0-3. This dataset can be used for training a classifier such as a logistic regression classifier, \n",
    "          neural network classifier, Support vector machines, etc."
   ]
  },
  {
   "cell_type": "code",
   "execution_count": 10,
   "metadata": {},
   "outputs": [
    {
     "data": {
      "image/png": "[encoded data removed]",
      "text/plain": [
       "<Figure size 432x288 with 4 Axes>"
      ]
     },
     "metadata": {},
     "output_type": "display_data"
    }
   ],
   "source": [
    "# importing libraries \n",
    "import numpy as np \n",
    "import pandas as pd \n",
    "import math \n",
    "import random \n",
    "import matplotlib.pyplot as plt \n",
    "\n",
    "# defining the columns using normal distribution \n",
    "\n",
    "# column 1 \n",
    "point1 = abs(np.random.normal(1, 12, 100)) \n",
    "# column 2 \n",
    "point2 = abs(np.random.normal(2, 8, 100)) \n",
    "# column 3 \n",
    "point3 = abs(np.random.normal(3, 2, 100)) \n",
    "# column 4 \n",
    "point4 = abs(np.random.normal(10, 15, 100)) \n",
    "\n",
    "# x contains the features of our dataset \n",
    "# the points are concatenated horizontally \n",
    "# using numpy to form a feature vector. \n",
    "x = np.c_[point1, point2, point3, point4] \n",
    "\n",
    "# the output labels vary from 0-3 \n",
    "y = [int(np.random.randint(0, 4)) for i in range(100)] \n",
    "\n",
    "# defining a pandas data frame to save \n",
    "# the data for later use \n",
    "data = pd.DataFrame() \n",
    "\n",
    "# defining the columns of the dataset \n",
    "data['col1'] = point1 \n",
    "data['col2'] = point2 \n",
    "data['col3'] = point3 \n",
    "data['col4'] = point4 \n",
    "\t\n",
    "# plotting the various features (x) \n",
    "# against the labels (y). \n",
    "plt.subplot(2, 2, 1) \n",
    "plt.title('col1') \n",
    "plt.scatter(y, point1, color ='r', label ='col1') \n",
    "\t\n",
    "plt.subplot(2, 2, 2) \n",
    "plt.title('Col2') \n",
    "plt.scatter(y, point2, color = 'g', label ='col2') \n",
    "\t\n",
    "plt.subplot(2, 2, 3) \n",
    "plt.title('Col3') \n",
    "plt.scatter(y, point3, color ='b', label ='col3') \n",
    "\t\n",
    "plt.subplot(2, 2, 4) \n",
    "plt.title('Col4') \n",
    "plt.scatter(y, point4, color ='y', label ='col4') \n",
    "\t\n",
    "# saving the graph \n",
    "plt.savefig('data_visualization.jpg')\t\t \n",
    "\n",
    "# displaying the graph \n",
    "plt.show() \n"
   ]
  },
  {
   "cell_type": "code",
   "execution_count": null,
   "metadata": {},
   "outputs": [],
   "source": [
    "          ##############    ############    Machine learning  Classification   ##############    ##############\n",
    "    \n",
    " =>  Machine learning implementations are classified into three major categories, depending on the nature\n",
    "       of the learning “signal” or “response” available to a learning system.\n",
    "    \n",
    "    * Supervised Learning      * Unsupervised Learning      *  Reinforcement learning     * Semi-Supervised learning\n",
    "    \n",
    "            ##############    ############    Supervised  Learning   ##############    ##############\n",
    "    \n",
    " =>  When an algorithm learns from example data and associated target responses that can consist of numeric values or \n",
    "      string labels, such as classes or tags, in order to later predict the correct response when posed with new examples\n",
    "       comes under the category of Supervised learning.\n",
    "\n",
    " =>  This approach is indeed similar to human learning under the supervision of a teacher.\n",
    "     The teacher provides good examples for the student to memorize, and the student then derives general rules\n",
    "      from these specific examples.\n",
    "        \n",
    "        \n",
    "          ##############    ############    Unsupervised  Learning   ##############    ##############\n",
    "            \n",
    " =>  Whereas when an algorithm learns from plain examples without any associated response, leaving to the algorithm\n",
    "      to determine the data patterns on its own. This type of algorithm tends to restructure the data into something else, \n",
    "        such as new features that may represent a class or a new series of un-correlated values.\n",
    "        \n",
    " =>  They are quite useful in providing humans with insights into the meaning of data and new useful inputs to \n",
    "        supervised machine learning algorithms.\n",
    "\n",
    " =>  As a kind of learning, it resembles the methods humans use to figure out that certain objects or events are from \n",
    "       the same class, such as by observing the degree of similarity between objects.\n",
    "     \n",
    " =>  Some recommendation systems that you find on the web in the form of marketing automation are based on it.\n",
    "\n",
    "\n",
    "          ##############    ############   Reinforcement Learning   ##############    ##############\n",
    "    \n",
    " =>  When you present the algorithm with examples that lack labels, as in unsupervised learning.\n",
    "     \n",
    " =>  However, you can accompany an example with positive or negative feedback according to the solution the \n",
    "       algorithm proposes comes under the category of Reinforcement learning, which is connected to applications for which\n",
    "       the algorithm must make decisions (so the product is prescriptive, not just descriptive, \n",
    "       as in unsupervised learning), and the decisions bear consequences.\n",
    "            \n",
    " =>  In the human world, it is just like learning by trial and error.\n",
    " =>  Errors help you learn because they have a penalty added (cost, loss of time, regret, pain, and so on), teaching you\n",
    "      that a certain course of action is less likely to succeed than others.\n",
    "    \n",
    " =>  An interesting example of reinforcement learning occurs when computers learn to play video games by themselves.\n",
    "      In this case, an application presents the algorithm with examples of specific situations, \n",
    "        such as having the gamer stuck in a maze while avoiding an enemy. \n",
    "     \n",
    "      The application lets the algorithm know the outcome of actions it takes, and learning occurs while trying to avoid \n",
    "        what it discovers to be dangerous and to pursue survival. \n",
    "        \n",
    " =>  You can have a look at how the company Google DeepMind has created a reinforcement learning program that plays\n",
    "       old Atari’s video games. When watching the video, notice how the program is initially clumsy and unskilled \n",
    "       but steadily improves with training until it becomes a champion.\n",
    "        \n",
    "         ##############    ############    Semi-Supervised Learning   ##############    ##############\n",
    "        \n",
    " =>  Where an incomplete training signal is given: a training set with some (often many) of the target outputs missing. \n",
    "    \n",
    " =>  There is a special case of this principle known as Transduction where the entire set of problem instances is known \n",
    "         at learning time, except that part of the targets are missing.     "
   ]
  },
  {
   "cell_type": "markdown",
   "metadata": {},
   "source": [
    "[Generating dataset on GCP Cloud](https://www.geeksforgeeks.org/using-google-cloud-function-to-generate-data-for-machine-learning-model/?ref=rp)"
   ]
  },
  {
   "cell_type": "code",
   "execution_count": null,
   "metadata": {},
   "outputs": [],
   "source": [
    "      ###############    ###########    Data Preprocessing for Machine learning in Python   ###########   ################\n",
    "    \n",
    " • Pre-processing refers to the transformations applied to our data before feeding it to the algorithm.\n",
    "\n",
    " • Data Preprocessing is a technique that is used to convert the raw data into a clean data set.\n",
    "    In other words, whenever the data is gathered from different sources it is collected in raw format which is not feasible \n",
    "       for the analysis.\n",
    "        \n",
    "        #################    ############    Need Of Data  Preprocessing    #############     ##############\n",
    "        \n",
    " •  For achieving better results from the applied model in Machine Learning projects the format of the data has to be in\n",
    "      a proper manner. \n",
    " \n",
    " *   Some specified Machine Learning model needs information in a specified format, for example, Random Forest algorithm does not\n",
    "      support null values, therefore to execute random forest algorithm null values have to be managed from the original \n",
    "        raw data set.\n",
    "\n",
    " • Another aspect is that data set should be formatted in such a way that more than one Machine Learning and Deep Learning\n",
    "         algorithms are executed in one data set, and best out of them is chosen."
   ]
  },
  {
   "cell_type": "markdown",
   "metadata": {},
   "source": [
    "<img src='images/preprocess.png'>"
   ]
  },
  {
   "cell_type": "code",
   "execution_count": null,
   "metadata": {},
   "outputs": [],
   "source": [
    "   ##########   ############  3 Different Data Preprocessing techniques for Machine learning   ###########   ##############\n",
    "    \n",
    "            #############   #############   Scaling of data   ############    ############## \n",
    "        \n",
    " •  When our data is comprised of attributes with varying scales, many machine learning algorithms can benefit from rescaling \n",
    "      the attributes to all have the same scale.\n",
    "\n",
    " •  This is useful for optimization algorithms in used in the core of machine learning algorithms like gradient descent.\n",
    "\n",
    " •  It is also useful for algorithms that weight inputs like regression and neural networks and algorithms that use distance \n",
    "        measures like K-Nearest Neighbors.\n",
    "\n",
    " •  We can rescale your data using scikit-learn using the MinMaxScaler.\n",
    "\n",
    " =>  After rescaling see that all of the values are in the range between 0 and 1."
   ]
  },
  {
   "cell_type": "code",
   "execution_count": null,
   "metadata": {},
   "outputs": [],
   "source": [
    "# Python code to Rescale data (between 0 and 1) \n",
    "import pandas \n",
    "import scipy \n",
    "import numpy \n",
    "from sklearn.preprocessing import MinMaxScaler \n",
    "url = \"https://archive.ics.uci.edu/ml/machine-learning-databases/pima-indians-diabetes/pima-indians-diabetes.data\"\n",
    "names = ['preg', 'plas', 'pres', 'skin', 'test', 'mass', 'pedi', 'age', 'class'] \n",
    "dataframe = pandas.read_csv(url, names=names) \n",
    "array = dataframe.values \n",
    "\n",
    "# separate array into input and output components \n",
    "X = array[:,0:8] \n",
    "Y = array[:,8] \n",
    "scaler = MinMaxScaler(feature_range=(0, 1)) \n",
    "rescaledX = scaler.fit_transform(X) \n",
    "\n",
    "# summarize transformed data \n",
    "numpy.set_printoptions(precision=3) \n",
    "print(rescaledX[0:5,:]) \n"
   ]
  },
  {
   "cell_type": "code",
   "execution_count": null,
   "metadata": {},
   "outputs": [],
   "source": [
    "                        ###############     Binarize Data (Make Binary)     ###################\n",
    "    \n",
    " •  We can transform our data using a binary threshold and all values above the threshold are marked 1 and all equal to\n",
    "        or below are marked as 0.\n",
    "\n",
    " • This is called binarizing your data or threshold your data. It can be useful when you have probabilities that you want\n",
    "      to make crisp values and it is also useful when feature engineering and you want to add new features that indicate \n",
    "        something meaningful.\n",
    "\n",
    " • We can create new binary attributes in Python using scikit-learn with the Binarizer class.\n",
    "\n",
    " =>  We can see that all values equal or less than 0 are marked 0 and all of those above 0 are marked 1."
   ]
  },
  {
   "cell_type": "code",
   "execution_count": null,
   "metadata": {},
   "outputs": [],
   "source": [
    "# Python code for binarization \n",
    "from sklearn.preprocessing import Binarizer \n",
    "import pandas \n",
    "import numpy \n",
    "url = \"https://archive.ics.uci.edu/ml/machine-learning-databases/pima-indians-diabetes/pima-indians-diabetes.data\"\n",
    "names = ['preg', 'plas', 'pres', 'skin', 'test', 'mass', 'pedi', 'age', 'class'] \n",
    "dataframe = pandas.read_csv(url, names=names) \n",
    "array = dataframe.values \n",
    "\n",
    "# separate array into input and output components \n",
    "X = array[:,0:8] \n",
    "Y = array[:,8] \n",
    "binarizer = Binarizer(threshold=0.0).fit(X) \n",
    "binaryX = binarizer.transform(X) \n",
    "\n",
    "# summarize transformed data \n",
    "numpy.set_printoptions(precision=3) \n",
    "print(binaryX[0:5,:]) \n"
   ]
  },
  {
   "cell_type": "code",
   "execution_count": null,
   "metadata": {},
   "outputs": [],
   "source": [
    "             ###########   ############    Standardize Data    ###############    ##############\n",
    "\n",
    " •  Standardization is a useful technique to transform attributes with a Gaussian distribution and differing means and \n",
    "         standard deviations to a standard Gaussian distribution with a mean of 0 and a standard deviation of 1.\n",
    " \n",
    " •  We can standardize data using scikit-learn with the StandardScaler class.\n",
    "    \n",
    " =>  The values for each attribute now have a mean value of 0 and a standard deviation of 1.\n",
    "\n",
    " =>  For more info about standard class,\n",
    "         visit -> [ https://scikit-learn.org/stable/modules/generated/sklearn.preprocessing.StandardScaler.html]"
   ]
  },
  {
   "cell_type": "code",
   "execution_count": null,
   "metadata": {},
   "outputs": [],
   "source": [
    "# Python code to Standardize data (0 mean, 1 stdev) \n",
    "from sklearn.preprocessing import StandardScaler \n",
    "import pandas \n",
    "import numpy \n",
    "url = \"https://archive.ics.uci.edu/ml/machine-learning-databases/pima-indians-diabetes/pima-indians-diabetes.data\"\n",
    "names = ['preg', 'plas', 'pres', 'skin', 'test', 'mass', 'pedi', 'age', 'class'] \n",
    "dataframe = pandas.read_csv(url, names=names) \n",
    "array = dataframe.values \n",
    "\n",
    "# separate array into input and output components \n",
    "X = array[:,0:8] \n",
    "Y = array[:,8] \n",
    "scaler = StandardScaler().fit(X) \n",
    "rescaledX = scaler.transform(X) \n",
    "\n",
    "# summarize transformed data \n",
    "numpy.set_printoptions(precision=3) \n",
    "print(rescaledX[0:5,:]) \n"
   ]
  },
  {
   "cell_type": "code",
   "execution_count": null,
   "metadata": {},
   "outputs": [],
   "source": [
    "            #############   #############   Data cleansing in Machine learning    ##############   #############\n",
    "    \n",
    " =>  Data cleaning is one of the important parts of machine learning that plays a significant part in building a model\n",
    "        and is one of those things that everyone does but no one really talks about.\n",
    "     \n",
    " =>  It surely isn’t the fanciest part of machine learning and at the same time, there aren’t any hidden tricks or secrets \n",
    "         to uncover. However, proper data cleaning can make or break your project.\n",
    "    \n",
    " =>  Professional data scientists usually spend a very large portion of their time on this step because of the belief \n",
    "          that, “Better data beats fancier algorithms”.\n",
    "\n",
    " =>  If we have a well-cleaned dataset, we can get desired results even with a very simple algorithm, which can prove very\n",
    "        beneficial at times.\n",
    "\n",
    " =>  Obviously, different types of data will require different types of cleaning. However, this systematic approach can always \n",
    "         serve as a good starting point."
   ]
  },
  {
   "cell_type": "markdown",
   "metadata": {},
   "source": [
    "#    Steps in Data cleansing Process   \n",
    "\n",
    "<img src='images/datacleaning.jpg'>"
   ]
  },
  {
   "cell_type": "code",
   "execution_count": null,
   "metadata": {},
   "outputs": [],
   "source": [
    "         ##########   ############   Removal of unwanted observations    #############    ##########\n",
    "    \n",
    " =>  This includes deleting duplicate/ redundant or irrelevant values from your dataset.\n",
    "    \n",
    " =>  Duplicate observations most frequently arise during data collection and Irrelevant observations are those that don’t\n",
    "       actually fit the specific problem that you’re trying to solve.\n",
    "\n",
    " =>  Redundant observations alter the efficiency by a great extent as the data repeats and may add towards the correct side\n",
    "         or towards the incorrect side, thereby producing unfaithful results.\n",
    "\n",
    " =>  Irrelevant observations are any type of data that is of no use to us and can be removed directly."
   ]
  },
  {
   "cell_type": "code",
   "execution_count": null,
   "metadata": {},
   "outputs": [],
   "source": [
    "          ############     ##########    Fixing Structural errors  of a Dataset   #############   ##############\n",
    "    \n",
    " =>  The errors that arise during measurement, transfer of data or other similar situations are called structural errors.\n",
    "\n",
    " =>  Structural errors include typos in the name of features, same attribute with different name, mislabeled classes,\n",
    "        i.e. separate classes that should really be the same or inconsistent capitalization.\n",
    "        \n",
    " =>  For example, the model will treat America and america as different classes or values, though they represent\n",
    "        the same value or red, yellow and red-yellow as different classes or attributes, though one class can be included\n",
    "        in other two classes.\n",
    "     So, these are some structural errors that make our model inefficient and gives poor quality results."
   ]
  },
  {
   "cell_type": "code",
   "execution_count": null,
   "metadata": {},
   "outputs": [],
   "source": [
    "     ###########    #############    Managing Unwanted outliers in dataset   #############    ##############\n",
    "\n",
    " =>  Outliers can cause problems with certain types of models. For example, linear regression models are less robust \n",
    "           to outliers than decision tree models.\n",
    "    \n",
    " =>  Generally, we should not remove outliers until we have a legitimate reason to remove them.\n",
    "\n",
    " =>  Sometimes, removing them improves performance, sometimes not , so one must have a good reason to remove the outlier, \n",
    "         such as suspicious measurements that are unlikely to be the part of real data."
   ]
  },
  {
   "cell_type": "code",
   "execution_count": null,
   "metadata": {},
   "outputs": [],
   "source": [
    "       ###########    ##############   Handling missing data in dataset    ##########   #############\n",
    "    \n",
    " =>  Missing data is a deceptively tricky issue in machine learning. We cannot just ignore or remove the missing observation.\n",
    "       and must be handled carefully as they can be an indication of something important.\n",
    "       \n",
    " =>  The two most common ways to deal with missing data are:\n",
    "    \n",
    "        *************     ***********  1.  Dropping observations with missing values    ************    ************\n",
    "\n",
    " =>  Dropping missing values is sub-optimal because when you drop observations, you drop information.\n",
    "\n",
    "     *  The fact that the value was missing may be informative in itself.\n",
    "    \n",
    "     *  Plus, in the real world, you often need to make predictions on new data even if some of the features are missing! .\n",
    "\n",
    "\n",
    "        *************     ***********  2.  Imputing the missing values from past observations    ************    ************\n",
    "        \n",
    " =>  Imputing missing values is sub-optimal because the value was originally missing but you filled it in, which always\n",
    "         leads to a loss in information, no matter how sophisticated your imputation method is.\n",
    "\n",
    "   *  Again, “missingness” is almost always informative in itself, and you should tell your algorithm if a value was missing.\n",
    "\n",
    "   *  Even if you build a model to impute your values, you’re not adding any real information. \n",
    "            You’re just reinforcing the patterns already provided by other features.\n",
    "        \n",
    "    \n",
    " =>  Both of these approaches are sub-optimal because dropping an observation means dropping information, \n",
    "       thereby reducing data and imputing values also is sub-optimal as we fil the values that were not present in the \n",
    "          actual dataset, which leads to a loss of information.\n",
    "        \n",
    " =>  Missing data is like missing a puzzle piece. If you drop it, that’s like pretending the puzzle slot isn’t there. \n",
    "      If you impute it, that’s like trying to squeeze in a piece from somewhere else in the puzzle.\n",
    "\n",
    "     So, missing data is always informative and indication of something important. And we must aware our algorithm of \n",
    "          missing data by flagging it. \n",
    "   \n",
    "     By using this technique of flagging and filling, you are essentially allowing the algorithm to estimate the optimal \n",
    "       constant for missingness, instead of just filling it in with the mean.\n",
    "        \n",
    "        \n",
    " =>  Conclusion  ->  So, we have discussed four different steps in data cleaning to make the data more reliable and to \n",
    "                        produce good results. After properly completing the Data Cleaning steps, we’ll have a robust dataset\n",
    "                     that avoids many of the most common pitfalls.\n",
    "                      This step should not be rushed as it proves very beneficial in the further process.\n",
    "\n",
    "            \n",
    "          ############    ##########    Some Data cleansing tools    #############     ##############\n",
    "\n",
    "    * Openrefine     * Trifacta Wrangler     * TIBCO Clarity     * Cloudingo      * IBM Infosphere Quality Stage"
   ]
  },
  {
   "cell_type": "code",
   "execution_count": null,
   "metadata": {},
   "outputs": [],
   "source": [
    "       ##############     ############   feature scaling  in Machine learning     ##############     ##############\n",
    "    \n",
    " =>  Feature Scaling is a technique to standardize the independent features present in the data in a fixed range. \n",
    "          It is performed during the data pre-processing.\n",
    "\n",
    " => Working : Given a data-set with features- Age, Salary, BHK Apartment with the data size of 5000 people, each having these\n",
    "                independent data features. Each data point is labeled as:\n",
    "            \n",
    "    * Class 1  ->  YES (means with the given Age, Salary, BHK Apartment feature value one can buy the property)\n",
    "    * Class 2  ->  NO (means with the given Age, Salary, BHK Apartment feature value one can’t buy the property).\n",
    "    \n",
    "    \n",
    " =>  Using dataset to train the model, one aims to build a model that can predict whether one can buy a property or\n",
    "        not with given feature values.\n",
    "      Once the model is trained, an N-dimensional (where N is the no. of features present in the dataset) graph with\n",
    "         data points from the given dataset, can be created. The figure given below is an ideal representation of the model.\n",
    "            \n",
    " =>  As shown in the figure, star data points belong to Class1 – Yes and circles represent."
   ]
  },
  {
   "cell_type": "markdown",
   "metadata": {},
   "source": [
    "<img src='images/Feature.jpg'>"
   ]
  },
  {
   "cell_type": "code",
   "execution_count": null,
   "metadata": {},
   "outputs": [],
   "source": [
    " => Class2 – No labels and the model gets trained using these data points. \n",
    "    \n",
    "     Now a new data point (diamond as shown in the figure) is given and it has different independent values for\n",
    "        the 3 features (Age, Salary, BHK Apartment) mentioned above. \n",
    "     The model has to predict whether this data point belongs to Yes or No.\n",
    "    \n",
    "       ############    ###########    Prediction of the class of new data point    #############    ##############\n",
    "\n",
    " =>  The model calculates the distance of this data point from the centroid of each class group.\n",
    "       Finally this data point will belong to that class, which will have a minimum centroid distance from it.\n",
    "\n",
    " =>  The distance can be calculated between centroid and data point using these methods -\n",
    "\n",
    "         *  Euclidean distance    *  Manhattan distance     *   Minkowski distance\n",
    "    "
   ]
  },
  {
   "cell_type": "code",
   "execution_count": null,
   "metadata": {},
   "outputs": [],
   "source": [
    "            ###############   ############   Euclidean Distance    ############     ###############\n",
    "\n",
    " =>  Euclidean Distance : It is the square-root of the sum of squares of differences between the coordinates \n",
    "                           (feature values – Age, Salary, BHK Apartment) of data point and centroid of each class.\n",
    "                               This formula is given by Pythagorean theorem.\n",
    "     \n",
    "     where x is Data Point value, y is Centroid value and k is no. of feature values, Example: given data set has k = 3"
   ]
  },
  {
   "cell_type": "markdown",
   "metadata": {},
   "source": [
    "<img src='images/euc.jpg'>"
   ]
  },
  {
   "cell_type": "code",
   "execution_count": null,
   "metadata": {},
   "outputs": [],
   "source": [
    "             ###############   ############   Manhattan  Distance    ############     ###############\n",
    "    \n",
    " =>   It is calculated as the sum of absolute differences between the coordinates (feature values) of data point \n",
    "         and centroid of each class."
   ]
  },
  {
   "cell_type": "markdown",
   "metadata": {},
   "source": [
    "<img src='images/man.jpg'>"
   ]
  },
  {
   "cell_type": "code",
   "execution_count": null,
   "metadata": {},
   "outputs": [],
   "source": [
    "            ###############   ############   Minkowski  Distance    ############     ###############\n",
    "    \n",
    " =>  Minkowski Distance : It is a generalization of above two methods. As shown in the figure, different values can be used\n",
    "                             for finding r."
   ]
  },
  {
   "cell_type": "markdown",
   "metadata": {},
   "source": [
    "<img src='images/mink.jpg'>"
   ]
  },
  {
   "cell_type": "code",
   "execution_count": null,
   "metadata": {},
   "outputs": [],
   "source": [
    "\n",
    " =>  If feature scaling is not done, then a machine learning algorithm tends to weigh greater values,\n",
    "      higher and consider smaller values as the lower values, regardless of the unit of the values.\n",
    "\n",
    " =>  Example: If an algorithm is not using feature scaling method then it can consider the value 3000 meter to be greater than\n",
    "      5 km but that’s actually not true and in this case, the algorithm will give wrong predictions. \n",
    "         So, we use Feature Scaling to bring all values to same magnitudes and thus, tackle this issue.\n",
    "            \n",
    "    ############    #############    Techniques to perform feature Scaling    ############   ##############\n",
    "    \n",
    "               *  Min-Max Normalization               *  Standarization\n",
    "        \n",
    " =>  Min-Max Normalization: This technique re-scales a feature or observation value with distribution value between 0 and 1.\n",
    "                               Look 1st image.\n",
    "                                \n",
    "    \n",
    " =>  Standardization: It is a very effective technique which re-scales a feature value so that it has distribution\n",
    "                       with 0 mean value and variance equals to 1. Look 2nd image"
   ]
  },
  {
   "cell_type": "markdown",
   "metadata": {},
   "source": [
    "<img src='images/min-max-normalisation.jpg'>\n",
    "<img src='images/standardisation.jpg'>"
   ]
  },
  {
   "cell_type": "code",
   "execution_count": 18,
   "metadata": {},
   "outputs": [
    {
     "name": "stdout",
     "output_type": "stream",
     "text": [
      "\n",
      "Original data values : \n",
      " [[4.4e+01 7.2e+04]\n",
      " [2.7e+01 4.8e+04]\n",
      " [3.0e+01 5.4e+04]\n",
      " [3.8e+01 6.1e+04]\n",
      " [4.0e+01     nan]\n",
      " [3.5e+01 5.8e+04]\n",
      " [    nan 5.2e+04]\n",
      " [4.8e+01 7.9e+04]\n",
      " [5.0e+01 8.3e+04]\n",
      " [3.7e+01 6.7e+04]]\n",
      "\n",
      "After min max Scaling : \n",
      " [[0.73913043 0.68571429]\n",
      " [0.         0.        ]\n",
      " [0.13043478 0.17142857]\n",
      " [0.47826087 0.37142857]\n",
      " [0.56521739        nan]\n",
      " [0.34782609 0.28571429]\n",
      " [       nan 0.11428571]\n",
      " [0.91304348 0.88571429]\n",
      " [1.         1.        ]\n",
      " [0.43478261 0.54285714]]\n",
      "\n",
      "After Standardisation : \n",
      " [[ 0.71993143  0.71101276]\n",
      " [-1.62367514 -1.36437583]\n",
      " [-1.21009751 -0.84552869]\n",
      " [-0.10722383 -0.24020701]\n",
      " [ 0.16849459         nan]\n",
      " [-0.52080146 -0.49963059]\n",
      " [        nan -1.01847774]\n",
      " [ 1.27136827  1.31633443]\n",
      " [ 1.54708669  1.66223253]\n",
      " [-0.24508304  0.27864014]]\n"
     ]
    }
   ],
   "source": [
    "# Python code explaining How to \n",
    "# perform Feature Scaling \n",
    "\n",
    "\"\"\" PART 1 \n",
    "\tImporting Libraries \"\"\"\n",
    "\n",
    "import numpy as np \n",
    "import matplotlib.pyplot as plt \n",
    "import pandas as pd \n",
    "\n",
    "# Sklearn library \n",
    "from sklearn import preprocessing \n",
    "\n",
    "\"\"\" PART 2 \n",
    "\tImporting Data \"\"\"\n",
    "\n",
    "data_set = pd.read_csv('files/Data_for_Missing_Values.csv') \n",
    "data_set.head() \n",
    "\n",
    "# here Features - Age and Salary columns \n",
    "# are taken using slicing \n",
    "# to handle values with varying magnitude \n",
    "x = data_set.iloc[:, 1:3].values \n",
    "print (\"\\nOriginal data values : \\n\", x) \n",
    "\n",
    "\n",
    "\"\"\" PART 4 \n",
    "\tHandling the missing values \"\"\"\n",
    "\n",
    "from sklearn import preprocessing \n",
    "\n",
    "\"\"\" MIN MAX SCALER \"\"\"\n",
    "\n",
    "min_max_scaler = preprocessing.MinMaxScaler(feature_range =(0, 1)) \n",
    "\n",
    "# Scaled feature \n",
    "x_after_min_max_scaler = min_max_scaler.fit_transform(x) \n",
    "\n",
    "print (\"\\nAfter min max Scaling : \\n\", x_after_min_max_scaler) \n",
    "\n",
    "\n",
    "\"\"\" Standardisation \"\"\"\n",
    "\n",
    "Standardisation = preprocessing.StandardScaler() \n",
    "\n",
    "# Scaled feature \n",
    "x_after_Standardisation = Standardisation.fit_transform(x) \n",
    "\n",
    "print (\"\\nAfter Standardisation : \\n\", x_after_Standardisation) \n"
   ]
  },
  {
   "cell_type": "code",
   "execution_count": null,
   "metadata": {},
   "outputs": [],
   "source": [
    "       #############    ############   Label encoding in Machine learning   #############    ###############  \n",
    "    \n",
    " =>  In machine learning, we usually deal with datasets which contains multiple labels in one or more than one columns.\n",
    " \n",
    " =>  These labels can be in the form of words or numbers. To make the data understandable or in human readable form,\n",
    "      the training data is often labeled in words.\n",
    "\n",
    " =>  Label Encoding refers to converting the labels into numeric form so as to convert it into the machine-readable form.\n",
    "     Machine learning algorithms can then decide in a better way on how those labels must be operated.\n",
    "     It is an important pre-processing step for the structured dataset in supervised learning.  \n",
    "        \n",
    " =>  Example :  Suppose we have a column Height in some dataset, then afyer applying  label encoding, the Height column is \n",
    "                   getting converted to a new interface, where 0 is the label for tall, 1 is the label for medium\n",
    "                    and 2 is label for short height.\n",
    "            \n",
    "                    Height          ------>              Height\n",
    "                 \n",
    "                     Tall             ->                    0\n",
    "                    Medium            ->                    1\n",
    "                     Short            ->                    2\n",
    "                        \n",
    "                        \n",
    " =>  Applying Label Encoding on iris dataset on the target column which is Species. \n",
    "          It contains three species Iris-setosa, Iris-versicolor, Iris-virginica.\n",
    "    \n",
    " =>  After applying Label encoding, we get them transformed into (0, 1, 2).\n",
    "\n",
    " \n",
    "            ############    ###########   limitation of label encoding    ############   #############\n",
    "        \n",
    " => Label encoding convert the data in machine readable form, but it assigns a unique number(starting from 0) to each class \n",
    "      of data. This may lead to the generation of priority issue in training of data sets. A label with high value may be\n",
    "        considered to have high priority than a label having lower value.\n",
    "\n",
    " =>  Example  ->  An attribute having output classes mexico, paris, dubai.\n",
    "                  On Label Encoding this column, let mexico is replaced with 0 , paris is replaced with 1 and\n",
    "                     dubai is replaced with 2.\n",
    "                   With this, it can be interpreted that dubai have high priority than mexico and paris while \n",
    "                       training the model, But actually there is no such priority relation between these cities here."
   ]
  },
  {
   "cell_type": "markdown",
   "metadata": {},
   "source": [
    "[One Hot Encoding Techniqu](https://www.geeksforgeeks.org/ml-one-hot-encoding-of-datasets-in-python/)"
   ]
  },
  {
   "cell_type": "code",
   "execution_count": 7,
   "metadata": {},
   "outputs": [
    {
     "name": "stdout",
     "output_type": "stream",
     "text": [
      "['Iris-setosa' 'Iris-versicolor' 'Iris-virginica']\n"
     ]
    },
    {
     "data": {
      "text/plain": [
       "array([0, 1, 2])"
      ]
     },
     "execution_count": 7,
     "metadata": {},
     "output_type": "execute_result"
    }
   ],
   "source": [
    "# Import libraries \n",
    "import numpy as np \n",
    "import pandas as pd \n",
    "\n",
    "# Import dataset \n",
    "df = pd.read_csv('files/iris.csv') \n",
    "print (df['species'].unique()) \n",
    "\n",
    "#  Applying Label encoding on the Dataset\n",
    "# Import label encoder \n",
    "from sklearn import preprocessing \n",
    "\n",
    "# label_encoder object knows how to understand word labels. \n",
    "label_encoder = preprocessing.LabelEncoder() \n",
    "\n",
    "# Encode labels in column 'species'. \n",
    "df['species']= label_encoder.fit_transform(df['species']) \n",
    "\n",
    "df['species'].unique() \n"
   ]
  },
  {
   "cell_type": "markdown",
   "metadata": {},
   "source": [
    "[Handling Imbalanced data with smote and near miss algorithm](https://www.geeksforgeeks.org/ml-handling-imbalanced-data-with-smote-and-near-miss-algorithm-in-python/)"
   ]
  }
 ],
 "metadata": {
  "kernelspec": {
   "display_name": "Python 3",
   "language": "python",
   "name": "python3"
  },
  "language_info": {
   "codemirror_mode": {
    "name": "ipython",
    "version": 3
   },
   "file_extension": ".py",
   "mimetype": "text/x-python",
   "name": "python",
   "nbconvert_exporter": "python",
   "pygments_lexer": "ipython3",
   "version": "3.7.6"
  }
 },
 "nbformat": 4,
 "nbformat_minor": 4
}
