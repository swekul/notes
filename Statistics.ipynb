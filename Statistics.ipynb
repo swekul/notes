{
 "cells": [
  {
   "cell_type": "markdown",
   "metadata": {},
   "source": [
    "    ###########    ############   Statistics for Data science    ###########   ############"
   ]
  },
  {
   "cell_type": "code",
   "execution_count": null,
   "metadata": {},
   "outputs": [],
   "source": [
    " =>  The word 'Statistics' is derived from a latin word 'status'.\n",
    "    \n",
    " =>  Statistics is a branch of Mathematics that deals with collecting, organizing, presenting, analysing \n",
    "        & interpreting a data in an effective way to get some valuable insights from it.\n",
    "        \n",
    " =>  Statistical analysis is used to manipulate, summarize or to be investigate a dataset, so that you will be \n",
    "       able to make some kind of decision based on dataset.\n",
    "    "
   ]
  },
  {
   "cell_type": "code",
   "execution_count": null,
   "metadata": {},
   "outputs": [],
   "source": [
    "     ##########   #############   Variables &  Data-types  in Statistics   ##############    ##########\n",
    "    \n",
    " =>  A Variable in Statistics is a characteristic or attribute that can assume different values. \n",
    "\n",
    " =>  Values getting stored inside a varible are known as Data.\n",
    "    \n",
    " =>  Random Variables are variables whose values are determined randomly ( or By-chance).\n",
    "         \n",
    "         E.x. Automobile Insurance (claim suppose 5% per year)\n",
    "                  Population: Census,  Sample : may be biased\n",
    "    \n",
    " =>  A Population consists of all subjects that are studied (all memebers of a defined group, \n",
    "        that we are studying or collecting information about it for data-driven decisions).\n",
    "\n",
    " =>  A sample is a subset (or a part) of the super set Population."
   ]
  },
  {
   "cell_type": "code",
   "execution_count": null,
   "metadata": {},
   "outputs": [],
   "source": [
    "       ############    ############     Descriptive Statistics    #############    ############\n",
    "    \n",
    " =>  This type of statistics is just about making descriptions about data.\n",
    "\n",
    " =>  This is a method for organising, summarising & presenting a data in an informative way to get insights.\n",
    "        i.e.  Applying EDA on dataset etc.\n",
    "\n",
    " =>  Histograms, bar graphs, pie graphs ae used to visually represent thne data by compiling it into \n",
    "       a table or a graph.\n",
    "    \n",
    " =>  Example ->  1000 people died with cholera in 2015."
   ]
  },
  {
   "cell_type": "code",
   "execution_count": null,
   "metadata": {},
   "outputs": [],
   "source": [
    "        ############    ############    Inferential Statistics    #############    ############\n",
    "    \n",
    " =>  In this type of statistics, we makes inferences about populations by using the samples taken from it.\n",
    "\n",
    " =>  Inferential statistics is performed by doing Estimations and Hypothesis testings over sample. \n",
    "    \n",
    " =>  Probability Distributions, Hypothesis Testing, Correlation Testing and egression analysis falls under \n",
    "         Inferential stataistics.\n",
    "\n",
    " =>  In Inferential Statistics, answers are never 100% accurate, because the calculations are made \n",
    "         on the basis of sample.\n",
    "    \n",
    " =>  Examples  ->   *  Happiness significatly raises a person pain level Tolerance.\n",
    "                    *  30% people have A type Blood."
   ]
  },
  {
   "cell_type": "code",
   "execution_count": null,
   "metadata": {},
   "outputs": [],
   "source": [
    "       ############    ############     Variables & Type of Data    #############    ############\n",
    "    \n",
    " =>  Variables of Statistics are divided into 2 categories .\n",
    "  \n",
    "          *  Quantitative Variables     &     *  Qualitative Variables\n",
    "        "
   ]
  },
  {
   "cell_type": "code",
   "execution_count": null,
   "metadata": {},
   "outputs": [],
   "source": [
    "      ############    ############    Quantitative variables  & its types   #############    ############\n",
    "\n",
    " =>  Quantitative variables are counted or measured variables.\n",
    "\n",
    " =>  Numerical values, height, weight, temperature etc. are Quantitaive variables.\n",
    "    \n",
    " =>  This Quntitative variables are further divided into 2 categories.\n",
    "\n",
    "   * Discrete Variables ->  These are countable variables. Ex.  16, 78, 500, Book pages, Money, No.of students etc.\n",
    "    \n",
    "   * Continuous variables ->  These variables are measurable variables and may be a Decimakl or fractional value. \n",
    "                               E.x.  Weight, speed of wind, Value of pie etc. "
   ]
  },
  {
   "cell_type": "code",
   "execution_count": null,
   "metadata": {},
   "outputs": [],
   "source": [
    "        ############    ############    Qualitative variables  & its types   #############    ############\n",
    "    \n",
    " =>  Qualitative Variqables are distinct categories accoprding to some attributes like as Gender, Religious, \n",
    "        Geographic locations etc."
   ]
  },
  {
   "cell_type": "code",
   "execution_count": null,
   "metadata": {},
   "outputs": [],
   "source": [
    "     ############    ############   Recorded values and Boundaries   #############    ############\n",
    "    \n",
    "        VARIABLES              VALUE - RECORDED                 BOUNDARIES\n",
    "        ---------              ----------------                 ----------\n",
    "         Length                   18 cm                          (17.5 - 18.5) cm\n",
    "            \n",
    "        Temperature               76 'F                          (75.5  -  76.5) 'F\n",
    "        \n",
    "          Time                  0.24 seconds                     (0.235 - 0.245) seconds\n",
    "            \n",
    "        Weight                    3.8 gm                          (3.75  -  3.85) gm"
   ]
  },
  {
   "cell_type": "code",
   "execution_count": null,
   "metadata": {},
   "outputs": [],
   "source": [
    "        ############    ############    Different types of Scale   #############    ############\n",
    "    \n",
    " =>  There are 4 types of scale to categorize differen types of variables.\n",
    "\n",
    "          *  Nominal     *  Ordinal     *  Interval      *  Ratio\n",
    "    \n",
    " =>  Nominal ->  Nominal scales are used for labelling varibles without any quantitaive value.\n",
    "                   They dont uses any ranking or order to categorize values..\n",
    "    \n",
    "    *  What is your gender?    ->    Male   or     Female\n",
    "    \n",
    "    *  What is your hair Hair-color?   ->  Brown     Black      Blonde    Gray     Other\n",
    "    \n",
    "    \n",
    " =>  Ordinal ->  Data measured at this level can be placed into categories and these categories can be \n",
    "                   ranked or ordered.   \n",
    "                 \n",
    "                   Ex. ->  *  Alphabetical letters  A, B, C, D etc.\n",
    "                            \n",
    "                           *  Guest speaker speech ->  Excellent, Average, Poor\n",
    "            \n",
    "                           *  Restaurant services  ->  '1' for poor, '2' for average, '3' for very good, \n",
    "                                                       '4' for Excellent\n",
    "                    \n",
    "                           *  Students ranking  ->  1st, 2nd, 3rd, 4th, ......   etc.\n",
    " \n",
    "\n",
    " =>  Interval ->  Data measured at this level have some meaningful differences between an interval and also have \n",
    "                   propeties of ordinals.\n",
    "        \n",
    "                 *  Iq score     ->      (107 - 108) IQs\n",
    "            \n",
    "                 *  Temperature  ->      (15 - 16) 'C\n",
    "                 \n",
    "                 *  Distance     ->      (30 - 40) km\n",
    "                \n",
    "    =>  There is no True 'Zero' in this level.\n",
    "    \n",
    "    \n",
    " => Ratio ->  This level is similar to Interval level but it also has True 'Zero'.\n",
    "\n",
    "              This is used to measure heights, Phone calls received, area, weight etc. \n",
    "\n",
    "    \n",
    " =>  Nominal level is used to classify data, whereas Ratio level gives more exact values.\n",
    "\n",
    " =>  Nominal, Ordinal and Interval datatypes are Discrete whereas ratio data are continuous."
   ]
  },
  {
   "cell_type": "markdown",
   "metadata": {},
   "source": [
    "<img src=\"images/stat.jpg\">"
   ]
  },
  {
   "cell_type": "markdown",
   "metadata": {},
   "source": [
    "<img src=\"images/stat1.jpg\">"
   ]
  },
  {
   "cell_type": "raw",
   "metadata": {},
   "source": [
    "        ##############    ##############   Permutations & Combinations   ################    ################\n",
    "    \n",
    " =>  Factorial is defined as continued multiplication of first 'n' Natural numbers.\n",
    "\n",
    "        n!  ->  n*(n-1)*(n-2)*(n-3)  ....  3*2*1\n",
    "    \n",
    " =>  Note : Factorial is not defined for Negative numbers.\n",
    "    \n",
    " =>  Total no.s of possible arrangements for an event is collectively known as Permutations.\n",
    "\n",
    " =>  Collections by doing selection of letters or items from a set is collectively known as Combinations.\n",
    "    \n",
    " =>  Fundamental principal of Counting states that -\n",
    "\n",
    "    \"If event A is occurring in 'm' different ways and event B is occurring in 'n' different ways, then both                events can simultaneously occurs in (m * n) different ways. \"\n",
    "    \n",
    " =>  This is a type of dependent events, so we use  simultaneously 'and'.\n",
    " \n",
    "\n",
    "      e.g.  Making words with 4 letters of \"ROSE\"  -->  (4 * 3 * 2 * 1) = 24\n",
    "                  (Non - repeating characters)\n",
    "                  \n",
    "            Making words with letters of digits of \"ROSE\"  -->  (4 * 4 * 4 * 4) = 256\n",
    "                  ( Repeating characters)         \n",
    "  "
   ]
  },
  {
   "cell_type": "markdown",
   "metadata": {},
   "source": [
    "<img src=\"images/binomial-coeff.jpg\">"
   ]
  },
  {
   "cell_type": "code",
   "execution_count": null,
   "metadata": {},
   "outputs": [],
   "source": [
    "        #############   ###########   Mean, Median & Mode  In Statistics   ###########   ##############\n",
    "    \n",
    " =>  Mean is defined as the Sum of values of a dataset divided by total no. of values in that dataset.\n",
    "\n",
    " =>  Mean is similar to average of all values in a dataset..\n",
    "    \n",
    " =>  When we have some outliers in our dataset, then Mean gets a huge hike whereas Median just slightly increases.\n",
    "\n"
   ]
  },
  {
   "cell_type": "markdown",
   "metadata": {},
   "source": [
    "<img src = \"images/mean.jpg\">"
   ]
  },
  {
   "cell_type": "code",
   "execution_count": null,
   "metadata": {},
   "outputs": [],
   "source": [
    "        ################   #########   Median of a Dataset  ##########   ###############\n",
    "\n",
    " =>  Median is a value, which separates the higher half and lower half of an arranged dataset.\n",
    "    \n",
    " =>  or in other words, Median is just the middle value of an arranged dataset.\n",
    "\n",
    "    *   1, 2, 3, 5, 6, 7, 8    ->  In this case, median = 5\n",
    "        -------     -------    \n",
    "        \n",
    "        \n",
    "    *   1, 2, 3, 5, 6, 7, 8, 9   ->  In this case, Median = (5 + 6)/2  = 5.5\n",
    "        -------        -------"
   ]
  },
  {
   "cell_type": "code",
   "execution_count": null,
   "metadata": {},
   "outputs": [],
   "source": [
    "      ################   #########   Mode of a Dataset  ##########   ###############\n",
    "\n",
    " =>  Mode is the most frequent value in a dataset.\n",
    "    \n",
    " =>  There may be 2 or 3 maximum number of modes in a dataset.\n",
    "\n",
    "  *  1, 4, 3, 5, 4, 7, 8, 4, 3, 2, 3  ->   Modes = 3 and 4"
   ]
  },
  {
   "cell_type": "code",
   "execution_count": null,
   "metadata": {},
   "outputs": [],
   "source": [
    "          ##############    ############    Skewness of a Dataset    #############    #############\n",
    "    \n",
    " =>  Outliers are High and Low extreme values in a dataset.\n",
    "    \n",
    " =>  If there are some Low Extreme Values in dataset, then dataset is said to be left-skewed & in case of\n",
    "       High Extreme Values, Dataset is said to be right-skewed.\n",
    " \n",
    " =>  In the case of Left-Skewness, Mean is less than the Median & Median is less than Mode.\n",
    "         \n",
    "          i.e.    Mean < Median < Mode\n",
    "            \n",
    " =>  In the case of Right-Skewness, Mean is greater than Median & Median is greater than Mode.\n",
    "\n",
    "          i.e.    Mean > Median > Mode\n",
    "    \n",
    " =>  A distribution is said to be symmetrical, if a vertical line can be drawn at some point in Histogram,\n",
    "       such that the shape to left & right of vertical line is Mirror images of each other.\n",
    "     \n",
    " =>  A Histogram always display a symmetrical distribution of data.\n",
    "\n",
    " =>  In a Perfectly symmetrical distribution, Mean & Median are same.\n",
    "    \n",
    " =>  Negative Value of Skewness means left-skewness & Positive Value of Skewness means right-skewness."
   ]
  },
  {
   "cell_type": "markdown",
   "metadata": {},
   "source": [
    "<img src =\"images/symm-dis.jpg\">"
   ]
  },
  {
   "cell_type": "code",
   "execution_count": null,
   "metadata": {},
   "outputs": [],
   "source": [
    "  ################   #########  Measure of Dispersion or Distribution of a Dataset  ##########   ###############\n",
    "    \n",
    " =>  Dispersion in statistics is a way of describing how spread out a set of data is. \n",
    "\n",
    " =>  When a data set has a large value, the values in the set are widely scattered; \n",
    "       when it is small the items in the set are tightly clustered.\n",
    "       \n",
    " => There are 2 things to describe  the measure of dispersion of dataset.\n",
    "\n",
    "            * Range           * Variance ( or Standard deviation)\n",
    "    \n",
    " =>  The range is the difference between the largest and the smallest observation in the data and gives the size \n",
    "       of all observations in a dataset."
   ]
  },
  {
   "cell_type": "code",
   "execution_count": null,
   "metadata": {},
   "outputs": [],
   "source": [
    "       ##############    ##############   Interquartile Range   ###############    ##############\n",
    "    \n",
    " =>  Data is divided into four sections -> (Q1, Q2, Q3, and Q4).\n",
    "\n",
    " =>  Q1 represents the range from the lowest value to the median value of the first half of the data. \n",
    "    \n",
    " =>  Q2 is the range from the median of the first half of the data to the median of the entire data set.\n",
    "    \n",
    " =>  Q3 is the range from the median of the data set to the median value of the second half of the data set. \n",
    "   \n",
    " =>  Q4 is the range from the median of the second half of the data set to the greatest value. \n",
    "   \n",
    " =>  The interquartile range is Q3 – Q2.\n",
    "\n",
    " =>  The sizes of the interquartile ranges give you insight into the variability of the data set. \n",
    "       Ideally, they would all be equal or close to equal. If they vary a lot, then your data may be skewed.\n",
    "        \n",
    " =>  Interquartile range helps in getting outliers of a dataset."
   ]
  },
  {
   "cell_type": "code",
   "execution_count": null,
   "metadata": {},
   "outputs": [],
   "source": [
    "      #############    ############   Variance of a Dataset in Statistics   ############    #############\n",
    "    \n",
    " =>  Variance is summation of distances or summation of Dispersions of data from mean.\n",
    "\n",
    " =>  If variance is too high, then there should be more values or data lying in that period.\n",
    "    \n",
    " =>  In case of bike speedometer readings data, variance is too high, there will be more fluctuations in speed\n",
    "        by pushing accelerator or applying break."
   ]
  },
  {
   "cell_type": "markdown",
   "metadata": {},
   "source": [
    "<img src = \"images/variance.png\">"
   ]
  },
  {
   "cell_type": "markdown",
   "metadata": {},
   "source": [
    "<img src=\"images/variance.jpg\">"
   ]
  },
  {
   "cell_type": "code",
   "execution_count": null,
   "metadata": {},
   "outputs": [],
   "source": [
    "   #############    ############   Standard deviation of a Dataset in Statistics   ############    #############\n",
    "    \n",
    " =>  Standard deviation is defined as the exact distance of data from mean.\n",
    "\n",
    " =>  Standard deviation is square-root of variance of a dataset.\n",
    "    \n",
    " =>  There are 3 different types of Deviation computed in (mean +- n*std. deviation) in which data lies.\n",
    "                              \n",
    "     * 1st deviation -> This gives 1st deviation & 68.2% of data lies in this region.\n",
    "                              \n",
    "     * 2nd deviation -> This gives 2nd deviation & 95.4% of data lies here.\n",
    "    \n",
    "     * 3rd deviation -> This gives 3rd deviation and 99.7% of data lies here."
   ]
  },
  {
   "cell_type": "markdown",
   "metadata": {},
   "source": [
    "<img src=\"images/deviation.jpeg\">"
   ]
  },
  {
   "cell_type": "code",
   "execution_count": null,
   "metadata": {},
   "outputs": [],
   "source": [
    "      #############    ##############   Probability Density Function   ###############    #############\n",
    "    \n",
    " =>  This is defined as a mathematical function, by which we will be able to find out the that what are \n",
    "       possibilities of occurrences of this particular event with the help of record or given time-stamp\n",
    "        or some other parameter.\n",
    "        \n",
    " =>  Types of Probability Density function ----\n",
    "\n",
    "      * Normal Distribution              * Binomial Distribution             * Bernoulli Distribution     \n",
    "      \n",
    "      * Uniform Distribution             * StudentsT Distribution            * Poisson Distribution \n",
    "    \n"
   ]
  },
  {
   "cell_type": "code",
   "execution_count": null,
   "metadata": {},
   "outputs": [],
   "source": [
    "      ###############     ###############    Binomial's distribution    ############    ############## \n",
    "    \n",
    " =>  Binomial distribution is a type of Probabilty Density function, which is used when there is 2 outcomes \n",
    "        of a certain experiment.\n",
    "\n",
    "        e.x. ->  Tossing a coin  ->  Head or Tail\n",
    "                  Give an exam   ->  Pass or Fail\n",
    " \n",
    " =>  In Binomial distribution, all events are independent to each other."
   ]
  },
  {
   "cell_type": "markdown",
   "metadata": {},
   "source": [
    "<img src=\"images/bino-dis.jpg\">"
   ]
  },
  {
   "cell_type": "code",
   "execution_count": null,
   "metadata": {},
   "outputs": [],
   "source": [
    "        ###############     ###############    Poisson's distribution    ############    ##############\n",
    "    \n",
    " =>  Poisson Distribution is used to calculate the probability of occurrences of an event in a particular \n",
    "       time period or an interval.\n",
    "    \n",
    " =>  In case of Poisson distribution, events depend on intervals.\n",
    "\n",
    "      e.g.  * 3 insurances / week         *  10 road accidents / day        * 25 cars / day\n",
    "    "
   ]
  },
  {
   "cell_type": "markdown",
   "metadata": {},
   "source": [
    "<img src=\"images/poisson-dis.jpg\">"
   ]
  },
  {
   "cell_type": "code",
   "execution_count": null,
   "metadata": {},
   "outputs": [],
   "source": [
    "     ########    ############   Binomial Distribution vs  Poisson Distribution   ##############    ##########\n",
    "    \n",
    " =>  Binomial distribution talks about such types of events, which is going to give youa success or a failure,\n",
    "       out of 'N' experiments.\n",
    "    \n",
    " =>  Poisson Distribution talks about events, those depends upon a certain time period or interval."
   ]
  },
  {
   "cell_type": "code",
   "execution_count": null,
   "metadata": {},
   "outputs": [],
   "source": [
    "        ###############     ###############    Normal distribution    ############    ##############\n",
    "    \n",
    " =>  For building any kind of model, we generally looks for a Normally distributed data.\n",
    "\n",
    " =>  If there are some outliers available in dataset, it is not going to form a Normal distribution, then \n",
    "       there is some skewness available in my dataset. keeping outliers in dataset results into \n",
    "        under-fitted or overfitted dataset and needs to be normalize the dataset for \n",
    "         removing the skewness & change the scale of data.\n",
    "        \n",
    " =>  Conversion of a Skewed dataset into Normal Distribution is termed as Normalization of data.\n",
    "\n",
    " =>  If there are no outliers (Low & High Extreme Values) inside my dataset, it will not possess any skewness\n",
    "        and dataset will be equally dispersed or have equall variances b/w data.\n",
    "         \n",
    " =>  This equally dispersd dataset forms a Well-shape curve & is qualified for building any kind of models \n",
    "        on top of it.\n",
    "        \n",
    " =>  Probability density function is a kind of function, where value will be ranging b/w (a to b)\n",
    "       & of any value b/w (a to b) , if it is going to give some y value which is Greater than or Equal to 0,\n",
    "     Then We can say this particular dataset can be represented as Probability Density Function.\n",
    "        \n",
    " =>  Area of well-shape curve of a particular Probability Density Function gives occurrences of any event\n",
    "           in dataset.\n",
    "        \n",
    " =>  We need to draw a curve for checking the skewness of dataset & so we need  y or f(x) values.\n",
    "\n",
    " =>  For getting y or f(x) values regarding each x values in dataset, we passes each x values to below function (1).\n",
    "    \n",
    " =>  Then we get (x1, y1), (x2, y2) ....  points and use them to draw the curve.\n",
    "\n",
    " =>  This function (1) always gives a positive result.\n",
    "    \n",
    " =>  To normalizing a dataset, we uses square-root operation, cube-root operation, logarithmic or exponential\n",
    "       operations , Conversion operations to change the scale of data"
   ]
  },
  {
   "cell_type": "markdown",
   "metadata": {},
   "source": [
    "<img src=\"images/normal-dis.jpg\">"
   ]
  },
  {
   "cell_type": "code",
   "execution_count": null,
   "metadata": {},
   "outputs": [],
   "source": [
    "          #############    #############   Standardization of dataset    ##############    ###########\n",
    "    \n",
    " =>  If Mean( µ = 0 ) & Standard deviation ( σ = 1 ) in a dataset, then this datset is known as \n",
    "      \n",
    "       Standard Normal Distribution.\n",
    "        \n",
    " =>  This is a subset of Normal Distribution. \n",
    "\n",
    " =>  For standarising a dataset, use z-stats formulae.for each values of dataset and make it standarize.\n",
    "    \n",
    " =>  Use z-table for getting z-values.\n",
    "\n",
    " =>  z-table can only be used, if we have population mean."
   ]
  },
  {
   "cell_type": "markdown",
   "metadata": {},
   "source": [
    "<img src = \"images/z-table1.png\">\n",
    "\n",
    "<img src = \"images/z-table2.png\">"
   ]
  },
  {
   "cell_type": "code",
   "execution_count": null,
   "metadata": {},
   "outputs": [],
   "source": [
    "           ############   ##############   Estimation in Statistics    ##############    ###############\n",
    "    \n",
    " =>  "
   ]
  }
 ],
 "metadata": {
  "kernelspec": {
   "display_name": "Python 3",
   "language": "python",
   "name": "python3"
  },
  "language_info": {
   "codemirror_mode": {
    "name": "ipython",
    "version": 3
   },
   "file_extension": ".py",
   "mimetype": "text/x-python",
   "name": "python",
   "nbconvert_exporter": "python",
   "pygments_lexer": "ipython3",
   "version": "3.7.6"
  }
 },
 "nbformat": 4,
 "nbformat_minor": 4
}
