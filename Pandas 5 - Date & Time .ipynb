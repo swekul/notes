{
 "cells": [
  {
   "cell_type": "code",
   "execution_count": 2,
   "metadata": {},
   "outputs": [],
   "source": [
    "     ############    #########    Working with date and time in Pandas   ##########   ############# "
   ]
  },
  {
   "cell_type": "code",
   "execution_count": null,
   "metadata": {},
   "outputs": [],
   "source": [
    " =>  While working with data, encountering time series data is very usual. Pandas is a very useful tool while \n",
    "         working with time series data.\n",
    "\n",
    " =>  Pandas provide a different set of tools using which we can perform all the necessary tasks on date-time data."
   ]
  },
  {
   "cell_type": "code",
   "execution_count": null,
   "metadata": {},
   "outputs": [],
   "source": [
    "Code #1: Create a dates dataframe"
   ]
  },
  {
   "cell_type": "code",
   "execution_count": 4,
   "metadata": {},
   "outputs": [
    {
     "data": {
      "text/plain": [
       "DatetimeIndex(['2011-01-01 00:00:00', '2011-01-01 01:00:00',\n",
       "               '2011-01-01 02:00:00', '2011-01-01 03:00:00',\n",
       "               '2011-01-01 04:00:00', '2011-01-01 05:00:00',\n",
       "               '2011-01-01 06:00:00', '2011-01-01 07:00:00',\n",
       "               '2011-01-01 08:00:00', '2011-01-01 09:00:00'],\n",
       "              dtype='datetime64[ns]', freq='H')"
      ]
     },
     "execution_count": 4,
     "metadata": {},
     "output_type": "execute_result"
    }
   ],
   "source": [
    "import pandas as pd \n",
    "\n",
    "# Create dates dataframe with frequency \n",
    "data = pd.date_range('1/1/2011', periods = 10, freq ='H') \n",
    "\n",
    "data \n"
   ]
  },
  {
   "cell_type": "code",
   "execution_count": null,
   "metadata": {},
   "outputs": [],
   "source": [
    "Code #2: Create range of dates and show basic features"
   ]
  },
  {
   "cell_type": "raw",
   "metadata": {},
   "source": [
    "# Create date and time with dataframe \n",
    "data = pd.date_range('1/1/2011', periods = 10, freq ='H') \n",
    "\n",
    "x = datetime.now() \n",
    "x.month, x.year \n"
   ]
  },
  {
   "cell_type": "code",
   "execution_count": null,
   "metadata": {},
   "outputs": [],
   "source": [
    " =>  Datetime features can be divided into two categories.The first one time moments in a period \n",
    "       and second the time passed since a particular period. \n",
    "        \n",
    " => These features can be very useful to understand the patterns in the data.\n",
    "\n",
    " => Divide a given date into features –\n",
    "\n",
    "        * pandas.Series.dt.year returns the year of the date time.\n",
    "\n",
    "        * pandas.Series.dt.month returns the month of the date time.\n",
    "\n",
    "        * pandas.Series.dt.day returns the day of the date time.\n",
    "\n",
    "        * pandas.Series.dt.hour returns the hour of the date time.\n",
    "\n",
    "        * pandas.Series.dt.minute returns the minute of the date time"
   ]
  },
  {
   "cell_type": "markdown",
   "metadata": {},
   "source": [
    "[All Datetime properties and features](https://pandas.pydata.org/pandas-docs/stable/reference/index.html)"
   ]
  },
  {
   "cell_type": "code",
   "execution_count": null,
   "metadata": {},
   "outputs": [],
   "source": [
    "Code #3: Break data and time into separate features"
   ]
  },
  {
   "cell_type": "code",
   "execution_count": 6,
   "metadata": {},
   "outputs": [
    {
     "data": {
      "text/html": [
       "<div>\n",
       "<style scoped>\n",
       "    .dataframe tbody tr th:only-of-type {\n",
       "        vertical-align: middle;\n",
       "    }\n",
       "\n",
       "    .dataframe tbody tr th {\n",
       "        vertical-align: top;\n",
       "    }\n",
       "\n",
       "    .dataframe thead th {\n",
       "        text-align: right;\n",
       "    }\n",
       "</style>\n",
       "<table border=\"1\" class=\"dataframe\">\n",
       "  <thead>\n",
       "    <tr style=\"text-align: right;\">\n",
       "      <th></th>\n",
       "      <th>date</th>\n",
       "      <th>year</th>\n",
       "      <th>month</th>\n",
       "      <th>day</th>\n",
       "      <th>hour</th>\n",
       "      <th>minute</th>\n",
       "    </tr>\n",
       "  </thead>\n",
       "  <tbody>\n",
       "    <tr>\n",
       "      <th>0</th>\n",
       "      <td>2011-01-01 00:00:00</td>\n",
       "      <td>2011</td>\n",
       "      <td>1</td>\n",
       "      <td>1</td>\n",
       "      <td>0</td>\n",
       "      <td>0</td>\n",
       "    </tr>\n",
       "    <tr>\n",
       "      <th>1</th>\n",
       "      <td>2011-01-01 01:00:00</td>\n",
       "      <td>2011</td>\n",
       "      <td>1</td>\n",
       "      <td>1</td>\n",
       "      <td>1</td>\n",
       "      <td>0</td>\n",
       "    </tr>\n",
       "    <tr>\n",
       "      <th>2</th>\n",
       "      <td>2011-01-01 02:00:00</td>\n",
       "      <td>2011</td>\n",
       "      <td>1</td>\n",
       "      <td>1</td>\n",
       "      <td>2</td>\n",
       "      <td>0</td>\n",
       "    </tr>\n",
       "  </tbody>\n",
       "</table>\n",
       "</div>"
      ],
      "text/plain": [
       "                 date  year  month  day  hour  minute\n",
       "0 2011-01-01 00:00:00  2011      1    1     0       0\n",
       "1 2011-01-01 01:00:00  2011      1    1     1       0\n",
       "2 2011-01-01 02:00:00  2011      1    1     2       0"
      ]
     },
     "execution_count": 6,
     "metadata": {},
     "output_type": "execute_result"
    }
   ],
   "source": [
    "# Create date and time with dataframe \n",
    "rng = pd.DataFrame() \n",
    "rng['date'] = pd.date_range('1/1/2011', periods = 72, freq ='H') \n",
    "\n",
    "# Print the dates in dd-mm-yy format \n",
    "rng[:5] \n",
    "\n",
    "# Create features for year, month, day, hour, and minute \n",
    "rng['year'] = rng['date'].dt.year \n",
    "rng['month'] = rng['date'].dt.month \n",
    "rng['day'] = rng['date'].dt.day \n",
    "rng['hour'] = rng['date'].dt.hour \n",
    "rng['minute'] = rng['date'].dt.minute \n",
    "\n",
    "# Print the dates divided into features \n",
    "rng.head(3) \n"
   ]
  },
  {
   "cell_type": "code",
   "execution_count": null,
   "metadata": {},
   "outputs": [],
   "source": [
    "  * Code 4: To get the present time, use Timestamp.now() and then convert timestamp to datetime and \n",
    "                directly access year, month or day."
   ]
  },
  {
   "cell_type": "markdown",
   "metadata": {},
   "source": [
    "[For more codes on Date and Time](https://www.geeksforgeeks.org/python-working-with-date-and-time-using-pandas/)"
   ]
  },
  {
   "cell_type": "code",
   "execution_count": null,
   "metadata": {},
   "outputs": [],
   "source": [
    " ##########    ##########   Pandas Timestamp.timestamp   ###########    ###########"
   ]
  },
  {
   "cell_type": "markdown",
   "metadata": {},
   "source": [
    "[Link](https://www.geeksforgeeks.org/python-pandas-timestamp-timestamp/)"
   ]
  },
  {
   "cell_type": "code",
   "execution_count": null,
   "metadata": {},
   "outputs": [],
   "source": [
    " => Pandas Timestamp.timestamp() function return the time expressed as the number of seconds that have passed \n",
    "         since January 1, 1970. That zero moment is known as the epoch.\n",
    "\n",
    "  => Syntax :Timestamp.timestamp()\n",
    "    \n",
    "      * Parameters : None\n",
    "\n",
    "      * Return : number of seconds since zero moment"
   ]
  },
  {
   "cell_type": "code",
   "execution_count": null,
   "metadata": {},
   "outputs": [],
   "source": [
    "    * Example #1\n",
    "\n",
    " => Use Timestamp.timestamp() function to return the number of seconds that has passed since the zero moment\n",
    "       for the given Timestamp object.\n",
    "    \n",
    " =>  As we can see in the output, the Timestamp.timestamp() function has returned a float value indicating \n",
    "          this many seconds has passed since the epoch for the given Timestamp object."
   ]
  },
  {
   "cell_type": "code",
   "execution_count": 7,
   "metadata": {},
   "outputs": [
    {
     "name": "stdout",
     "output_type": "stream",
     "text": [
      "2011-11-21 10:00:49-06:00\n"
     ]
    },
    {
     "data": {
      "text/plain": [
       "1321891249.0"
      ]
     },
     "execution_count": 7,
     "metadata": {},
     "output_type": "execute_result"
    }
   ],
   "source": [
    "# importing pandas as pd \n",
    "import pandas as pd \n",
    "\n",
    "# Create the Timestamp object \n",
    "ts = pd.Timestamp(year = 2011, month = 11, day = 21, \n",
    "\t\t\t\thour = 10, second = 49, tz = 'US/Central') \n",
    "\n",
    "# Print the Timestamp object \n",
    "print(ts) \n",
    "\n",
    "\n",
    "# Now we will use the Timestamp.timestamp() function to find the number of seconds that has passed.\n",
    "# return the number of seconds \n",
    "ts.timestamp() \n"
   ]
  },
  {
   "cell_type": "code",
   "execution_count": null,
   "metadata": {},
   "outputs": [],
   "source": [
    "   *  Example #2: \n",
    "    \n",
    "  =>  Use Timestamp.timestamp() function to return the number of seconds that has passed since the zero moment \n",
    "           for the given Timestamp object.\n",
    "    \n",
    "  =>  As we can see in the output, the Timestamp.timestamp() function has returned a float value indicating \n",
    "          this many seconds has passed since the epoch for the given Timestamp object."
   ]
  },
  {
   "cell_type": "code",
   "execution_count": 8,
   "metadata": {},
   "outputs": [
    {
     "name": "stdout",
     "output_type": "stream",
     "text": [
      "2009-05-31 04:00:49+02:00\n"
     ]
    },
    {
     "data": {
      "text/plain": [
       "1243735249.0"
      ]
     },
     "execution_count": 8,
     "metadata": {},
     "output_type": "execute_result"
    }
   ],
   "source": [
    "# importing pandas as pd \n",
    "import pandas as pd \n",
    "\n",
    "# Create the Timestamp object \n",
    "ts = pd.Timestamp(year = 2009, month = 5, day = 31, \n",
    "\t\t\t\thour = 4, second = 49, tz = 'Europe/Berlin') \n",
    "\n",
    "# Print the Timestamp object \n",
    "print(ts) \n",
    "\n",
    "#  Now we will use the Timestamp.timestamp() function to find the number of seconds that has passed\n",
    "# return the number of seconds \n",
    "ts.timestamp() \n"
   ]
  },
  {
   "cell_type": "code",
   "execution_count": null,
   "metadata": {},
   "outputs": [],
   "source": [
    "      ##########    ##########   Pandas Timestamp.now   ###########    ###########\n",
    "    \n",
    " =>  Pandas Timestamp.now() function return the current time in the local timezone. \n",
    "\n",
    " =>  It is Equivalent to datetime.now([tz]).\n",
    "\n",
    "   =>   Syntax :Timestamp.now()\n",
    "    \n",
    "       *  Parameters : None\n",
    "\n",
    "       *  Return : Timestamp"
   ]
  },
  {
   "cell_type": "code",
   "execution_count": null,
   "metadata": {},
   "outputs": [],
   "source": [
    "  *  Example #1: \n",
    "    \n",
    " =>  Use Timestamp.now() function to return the current time in the local timezone.\n",
    "\n",
    " =>  As we can see in the output, the Timestamp.now() function has returned \n",
    "          the current time in the local timezone. It auto detects the local timezone."
   ]
  },
  {
   "cell_type": "code",
   "execution_count": 9,
   "metadata": {},
   "outputs": [
    {
     "name": "stdout",
     "output_type": "stream",
     "text": [
      "2011-11-21 10:00:49-06:00\n"
     ]
    },
    {
     "data": {
      "text/plain": [
       "Timestamp('2020-06-22 14:08:54.309048')"
      ]
     },
     "execution_count": 9,
     "metadata": {},
     "output_type": "execute_result"
    }
   ],
   "source": [
    "# importing pandas as pd \n",
    "import pandas as pd \n",
    "\n",
    "# Create the Timestamp object \n",
    "ts = pd.Timestamp(year = 2011, month = 11, day = 21, \n",
    "\t\thour = 10, second = 49, tz = 'US/Central') \n",
    "\n",
    "# Print the Timestamp object \n",
    "print(ts) \n",
    "\n",
    "#  Now we will use the Timestamp.now() function to find the current time in the local timezone.\n",
    "\n",
    "# return the current time \n",
    "ts.now() \n"
   ]
  },
  {
   "cell_type": "code",
   "execution_count": null,
   "metadata": {},
   "outputs": [],
   "source": [
    "  * Example #2: \n",
    "    \n",
    " =>  Use Timestamp.now() function to return the current time in the local timezone.\n",
    "\n",
    " =>  As we can see in the output, the Timestamp.now() function has returned the \n",
    "            current time in the local timezone. \n",
    "        \n",
    " =>  It auto detects the local timezone."
   ]
  },
  {
   "cell_type": "markdown",
   "metadata": {},
   "source": [
    "[Link](https://www.geeksforgeeks.org/python-pandas-timestamp-now/)"
   ]
  },
  {
   "cell_type": "code",
   "execution_count": 10,
   "metadata": {},
   "outputs": [
    {
     "name": "stdout",
     "output_type": "stream",
     "text": [
      "2009-05-31 04:00:49+02:00\n"
     ]
    },
    {
     "data": {
      "text/plain": [
       "Timestamp('2020-06-22 14:09:27.469912')"
      ]
     },
     "execution_count": 10,
     "metadata": {},
     "output_type": "execute_result"
    }
   ],
   "source": [
    "# importing pandas as pd \n",
    "import pandas as pd \n",
    "\n",
    "# Create the Timestamp object \n",
    "ts = pd.Timestamp(year = 2009, month = 5, day = 31, \n",
    "\thour = 4, second = 49, tz = 'Europe/Berlin') \n",
    "\n",
    "# Print the Timestamp object \n",
    "print(ts) \n",
    "\n",
    "# Now we will use the Timestamp.now() function to find the current time in the local timezone.\n",
    "# return the current time \n",
    "ts.now() \n"
   ]
  },
  {
   "cell_type": "code",
   "execution_count": null,
   "metadata": {},
   "outputs": [],
   "source": [
    "     ##########    ###########   Pandas Timestamp.isoformat     ##########    ############\n",
    "    \n",
    " =>  Pandas Timestamp.isoformat() function is used to convert the given Timestamp object into the ISO format.\n",
    "\n",
    " =>  Syntax :Timestamp.isoformat()\n",
    "        \n",
    "        *  Parameters : None\n",
    "\n",
    "        *  Return : date time as a string"
   ]
  },
  {
   "cell_type": "markdown",
   "metadata": {},
   "source": [
    "[Link](https://www.geeksforgeeks.org/python-pandas-timestamp-isoformat/)"
   ]
  },
  {
   "cell_type": "code",
   "execution_count": null,
   "metadata": {},
   "outputs": [],
   "source": [
    "  *  Example #1: \n",
    "    \n",
    " =>  Use Timestamp.isoformat() function to convert the date in the given Timestamp object to ISO format.\n",
    "\n",
    " =>  As we can see in the output, the Timestamp.isoformat() function has returned the date in the ISO format."
   ]
  },
  {
   "cell_type": "code",
   "execution_count": 12,
   "metadata": {},
   "outputs": [
    {
     "name": "stdout",
     "output_type": "stream",
     "text": [
      "2011-11-21 10:00:49-06:00\n"
     ]
    },
    {
     "data": {
      "text/plain": [
       "'2011-11-21T10:00:49-06:00'"
      ]
     },
     "execution_count": 12,
     "metadata": {},
     "output_type": "execute_result"
    }
   ],
   "source": [
    "# importing pandas as pd \n",
    "import pandas as pd \n",
    "\n",
    "# Create the Timestamp object \n",
    "ts = pd.Timestamp(year = 2011, month = 11, day = 21, \n",
    "\t\t\t\thour = 10, second = 49, tz = 'US/Central') \n",
    "\n",
    "# Print the Timestamp object \n",
    "print(ts) \n",
    "\n",
    "# Now we will use the Timestamp.isoformat() function to convert the date in the given Timestamp object to ISO format.\n",
    "\n",
    "# convert to ISO format \n",
    "ts.isoformat() \n"
   ]
  },
  {
   "cell_type": "code",
   "execution_count": null,
   "metadata": {},
   "outputs": [],
   "source": [
    "  ##########    ###########   Pandas Timestamp.date   ##########    ############"
   ]
  },
  {
   "cell_type": "markdown",
   "metadata": {},
   "source": [
    "[Pandas Timestamp.date](https://www.geeksforgeeks.org/python-pandas-timestamp-date/)"
   ]
  },
  {
   "cell_type": "code",
   "execution_count": null,
   "metadata": {},
   "outputs": [],
   "source": [
    " =>  Pandas Timestamp.date() function return a datetime object with same year, month and day as that of\n",
    "         the given Timestamp object.\n",
    "    \n",
    " =>  Syntax : Timestamp.date()\n",
    "\n",
    "        * Parameters : None\n",
    "\n",
    "        * Return : date"
   ]
  },
  {
   "cell_type": "code",
   "execution_count": null,
   "metadata": {},
   "outputs": [],
   "source": [
    "  * Example #1:\n",
    "\n",
    " =>  Use Timestamp.date() function to return the date of the given Timestamp object as a datetime object.\n",
    "\n",
    " =>  As we can see in the output, the Timestamp.date() function has returned a datetime object \n",
    "         containing the same year, month and day as that of the given Timestamp object. "
   ]
  },
  {
   "cell_type": "code",
   "execution_count": 13,
   "metadata": {},
   "outputs": [
    {
     "name": "stdout",
     "output_type": "stream",
     "text": [
      "2011-11-21 10:00:49-06:00\n"
     ]
    },
    {
     "data": {
      "text/plain": [
       "datetime.date(2011, 11, 21)"
      ]
     },
     "execution_count": 13,
     "metadata": {},
     "output_type": "execute_result"
    }
   ],
   "source": [
    "# importing pandas as pd \n",
    "import pandas as pd \n",
    "\n",
    "# Create the Timestamp object \n",
    "ts = pd.Timestamp(year = 2011, month = 11, day = 21, \n",
    "\t\thour = 10, second = 49, tz = 'US/Central') \n",
    "\n",
    "# Print the Timestamp object \n",
    "print(ts) \n",
    "\n",
    "# Now we will use the Timestamp.date() function to return the date as a datetime object.\n",
    "\n",
    "# return as a datetime object \n",
    "ts.date() "
   ]
  },
  {
   "cell_type": "code",
   "execution_count": null,
   "metadata": {},
   "outputs": [],
   "source": [
    "    ##########    ###########   Pandas Timestamp.replace  ##########    ############\n",
    "    \n",
    " =>  Pandas Timestamp.replace() function is used to replace the member values of the given Timestamp. \n",
    "\n",
    " =>  The function implements datetime.replace, and it also handles nanoseconds.\n",
    "    \n",
    " =>  Syntax :Timestamp.replace()\n",
    "\n",
    "      =>   Parameters :-\n",
    "\n",
    "              * year : int\n",
    "             \n",
    "              * month : int\n",
    "\n",
    "              * day : int\n",
    "\n",
    "              * hour : int\n",
    "\n",
    "              * minute : int\n",
    "\n",
    "              * second : int\n",
    "\n",
    "              * microsecond : int\n",
    "    \n",
    "              * nanosecond : int\n",
    "\n",
    "              *  tzinfo : int\n",
    "\n",
    "              * fold : int\n",
    "\n",
    "         *  Return : Timestamp with fields replaced"
   ]
  },
  {
   "cell_type": "markdown",
   "metadata": {},
   "source": [
    "[Pandas Timestamp.replace](https://www.geeksforgeeks.org/python-pandas-timestamp-replace/)"
   ]
  },
  {
   "cell_type": "code",
   "execution_count": null,
   "metadata": {},
   "outputs": [],
   "source": [
    " * Example #1:\n",
    "    \n",
    " => Use Timestamp.replace() function to replace the year value in the given Timestamp.\n",
    "\n",
    " =>  As we can see in the output, the Timestamp.replace() function has returned a Timestamp object \n",
    "         with year value equal to 2019."
   ]
  },
  {
   "cell_type": "code",
   "execution_count": 14,
   "metadata": {},
   "outputs": [
    {
     "name": "stdout",
     "output_type": "stream",
     "text": [
      "2011-11-21 10:00:49-06:00\n"
     ]
    },
    {
     "data": {
      "text/plain": [
       "Timestamp('2019-11-21 10:00:49-0600', tz='US/Central')"
      ]
     },
     "execution_count": 14,
     "metadata": {},
     "output_type": "execute_result"
    }
   ],
   "source": [
    "# importing pandas as pd \n",
    "import pandas as pd \n",
    "\n",
    "# Create the Timestamp object \n",
    "ts = pd.Timestamp(year = 2011, month = 11, day = 21, \n",
    "\t\t\t\thour = 10, second = 49, tz = 'US/Central') \n",
    "\n",
    "# Print the Timestamp object \n",
    "print(ts) \n",
    "\n",
    "# Now we will use the Timestamp.replace() function to replace the current year in the object with 2019.\n",
    "\n",
    "# replace year \n",
    "ts.replace(year = 2019) "
   ]
  },
  {
   "cell_type": "code",
   "execution_count": null,
   "metadata": {},
   "outputs": [],
   "source": [
    "  * Example #2: \n",
    "    \n",
    " => Use Timestamp.replace() function to replace the year, month and hour value in the given Timestamp.\n",
    "\n",
    " =>  output : As we can see in the output, the Timestamp.replace() function has returned a Timestamp object with year \n",
    "                 value equal to 2019, month value equal to 12 and hour value equal to 1."
   ]
  },
  {
   "cell_type": "code",
   "execution_count": 15,
   "metadata": {},
   "outputs": [
    {
     "name": "stdout",
     "output_type": "stream",
     "text": [
      "2009-05-31 04:00:49+02:00\n"
     ]
    },
    {
     "data": {
      "text/plain": [
       "Timestamp('2019-12-31 01:00:49+0100', tz='Europe/Berlin')"
      ]
     },
     "execution_count": 15,
     "metadata": {},
     "output_type": "execute_result"
    }
   ],
   "source": [
    "# importing pandas as pd \n",
    "import pandas as pd \n",
    "\n",
    "# Create the Timestamp object \n",
    "ts = pd.Timestamp(year = 2009, month = 5, day = 31, \n",
    "\t\t\t\thour = 4, second = 49, tz = 'Europe/Berlin') \n",
    "\n",
    "# Print the Timestamp object \n",
    "print(ts) \n",
    "\n",
    "#  Now we will use the Timestamp.replace() function to replace the current year, month and hour value in the object.\n",
    "\n",
    "# replace year, month and hour value \n",
    "ts.replace(year = 2019, month = 12, hour = 1) \n"
   ]
  },
  {
   "cell_type": "code",
   "execution_count": null,
   "metadata": {},
   "outputs": [],
   "source": [
    "       ############    ##########    Pandas.to_datetime()   ############   ###########"
   ]
  },
  {
   "cell_type": "code",
   "execution_count": null,
   "metadata": {},
   "outputs": [],
   "source": [
    " =>  When a csv file is imported and a Data Frame is made, the Date time objects in the file are read as\n",
    "        a string object rather a Date Time object and Hence it’s very tough to perform operations like \n",
    "        Time difference on a string rather a Date Time object.\n",
    "        \n",
    " =>  Pandas to_datetime() method helps to convert string Date time into Python Date time object.\n",
    "\n",
    " =>  Return type: Date time object series."
   ]
  },
  {
   "cell_type": "markdown",
   "metadata": {},
   "source": [
    "<img src=\"images/date1.png\">"
   ]
  },
  {
   "cell_type": "markdown",
   "metadata": {},
   "source": [
    "<img src=\"images/date2.png\">"
   ]
  },
  {
   "cell_type": "code",
   "execution_count": null,
   "metadata": {},
   "outputs": [],
   "source": [
    "  *  Example #1: String to Date\n",
    "\n",
    " =>  In the following example, a csv file is read and the date column of Data frame is converted into Date Time \n",
    "        object from a string object.\n",
    "    \n",
    " =>  Output: As shown in the image, the Data Type of Date column was object but after using to_datetime(), \n",
    "               it got converted into a date time object."
   ]
  },
  {
   "cell_type": "raw",
   "metadata": {},
   "source": [
    "# importing pandas package \n",
    "import pandas as pd \n",
    "\n",
    "# making data frame from csv file \n",
    "data = pd.read_csv(\"todatetime.csv\") \n",
    "\n",
    "# overwriting data after changing format \n",
    "data[\"Date\"]= pd.to_datetime(data[\"Date\"]) \n",
    "\n",
    "# info of data \n",
    "data.info() \n",
    "\n",
    "# display \n",
    "data \n"
   ]
  },
  {
   "cell_type": "markdown",
   "metadata": {},
   "source": [
    "[pandas.to_datetime() link](https://www.geeksforgeeks.org/python-pandas-to_datetime/)"
   ]
  },
  {
   "cell_type": "code",
   "execution_count": null,
   "metadata": {},
   "outputs": [],
   "source": [
    "  *  Example #2: Exception while converting Time\n",
    "\n",
    " =>  Time object can also be converted with this method. But since in the Time column, a date isn’t specified\n",
    "       and hence Pandas will put Today’s date automatically in that case.\n",
    "    \n",
    " => Output: As shown in the output, a date (2018-07-07) that is Today’s date is already added with the Date time \n",
    "             object."
   ]
  },
  {
   "cell_type": "raw",
   "metadata": {},
   "source": [
    "# import pandas as pd \n",
    "\n",
    "# making data frame from csv file \n",
    "data = pd.read_csv(\"todatetime.csv\") \n",
    "\n",
    "# overwriting data after changing format \n",
    "data[\"Time\"]= pd.to_datetime(data[\"Time\"]) \n",
    "\n",
    "# info of data \n",
    "data.info() \n",
    "\n",
    "# display \n",
    "data "
   ]
  },
  {
   "cell_type": "code",
   "execution_count": null,
   "metadata": {},
   "outputs": [],
   "source": [
    "###########   ############   pandas.date_range() method   ############    #############"
   ]
  },
  {
   "cell_type": "code",
   "execution_count": null,
   "metadata": {},
   "outputs": [],
   "source": [
    " =>  pandas.date_range() is one of the general functions in Pandas which is used to return a fixed frequency \n",
    "           DatetimeIndex.\n",
    "    \n",
    " =>  Syntax: pandas.date_range(start=None, end=None, periods=None, freq=None, tz=None, normalize=False, name=None, \n",
    "                closed=None, **kwargs)\n",
    "\n",
    "\n",
    "    =>   Parameters :-\n",
    "\n",
    "          * start : Left bound for generating dates.\n",
    "\n",
    "          * end : Right bound for generating dates.\n",
    "\n",
    "          * periods : Number of periods to generate.\n",
    "\n",
    "          * freq : Frequency strings can have multiples, e.g. ‘5H’. See here for a list of frequency aliases.\n",
    "\n",
    "          *  tz : Time zone name for returning localized DatetimeIndex. \n",
    "                     By default, the resulting DatetimeIndex is timezone-naive.\n",
    "\n",
    "          * normalize : Normalize start/end dates to midnight before generating date range.\n",
    "\n",
    "          * name : Name of the resulting DatetimeIndex.\n",
    "\n",
    "          * closed : Make the interval closed with respect to the given frequency to the ‘left’, ‘right’, or both sides (None, the default).\n",
    "\n",
    "          * Returns: DatetimeIndex"
   ]
  },
  {
   "cell_type": "markdown",
   "metadata": {},
   "source": [
    "[ pandas.date_range() method ](https://www.geeksforgeeks.org/python-pandas-date_range-method/)"
   ]
  },
  {
   "cell_type": "code",
   "execution_count": 20,
   "metadata": {},
   "outputs": [
    {
     "name": "stdout",
     "output_type": "stream",
     "text": [
      "2018-01-01 00:00:00\n",
      "2018-01-01 05:00:00\n",
      "2018-01-01 10:00:00\n",
      "2018-01-01 15:00:00\n",
      "2018-01-01 20:00:00\n",
      "2018-01-02 01:00:00\n",
      "2018-01-02 06:00:00\n",
      "2018-01-02 11:00:00\n",
      "2018-01-02 16:00:00\n",
      "2018-01-02 21:00:00\n",
      "2018-01-03 02:00:00\n",
      "2018-01-03 07:00:00\n",
      "2018-01-03 12:00:00\n",
      "2018-01-03 17:00:00\n",
      "2018-01-03 22:00:00\n",
      "2018-01-04 03:00:00\n",
      "2018-01-04 08:00:00\n",
      "2018-01-04 13:00:00\n",
      "2018-01-04 18:00:00\n",
      "2018-01-04 23:00:00\n"
     ]
    }
   ],
   "source": [
    "# importing pandas as pd \n",
    "import pandas as pd \n",
    "\n",
    "per1 = pd.date_range(start ='1-1-2018', \n",
    "\t\tend ='1-05-2018', freq ='5H') \n",
    "\n",
    "for val in per1: \n",
    "\tprint(val) "
   ]
  },
  {
   "cell_type": "code",
   "execution_count": 21,
   "metadata": {},
   "outputs": [
    {
     "name": "stdout",
     "output_type": "stream",
     "text": [
      "DatetimeIndex(['2018-01-31', '2018-02-28', '2018-03-31', '2018-04-30',\n",
      "               '2018-05-31', '2018-06-30', '2018-07-31'],\n",
      "              dtype='datetime64[ns]', freq='M') \n",
      "\n",
      " DatetimeIndex(['2018-01-31', '2018-04-30', '2018-07-31', '2018-10-31'], dtype='datetime64[ns]', freq='3M')\n"
     ]
    }
   ],
   "source": [
    "# importing pandas as pd \n",
    "import pandas as pd \n",
    "\n",
    "dRan1 = pd.date_range(start ='1-1-2018', \n",
    "\t\tend ='8-01-2018', freq ='M') \n",
    "\n",
    "dRan2 = pd.date_range(start ='1-1-2018', \n",
    "\t\tend ='11-01-2018', freq ='3M') \n",
    "\n",
    "print(dRan1, '\\n\\n', dRan2) \n"
   ]
  },
  {
   "cell_type": "code",
   "execution_count": 22,
   "metadata": {},
   "outputs": [
    {
     "name": "stdout",
     "output_type": "stream",
     "text": [
      "DatetimeIndex(['2018-01-01', '2018-01-02', '2018-01-03', '2018-01-04',\n",
      "               '2018-01-05', '2018-01-06', '2018-01-07', '2018-01-08',\n",
      "               '2018-01-09', '2018-01-10', '2018-01-11', '2018-01-12',\n",
      "               '2018-01-13'],\n",
      "              dtype='datetime64[ns]', freq='D') \n",
      "\n",
      " DatetimeIndex(['2017-12-20', '2017-12-21', '2017-12-22', '2017-12-23',\n",
      "               '2017-12-24', '2017-12-25', '2017-12-26', '2017-12-27',\n",
      "               '2017-12-28', '2017-12-29', '2017-12-30', '2017-12-31',\n",
      "               '2018-01-01'],\n",
      "              dtype='datetime64[ns]', freq='D') \n",
      "\n",
      " DatetimeIndex(['2017-01-03 00:00:00', '2017-02-02 06:00:00',\n",
      "               '2017-03-04 12:00:00', '2017-04-03 18:00:00',\n",
      "               '2017-05-04 00:00:00', '2017-06-03 06:00:00',\n",
      "               '2017-07-03 12:00:00', '2017-08-02 18:00:00',\n",
      "               '2017-09-02 00:00:00', '2017-10-02 06:00:00',\n",
      "               '2017-11-01 12:00:00', '2017-12-01 18:00:00',\n",
      "               '2018-01-01 00:00:00'],\n",
      "              dtype='datetime64[ns]', freq=None)\n"
     ]
    }
   ],
   "source": [
    "# importing pandas as pd \n",
    "import pandas as pd \n",
    "\n",
    "# Specify start and periods, the number of periods (days). \n",
    "dRan1 = pd.date_range(start ='1-1-2018', periods = 13) \n",
    "\n",
    "# Specify end and periods, the number of periods (days). \n",
    "dRan2 = pd.date_range(end ='1-1-2018', periods = 13) \n",
    "\n",
    "# Specify start, end, and periods; the frequency \n",
    "# is generated automatically (linearly spaced). \n",
    "dRan3 = pd.date_range(start ='01-03-2017', \n",
    "\t\t\tend ='1-1-2018', periods = 13) \n",
    "\n",
    "print(dRan1, \"\\n\\n\", dRan2, '\\n\\n', dRan3) \n"
   ]
  },
  {
   "cell_type": "code",
   "execution_count": 23,
   "metadata": {},
   "outputs": [
    {
     "data": {
      "text/plain": [
       "DatetimeIndex(['2018-01-01 00:00:00+09:00', '2018-01-02 00:00:00+09:00',\n",
       "               '2018-01-03 00:00:00+09:00', '2018-01-04 00:00:00+09:00',\n",
       "               '2018-01-05 00:00:00+09:00', '2018-01-06 00:00:00+09:00',\n",
       "               '2018-01-07 00:00:00+09:00', '2018-01-08 00:00:00+09:00',\n",
       "               '2018-01-09 00:00:00+09:00', '2018-01-10 00:00:00+09:00',\n",
       "               '2018-01-11 00:00:00+09:00', '2018-01-12 00:00:00+09:00',\n",
       "               '2018-01-13 00:00:00+09:00'],\n",
       "              dtype='datetime64[ns, Asia/Tokyo]', freq='D')"
      ]
     },
     "execution_count": 23,
     "metadata": {},
     "output_type": "execute_result"
    }
   ],
   "source": [
    "# importing pandas as pd \n",
    "import pandas as pd \n",
    "\n",
    "# Specify start and periods, the number of periods (days). \n",
    "dRan1 = pd.date_range(start ='1-1-2018', \n",
    "\tperiods = 13, tz ='Asia/Tokyo') \n",
    "\n",
    "dRan1 \n"
   ]
  },
  {
   "cell_type": "code",
   "execution_count": null,
   "metadata": {},
   "outputs": [],
   "source": []
  },
  {
   "cell_type": "code",
   "execution_count": null,
   "metadata": {},
   "outputs": [],
   "source": []
  },
  {
   "cell_type": "code",
   "execution_count": null,
   "metadata": {},
   "outputs": [],
   "source": []
  },
  {
   "cell_type": "code",
   "execution_count": null,
   "metadata": {},
   "outputs": [],
   "source": []
  }
 ],
 "metadata": {
  "kernelspec": {
   "display_name": "Python 3",
   "language": "python",
   "name": "python3"
  },
  "language_info": {
   "codemirror_mode": {
    "name": "ipython",
    "version": 3
   },
   "file_extension": ".py",
   "mimetype": "text/x-python",
   "name": "python",
   "nbconvert_exporter": "python",
   "pygments_lexer": "ipython3",
   "version": "3.7.6"
  }
 },
 "nbformat": 4,
 "nbformat_minor": 4
}
