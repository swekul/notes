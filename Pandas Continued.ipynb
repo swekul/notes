{
 "cells": [
  {
   "cell_type": "code",
   "execution_count": null,
   "metadata": {},
   "outputs": [],
   "source": [
    "      ##############    ############   Some more topics of Pandas    #############    ##############"
   ]
  },
  {
   "cell_type": "markdown",
   "metadata": {},
   "source": [
    "[Pandas.apply()](https://www.geeksforgeeks.org/python-pandas-apply/)\n",
    "\n"
   ]
  },
  {
   "cell_type": "markdown",
   "metadata": {},
   "source": [
    "[Apply function to every row in a Pandas DataFrame](https://www.geeksforgeeks.org/apply-function-to-every-row-in-a-pandas-dataframe/)\n",
    "\n"
   ]
  },
  {
   "cell_type": "markdown",
   "metadata": {},
   "source": [
    "[Pandas Series.apply()](https://www.geeksforgeeks.org/python-pandas-series-apply/)\n",
    "\n"
   ]
  },
  {
   "cell_type": "markdown",
   "metadata": {},
   "source": [
    "[Pandas dataframe.aggregate()](https://www.geeksforgeeks.org/python-pandas-dataframe-aggregate/)\n",
    "\n"
   ]
  },
  {
   "cell_type": "markdown",
   "metadata": {},
   "source": [
    "[Pandas dataframe.mean()](https://www.geeksforgeeks.org/python-pandas-dataframe-mean/)\n",
    "\n"
   ]
  },
  {
   "cell_type": "markdown",
   "metadata": {},
   "source": [
    "[Pandas Series.mean()](https://www.geeksforgeeks.org/python-pandas-series-mean/)\n",
    "\n"
   ]
  },
  {
   "cell_type": "markdown",
   "metadata": {},
   "source": [
    "[Pandas dataframe.mad()](https://www.geeksforgeeks.org/python-pandas-dataframe-mad/)\n"
   ]
  },
  {
   "cell_type": "markdown",
   "metadata": {},
   "source": [
    "\n",
    "[Pandas Series.mad() to calculate Mean Absolute Deviation of a Series](https://www.geeksforgeeks.org/python-pandas-series-mad-to-calculate-mean-absolute-deviation-of-a-series/)\n",
    "\n"
   ]
  },
  {
   "cell_type": "markdown",
   "metadata": {},
   "source": [
    "[Pandas dataframe.sem()](https://www.geeksforgeeks.org/python-pandas-dataframe-sem/)\n",
    "\n"
   ]
  },
  {
   "cell_type": "markdown",
   "metadata": {},
   "source": [
    "[Pandas Series.value_counts()](https://www.geeksforgeeks.org/python-pandas-series-value_counts/)\n"
   ]
  },
  {
   "cell_type": "markdown",
   "metadata": {},
   "source": [
    "\n",
    "[Pandas Index.value_counts()](https://www.geeksforgeeks.org/python-pandas-index-value_counts/)\n"
   ]
  },
  {
   "cell_type": "markdown",
   "metadata": {},
   "source": [
    "\n",
    "[For tutorial, click here](https://www.geeksforgeeks.org/pandas-tutorial/)"
   ]
  }
 ],
 "metadata": {
  "kernelspec": {
   "display_name": "Python 3",
   "language": "python",
   "name": "python3"
  },
  "language_info": {
   "codemirror_mode": {
    "name": "ipython",
    "version": 3
   },
   "file_extension": ".py",
   "mimetype": "text/x-python",
   "name": "python",
   "nbconvert_exporter": "python",
   "pygments_lexer": "ipython3",
   "version": "3.7.6"
  }
 },
 "nbformat": 4,
 "nbformat_minor": 4
}
