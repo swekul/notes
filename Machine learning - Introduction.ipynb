{
 "cells": [
  {
   "cell_type": "code",
   "execution_count": 1,
   "metadata": {},
   "outputs": [],
   "source": [
    "          ##############    ############    Machine learning    ##############    ##############"
   ]
  },
  {
   "cell_type": "code",
   "execution_count": null,
   "metadata": {},
   "outputs": [],
   "source": [
    " =>  Machine Learning is the field of study that gives computers the capability to learn without being explicitly programmed.\n",
    "    \n",
    " =>  The term Machine Learning was coined by Arthur Samuel in 1959, an American pioneer in the field of computer gaming \n",
    "        and artificial intelligence .\n",
    "    \n",
    " =>  In 1997, Tom Mitchell gave a “well-posed” mathematical and relational definition that -\n",
    "       “A computer program is said to learn from experience E with respect to some task T and some performance measure P,\n",
    "         if its performance on T, as measured by P, improves with experience E ."
   ]
  },
  {
   "cell_type": "code",
   "execution_count": null,
   "metadata": {},
   "outputs": [],
   "source": [
    "     ############    ##########   Basic Difference in ML and Traditional Programming?    ##########    ##############\n",
    "\n",
    " =>  Traditional Programming : We feed in DATA (Input) + PROGRAM (logic), run it on machine and get output.\n",
    "\n",
    " =>  Machine Learning : We feed in DATA(Input) + Output, run it on machine during training and the machine creates\n",
    "                           its own program(logic), which can be evaluated while testing."
   ]
  },
  {
   "cell_type": "code",
   "execution_count": null,
   "metadata": {},
   "outputs": [],
   "source": [
    "          ############   ##########   What does exactly learning means for a computer?    ############    ###############\n",
    "\n",
    " =>  A computer is said to be learning from Experiences with respect to some class of Tasks, if its performance \n",
    "          in a given Task improves with the Experience.\n",
    "\n",
    " =>  A computer program is said to learn from experience E with respect to some class of tasks T and performance measure P,\n",
    "          if its performance at tasks in T, as measured by P, improves with experience E.\n",
    "    \n",
    "         \n",
    "        *  Example: playing checkers.\n",
    "    E = the experience of playing many games of checkers\n",
    "    T = the task of playing checkers.\n",
    "    P = the probability that the program will win the next game\n",
    "\n",
    " => In general, any machine learning problem can be assigned to one of two broad classifications:\n",
    "        Supervised learning and Unsupervised learning."
   ]
  },
  {
   "cell_type": "code",
   "execution_count": null,
   "metadata": {},
   "outputs": [],
   "source": [
    "             ###########   ###########   How things work in reality ?    #############    ###########\n",
    "\n",
    "*  Talking about online shopping, there are millions of users with an unlimited range of interests with respect to brands,\n",
    "    colors, price range and many more. While online shopping, buyers tend to search for a number of products.\n",
    "    \n",
    "*  Now, searching a product frequently will make buyer’s Facebook, web pages, search engine or that online store\n",
    "         start recommending or showing offers on that particular product. \n",
    "   \n",
    "*  There is no one sitting over there to code such task for each and every user, all this task is completely automatic.\n",
    "    Here, ML plays its role.\n",
    "    \n",
    "*  Researchers, data scientists, machine learners build models on the machine using good quality and a huge amount of data \n",
    "     and now their machine is automatically performing and even improving with more and more experience and time.\n",
    "\n",
    "*  Traditionally, the advertisement was only done using newspapers, magazines and radio but now technology has made us \n",
    "     smart enough to do Targeted advertisement (online ad system) which is a way more efficient method to target\n",
    "       most receptive audience.\n",
    " \n",
    "*  Even in health care also, ML is doing a fabulous job.\n",
    "*  Researchers and scientists have prepared models to train machines for detecting cancer just by looking at \n",
    "       slide – cell images.\n",
    "\n",
    "*  For humans to perform this task it would have taken a lot of time. \n",
    "\n",
    "*  But now, no more delay, machines predict the chances of having or not having cancer with some accuracy and doctors just\n",
    "     have to give an assurance call, that’s it. \n",
    "    \n",
    "*  The answer to – how is this possible is very simple -all that is required, is, high computation machine, \n",
    "     a large amount of good quality image data, ML model with good algorithms to achieve state-of-the-art results.\n",
    "\n",
    "*  Doctors are using ML even to diagnose patients based on different parameters under consideration.\n",
    " \n",
    "*  You all might have use IMDB ratings, Google Photos where it recognizes faces, Google Lens where the ML image-text\n",
    "      recognition model can extract text from the images you feed in, Gmail which categories E-mail as social, promotion, \n",
    "    updates or forum using text classification,which is a part of ML."
   ]
  },
  {
   "cell_type": "code",
   "execution_count": null,
   "metadata": {},
   "outputs": [],
   "source": [
    "        ############     ############    How Machine Learning works in reality ?    ###########    #############\n",
    "\n",
    " =>  Gathering past data in any form suitable for processing.\n",
    "    The better the quality of data, the more suitable it will be for modeling, Data Processing.\n",
    "     Sometimes, the data collected is in the raw form and it needs to be pre-processed.\n",
    "\n",
    " => Example: Some tuples may have missing values for certain attributes, an, in this case, it has to be filled with \n",
    "               suitable values in order to perform machine learning or any form of data mining.\n",
    "\n",
    " =>  Missing values for numerical attributes such as the price of the house may be replaced with the mean value \n",
    "      of the attribute whereas missing values for categorical attributes may be replaced with the attribute with the highest\n",
    "       mode. \n",
    "        \n",
    " =>  This invariably depends on the types of filters we use. \n",
    "\n",
    " =>  If data is in the form of text or images then converting it to numerical form will be required,\n",
    "       be it a list or array or matrix. Simply, Data is to be made relevant and consistent. \n",
    " =>  It is to be converted into a format understandable by the machine.\n",
    "\n",
    " =>  Divide the input data into training,cross-validation and test sets. \n",
    "    \n",
    " =>  The ratio between the respective sets must be 6:2:2.\n",
    " =>  Building models with suitable algorithms and techniques on the training set.\n",
    "\n",
    " =>  Testing our conceptualized model with data which was not fed to the model at the time of training and evaluating its\n",
    "        performance using metrics such as F1 score, precision and recall.\n",
    " "
   ]
  },
  {
   "cell_type": "code",
   "execution_count": null,
   "metadata": {},
   "outputs": [],
   "source": [
    "       ##############    ###########   Categorizing on the basis of required Output   ##########   ###############\n",
    "    \n",
    "*  Classification  ->   When inputs are divided into two or more classes, and the learner must produce a model that assigns\n",
    "                           unseen inputs to one or more (multi-label classification) of these classes.\n",
    "                         This is typically tackled in a supervised way.\n",
    "                          \n",
    "                         Spam filtering is an example of classification, where the inputs are email (or other) messages \n",
    "                             and the classes are “spam” and “not spam”.\n",
    "                    \n",
    "*  Regression : Which is also a supervised problem, A case when the outputs are continuous rather than discrete.\n",
    "    \n",
    "*  Clustering : When a set of inputs is to be divided into groups. Unlike in classification, the groups are not known\n",
    "                   beforehand, making this typically an unsupervised task."
   ]
  },
  {
   "cell_type": "code",
   "execution_count": null,
   "metadata": {},
   "outputs": [],
   "source": [
    "     #############   ##########  Detailed explaination ofTypes of Machine Learning problems  #########   ##############\n",
    "    \n",
    " =>  On the basis of these machine learning tasks/problems, we have a number of algorithms which are used to accomplish \n",
    "       these tasks. \n",
    "    \n",
    " =>  Some commonly used machine learning algorithms are following.\n",
    "\n",
    "      Linear Regression, Logistic Regression, Decision Tree, SVM (Support vector machines), Naive Bayes,\n",
    "     \n",
    "          KNN (K nearest neighbors), K-Means, Random Forest, etc."
   ]
  },
  {
   "cell_type": "code",
   "execution_count": null,
   "metadata": {},
   "outputs": [],
   "source": [
    "  ########### 1 -> On basis of the nature of the learning “signal” or “feedback” available to a learning system   ###########"
   ]
  },
  {
   "cell_type": "code",
   "execution_count": null,
   "metadata": {},
   "outputs": [],
   "source": [
    "               ############    ###########    Supervised learning   ##########     ##############\n",
    "    \n",
    " =>  The computer is presented with example inputs and their desired outputs, given by a “teacher”, and the goal is to learn\n",
    "       a general rule that maps inputs to outputs.\n",
    "                        \n",
    " =>  The training process continues until the model achieves the desired level of accuracy on the training data.\n",
    " \n",
    " =>  Some real-life examples are:\n",
    "\n",
    "   * Image Classification: You train with images/labels. Then in the future you give a new image expecting that \n",
    "                             the computer will recognize the new object.\n",
    "\n",
    "   * Market Prediction/Regression: You train the computer with historical market data and ask the computer to predict the \n",
    "                                     new price in the future."
   ]
  },
  {
   "cell_type": "markdown",
   "metadata": {},
   "source": [
    "<img src=\"images/supervised.png\">"
   ]
  },
  {
   "cell_type": "code",
   "execution_count": null,
   "metadata": {},
   "outputs": [],
   "source": [
    "               ############    ###########    Unsupervised learning   ##########    ##############\n",
    "    \n",
    " =>  No labels are given to the learning algorithm, leaving it on its own to find structure in its input. \n",
    "     \n",
    " =>  It is used for clustering population in different groups.\n",
    "\n",
    " =>  Unsupervised learning can be a goal in itself (discovering hidden patterns in data).\n",
    "    \n",
    "    * Clustering: You ask the computer to separate similar data into clusters, this is essential in research and science.\n",
    "\n",
    "    * High Dimension Visualization: Use the computer to help us visualize high dimension data.\n",
    "\n",
    "    * Generative Models: After a model captures the probability distribution of your input data, it will be able\n",
    "                           to generate more data. This can be very useful to make your classifier more robust.\n",
    "            \n",
    " =>  The data in supervised learning is labelled, where as data in unsupervised learning is unlabelled."
   ]
  },
  {
   "cell_type": "markdown",
   "metadata": {},
   "source": [
    "<img src=\"images/unsupervised.png\">"
   ]
  },
  {
   "cell_type": "code",
   "execution_count": null,
   "metadata": {},
   "outputs": [],
   "source": [
    "               ############    ###########    Semi-Supervised learning    ##########    ##############\n",
    "    \n",
    " =>  Problems where we have a large amount of input data and only some of the data is labeled, \n",
    "      Then these data are called semi-supervised learning problems.\n",
    "     These problems sit in between both supervised and unsupervised learning.\n",
    "        \n",
    " =>  For example, a photo archive where only some of the images are labeled, (e.g. dog, cat, person) and \n",
    "          the majority are unlabeled."
   ]
  },
  {
   "cell_type": "code",
   "execution_count": null,
   "metadata": {},
   "outputs": [],
   "source": [
    "              ############    ###########    Reinforcement  learning    ##########    ##############\n",
    "\n",
    "=>   A computer program interacts with a dynamic environment in which it must perform a certain goal\n",
    "      (such as driving a vehicle or playing a game against an opponent).\n",
    "    \n",
    " =>  The program is provided feedback in terms of rewards and punishments as it navigates its problem space."
   ]
  },
  {
   "cell_type": "markdown",
   "metadata": {},
   "source": [
    "<img src='images/reinforcement.png'> "
   ]
  },
  {
   "cell_type": "code",
   "execution_count": null,
   "metadata": {},
   "outputs": [],
   "source": [
    "   ############   ######   2. On the basis of “output” desired from a machine learned system    ###########   ###############"
   ]
  },
  {
   "cell_type": "code",
   "execution_count": null,
   "metadata": {},
   "outputs": [],
   "source": [
    "          ###############    ############   Classification In Machine learning    #############   ###############\n",
    "    \n",
    " =>   Inputs are divided into two or more classes, and the learner must produce a model that assigns unseen inputs to\n",
    "        one or more (multi-label classification) of these classes. \n",
    "     This is typically tackled in a supervised way. \n",
    "        \n",
    " =>  Spam filtering is an example of classification, where the inputs are email (or other) messages and the classes are “spam”\n",
    "        and “not spam”.\n",
    "    \n",
    " \n",
    "         ##############    #############   Regression  In Machine learning    #############   ###############\n",
    "    \n",
    " =>   It is also a supervised learning problem, but the outputs are continuous rather than discrete. \n",
    "          For example, predicting the stock prices using historical data."
   ]
  },
  {
   "cell_type": "markdown",
   "metadata": {},
   "source": [
    "<img src='images/classification.png'>"
   ]
  },
  {
   "cell_type": "code",
   "execution_count": null,
   "metadata": {},
   "outputs": [],
   "source": [
    "           ##############    #############   Clustering In Machine learning    #############   ###############\n",
    "    \n",
    " =>  Here, a set of inputs is to be divided into groups. Unlike in classification, the groups are not known beforehand, \n",
    "         making this typically an unsupervised task.\n",
    " \n",
    " =>  As you can see in the example below, the given dataset points have been divided into groups identifiable by\n",
    "         the colors red, green and blue.\n",
    "        \n"
   ]
  },
  {
   "cell_type": "markdown",
   "metadata": {},
   "source": [
    "<img src='images/clustering.png'>"
   ]
  },
  {
   "cell_type": "code",
   "execution_count": null,
   "metadata": {},
   "outputs": [],
   "source": [
    "         ##############    #############   Density estimation in Machine learning    #############   ###############\n",
    "    \n",
    " =>   The task is to find the distribution of inputs in some space.\n",
    "\n",
    "        ##############    #############   Dimensionality Reduction In Machine learning    #############   ###############\n",
    "    \n",
    " =>  It simplifies inputs by mapping them into a lower-dimensional space. \n",
    "       \n",
    " =>  Topic modeling is a related problem, where a program is given a list of human language documents and is tasked \n",
    "        to find out which documents cover similar topics."
   ]
  },
  {
   "cell_type": "code",
   "execution_count": null,
   "metadata": {},
   "outputs": [],
   "source": [
    "          ##############    ############    Terminologies of Machine Learning     #############   ###############\n",
    "   \n",
    " * Model  ->  A model is a specific representation learned from data by applying some machine learning algorithm.\n",
    "                 A model is also called hypothesis.\n",
    "\n",
    " \n",
    " * Feature  -> A feature is an individual measurable property of our data. \n",
    "               A set of numeric features can be conveniently described by a 'Feature vector'. \n",
    "               Feature vectors are fed as input to the model. For example, in order to predict a fruit, \n",
    "                 there may be features like color, smell, taste, etc.\n",
    "   \n",
    "   => Note: Choosing informative, discriminating and independent features is a crucial step for effective algorithms.\n",
    "              We generally employ a feature extractor to extract the relevant features from the raw data.\n",
    "\n",
    "\n",
    "* Target (Label)  -> A target variable or label is the value to be predicted by our model. \n",
    "                        For the fruit example discussed in the features section, the label with each set of input would be\n",
    "                          the name of the fruit like apple, orange, banana, etc.\n",
    "\n",
    " \n",
    " * Training  ->  The idea is to give a set of inputs(features) and it’s expected outputs(labels), so after training,\n",
    "                   we will have a model (hypothesis) that will then map new data to one of the categories trained on.\n",
    "\n",
    "\n",
    " * Prediction  ->  Once our model is ready, it can be fed a set of inputs to which it will provide a predicted output(label).\n",
    "\n"
   ]
  },
  {
   "cell_type": "markdown",
   "metadata": {},
   "source": [
    "<img src='images/training.png'>"
   ]
  },
  {
   "cell_type": "code",
   "execution_count": null,
   "metadata": {},
   "outputs": [],
   "source": [
    "      ###########   ##############   Types of Learning – Supervised Learning    ###########    ###############"
   ]
  },
  {
   "cell_type": "code",
   "execution_count": null,
   "metadata": {},
   "outputs": [],
   "source": [
    "        ##############   ###########   What is Learning for a machine ?     #############     ###############\n",
    "\n",
    " =>  A machine is said to be learning from past Experiences(data feed in) with respect to some class of Tasks,\n",
    "      if it’s Performance in a given Task improves with the Experience.For example, assume that a machine has to predict\n",
    "       whether a customer will buy a specific product lets say “Antivirus” this year or not.\n",
    "        \n",
    " =>  The machine will do it by looking at the previous knowledge/past experiences.\n",
    "     i.e the data of products that the customer had bought every year and if he buys Antivirus every year, \n",
    "      then there is a high probability that the customer is going to buy an antivirus this year as well.\n",
    "        \n",
    " =>  This is how machine learning works at the basic conceptual level."
   ]
  },
  {
   "cell_type": "markdown",
   "metadata": {},
   "source": [
    "<img src='images/ml-train-test.png'>\n",
    "<img src='images/ml-cat.png'>"
   ]
  },
  {
   "cell_type": "code",
   "execution_count": null,
   "metadata": {},
   "outputs": [],
   "source": [
    "        ############    ############   Supervised Learning   ############    ##############\n",
    " \n",
    " =>  Supervised learning is when the model is getting trained on a labelled dataset.\n",
    "  \n",
    " =>  Labelled dataset is one which have both input and output parameters. In this type of learning both training and validation \n",
    "       datasets are labelled as shown in the figures below.\n",
    "        \n",
    " =>  Both the above figures have labelled data set  –\n",
    "\n",
    "  * Figure A ->  It is a dataset of a shopping store which is useful in predicting whether a customer will purchase a \n",
    "                   particular product under consideration or not based on his/ her gender, age and salary.\n",
    "  \n",
    "                 Input  : Gender, Age, Salary\n",
    "                 Output : Purchased i.e. 0 or 1 ;  1 means yes the customer will purchase and 0 means not purchase.\n",
    "\n",
    "  * Figure B -> It is a Meteorological dataset which serves the purpose of predicting wind speed based on different parameters.\n",
    "\n",
    "                 Input  : Dew Point, Temperature, Pressure, Relative Humidity, Wind Direction\n",
    "                 Output : Wind Speed"
   ]
  },
  {
   "cell_type": "markdown",
   "metadata": {},
   "source": [
    "<img src=\"images/ml reg vs class.png\">"
   ]
  },
  {
   "cell_type": "code",
   "execution_count": null,
   "metadata": {},
   "outputs": [],
   "source": [
    "                 #############   #############   Trainining the System   ###########     ###############\n",
    " \n",
    " =>  While training the model, data is usually split in the ratio of 80:20.  \n",
    "      i.e. 80% as training data and rest as testing data. \n",
    "    \n",
    " =>  In training data, we feed input as well as output for 80% data and the model learns from training data only.\n",
    "\n",
    " =>  We use different machine learning algorithms to build our model and by learning, it means that the model will build \n",
    "        some logic of its own.\n",
    "\n",
    " =>  Once the model is ready then it is good to be tested.\n",
    "\n",
    " =>  At the time of testing, the input is fed from the remaining 20% data which the model has never seen before, \n",
    "        the model will predict some value and we will compare it with actual output and calculate the accuracy."
   ]
  },
  {
   "cell_type": "markdown",
   "metadata": {},
   "source": [
    "<img src = 'images/ML SL-type.png'>"
   ]
  },
  {
   "cell_type": "code",
   "execution_count": null,
   "metadata": {},
   "outputs": [],
   "source": [
    "           ############    ###########   Types of Supervised Learning    ##############    ##############"
   ]
  },
  {
   "cell_type": "code",
   "execution_count": null,
   "metadata": {},
   "outputs": [],
   "source": [
    "          ##############    ##############   Regression  in Machine Learning     ##############    ##############\n",
    "\n",
    " =>   Regression is a Supervised Learning task where output is having continuous value.\n",
    "\n",
    " =>  Example in above Figure B, Output Wind Speed is not having any discrete value but is continuous in the particular range. \n",
    "     \n",
    " =>  The goal here is to predict a value as much closer to actual output value as our model can and then evaluation is done \n",
    "        by calculating error value. The smaller the error the greater the accuracy of our regression model."
   ]
  },
  {
   "cell_type": "code",
   "execution_count": null,
   "metadata": {},
   "outputs": [],
   "source": [
    "       ##############    ##############   Classification  in Machine Learning   ##############    ##############\n",
    "    \n",
    " =>  Classification is a Supervised Learning task where output is having defined labels(discrete value).\n",
    "\n",
    " =>  For example in above Figure A, Output – Purchased has defined labels i.e. 0 or 1 ; \n",
    "         1 means the customer will purchase and 0 means that customer won’t purchase. \n",
    "        \n",
    " =>  The goal here is to predict discrete values belonging to a particular class and evaluate on the basis of accuracy.\n",
    "\n",
    " =>  It can be either binary or multi class classification. \n",
    "    \n",
    " =>  In binary classification, model predicts either 0 or 1 ; yes or no but in case of multi class classification,\n",
    "          model predicts more than one class.\n",
    "         \n",
    "        Example: Gmail classifies mails in more than one classes like social, promotions, updates, forum."
   ]
  },
  {
   "cell_type": "code",
   "execution_count": null,
   "metadata": {},
   "outputs": [],
   "source": [
    "      ##############    ##############   Examples in Supevised Learning Algorithms  ##############    ##############\n",
    " \n",
    "   *  Linear Regression, LogisticRregression\n",
    "\n",
    "   *  Nearest Neighbor\n",
    "\n",
    "   *  Guassian Naive Bayes\n",
    "\n",
    "   *  Decision Trees\n",
    "\n",
    "   *  Support Vector Machine (SVM)\n",
    "\n",
    "   *  Random Forest    "
   ]
  },
  {
   "cell_type": "markdown",
   "metadata": {},
   "source": [
    "            ############   #############   Links for important pages   ############    ###########\n",
    "    \n",
    " *  [Some Interview questions for Machine learning](https://www.geeksforgeeks.org/10-basic-machine-learning-interview-questions/)\n",
    "\n",
    " *  [Ml Semi supervised learning](https://www.geeksforgeeks.org/ml-semi-supervised-learning/?ref=rp)\n",
    "    \n",
    " *  [supervised vs unsupervised](https://www.geeksforgeeks.org/difference-between-supervised-and-unsupervised-learning/?ref=rp)\n",
    "\n",
    " *  [Regression vs Classification](https://www.geeksforgeeks.org/regression-classification-supervised-machine-learning/?ref=rp)\n",
    "    \n",
    " *  [Reinforcement learning](https://www.geeksforgeeks.org/what-is-reinforcement-learning/?ref=rp)"
   ]
  }
 ],
 "metadata": {
  "kernelspec": {
   "display_name": "Python 3",
   "language": "python",
   "name": "python3"
  },
  "language_info": {
   "codemirror_mode": {
    "name": "ipython",
    "version": 3
   },
   "file_extension": ".py",
   "mimetype": "text/x-python",
   "name": "python",
   "nbconvert_exporter": "python",
   "pygments_lexer": "ipython3",
   "version": "3.7.6"
  }
 },
 "nbformat": 4,
 "nbformat_minor": 4
}
